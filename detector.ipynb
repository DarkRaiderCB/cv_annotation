{
  "cells": [
    {
      "cell_type": "code",
      "execution_count": 1,
      "metadata": {
        "colab": {
          "base_uri": "https://localhost:8080/"
        },
        "id": "bY56FAPbRTQi",
        "outputId": "f6330b47-2b75-4cba-b337-883ce6c66b38"
      },
      "outputs": [
        {
          "name": "stdout",
          "output_type": "stream",
          "text": [
            "Cloning into 'data'...\n",
            "remote: Enumerating objects: 119, done.\u001b[K\n",
            "remote: Counting objects: 100% (119/119), done.\u001b[K\n",
            "remote: Compressing objects: 100% (119/119), done.\u001b[K\n",
            "remote: Total 119 (delta 1), reused 0 (delta 0), pack-reused 0 (from 0)\u001b[K\n",
            "Receiving objects: 100% (119/119), 8.07 MiB | 14.09 MiB/s, done.\n",
            "Resolving deltas: 100% (1/1), done.\n"
          ]
        }
      ],
      "source": [
        "! git clone https://github.com/DarkRaiderCB/data.git"
      ]
    },
    {
      "cell_type": "code",
      "execution_count": 2,
      "metadata": {
        "colab": {
          "base_uri": "https://localhost:8080/"
        },
        "id": "i8mYvcCpS8W3",
        "outputId": "f3cadd06-2eae-43a8-a24a-a42859ed2363"
      },
      "outputs": [
        {
          "name": "stdout",
          "output_type": "stream",
          "text": [
            "Collecting ultralytics\n",
            "  Downloading ultralytics-8.3.51-py3-none-any.whl.metadata (35 kB)\n",
            "Requirement already satisfied: numpy>=1.23.0 in /usr/local/lib/python3.10/dist-packages (from ultralytics) (1.26.4)\n",
            "Requirement already satisfied: matplotlib>=3.3.0 in /usr/local/lib/python3.10/dist-packages (from ultralytics) (3.8.0)\n",
            "Requirement already satisfied: opencv-python>=4.6.0 in /usr/local/lib/python3.10/dist-packages (from ultralytics) (4.10.0.84)\n",
            "Requirement already satisfied: pillow>=7.1.2 in /usr/local/lib/python3.10/dist-packages (from ultralytics) (11.0.0)\n",
            "Requirement already satisfied: pyyaml>=5.3.1 in /usr/local/lib/python3.10/dist-packages (from ultralytics) (6.0.2)\n",
            "Requirement already satisfied: requests>=2.23.0 in /usr/local/lib/python3.10/dist-packages (from ultralytics) (2.32.3)\n",
            "Requirement already satisfied: scipy>=1.4.1 in /usr/local/lib/python3.10/dist-packages (from ultralytics) (1.13.1)\n",
            "Requirement already satisfied: torch>=1.8.0 in /usr/local/lib/python3.10/dist-packages (from ultralytics) (2.5.1+cu121)\n",
            "Requirement already satisfied: torchvision>=0.9.0 in /usr/local/lib/python3.10/dist-packages (from ultralytics) (0.20.1+cu121)\n",
            "Requirement already satisfied: tqdm>=4.64.0 in /usr/local/lib/python3.10/dist-packages (from ultralytics) (4.67.1)\n",
            "Requirement already satisfied: psutil in /usr/local/lib/python3.10/dist-packages (from ultralytics) (5.9.5)\n",
            "Requirement already satisfied: py-cpuinfo in /usr/local/lib/python3.10/dist-packages (from ultralytics) (9.0.0)\n",
            "Requirement already satisfied: pandas>=1.1.4 in /usr/local/lib/python3.10/dist-packages (from ultralytics) (2.2.2)\n",
            "Requirement already satisfied: seaborn>=0.11.0 in /usr/local/lib/python3.10/dist-packages (from ultralytics) (0.13.2)\n",
            "Collecting ultralytics-thop>=2.0.0 (from ultralytics)\n",
            "  Downloading ultralytics_thop-2.0.13-py3-none-any.whl.metadata (9.4 kB)\n",
            "Requirement already satisfied: contourpy>=1.0.1 in /usr/local/lib/python3.10/dist-packages (from matplotlib>=3.3.0->ultralytics) (1.3.1)\n",
            "Requirement already satisfied: cycler>=0.10 in /usr/local/lib/python3.10/dist-packages (from matplotlib>=3.3.0->ultralytics) (0.12.1)\n",
            "Requirement already satisfied: fonttools>=4.22.0 in /usr/local/lib/python3.10/dist-packages (from matplotlib>=3.3.0->ultralytics) (4.55.3)\n",
            "Requirement already satisfied: kiwisolver>=1.0.1 in /usr/local/lib/python3.10/dist-packages (from matplotlib>=3.3.0->ultralytics) (1.4.7)\n",
            "Requirement already satisfied: packaging>=20.0 in /usr/local/lib/python3.10/dist-packages (from matplotlib>=3.3.0->ultralytics) (24.2)\n",
            "Requirement already satisfied: pyparsing>=2.3.1 in /usr/local/lib/python3.10/dist-packages (from matplotlib>=3.3.0->ultralytics) (3.2.0)\n",
            "Requirement already satisfied: python-dateutil>=2.7 in /usr/local/lib/python3.10/dist-packages (from matplotlib>=3.3.0->ultralytics) (2.8.2)\n",
            "Requirement already satisfied: pytz>=2020.1 in /usr/local/lib/python3.10/dist-packages (from pandas>=1.1.4->ultralytics) (2024.2)\n",
            "Requirement already satisfied: tzdata>=2022.7 in /usr/local/lib/python3.10/dist-packages (from pandas>=1.1.4->ultralytics) (2024.2)\n",
            "Requirement already satisfied: charset-normalizer<4,>=2 in /usr/local/lib/python3.10/dist-packages (from requests>=2.23.0->ultralytics) (3.4.0)\n",
            "Requirement already satisfied: idna<4,>=2.5 in /usr/local/lib/python3.10/dist-packages (from requests>=2.23.0->ultralytics) (3.10)\n",
            "Requirement already satisfied: urllib3<3,>=1.21.1 in /usr/local/lib/python3.10/dist-packages (from requests>=2.23.0->ultralytics) (2.2.3)\n",
            "Requirement already satisfied: certifi>=2017.4.17 in /usr/local/lib/python3.10/dist-packages (from requests>=2.23.0->ultralytics) (2024.12.14)\n",
            "Requirement already satisfied: filelock in /usr/local/lib/python3.10/dist-packages (from torch>=1.8.0->ultralytics) (3.16.1)\n",
            "Requirement already satisfied: typing-extensions>=4.8.0 in /usr/local/lib/python3.10/dist-packages (from torch>=1.8.0->ultralytics) (4.12.2)\n",
            "Requirement already satisfied: networkx in /usr/local/lib/python3.10/dist-packages (from torch>=1.8.0->ultralytics) (3.4.2)\n",
            "Requirement already satisfied: jinja2 in /usr/local/lib/python3.10/dist-packages (from torch>=1.8.0->ultralytics) (3.1.4)\n",
            "Requirement already satisfied: fsspec in /usr/local/lib/python3.10/dist-packages (from torch>=1.8.0->ultralytics) (2024.10.0)\n",
            "Requirement already satisfied: sympy==1.13.1 in /usr/local/lib/python3.10/dist-packages (from torch>=1.8.0->ultralytics) (1.13.1)\n",
            "Requirement already satisfied: mpmath<1.4,>=1.1.0 in /usr/local/lib/python3.10/dist-packages (from sympy==1.13.1->torch>=1.8.0->ultralytics) (1.3.0)\n",
            "Requirement already satisfied: six>=1.5 in /usr/local/lib/python3.10/dist-packages (from python-dateutil>=2.7->matplotlib>=3.3.0->ultralytics) (1.17.0)\n",
            "Requirement already satisfied: MarkupSafe>=2.0 in /usr/local/lib/python3.10/dist-packages (from jinja2->torch>=1.8.0->ultralytics) (3.0.2)\n",
            "Downloading ultralytics-8.3.51-py3-none-any.whl (901 kB)\n",
            "\u001b[2K   \u001b[90m━━━━━━━━━━━━━━━━━━━━━━━━━━━━━━━━━━━━━━━━\u001b[0m \u001b[32m901.3/901.3 kB\u001b[0m \u001b[31m27.3 MB/s\u001b[0m eta \u001b[36m0:00:00\u001b[0m\n",
            "\u001b[?25hDownloading ultralytics_thop-2.0.13-py3-none-any.whl (26 kB)\n",
            "Installing collected packages: ultralytics-thop, ultralytics\n",
            "Successfully installed ultralytics-8.3.51 ultralytics-thop-2.0.13\n"
          ]
        }
      ],
      "source": [
        "! pip install ultralytics"
      ]
    },
    {
      "cell_type": "code",
      "execution_count": 3,
      "metadata": {
        "colab": {
          "base_uri": "https://localhost:8080/"
        },
        "id": "Q68ZELliTaqg",
        "outputId": "8e18ede6-355a-49d1-9beb-6d146bf19a28"
      },
      "outputs": [
        {
          "name": "stdout",
          "output_type": "stream",
          "text": [
            "Creating new Ultralytics Settings v0.0.6 file ✅ \n",
            "View Ultralytics Settings with 'yolo settings' or at '/root/.config/Ultralytics/settings.json'\n",
            "Update Settings with 'yolo settings key=value', i.e. 'yolo settings runs_dir=path/to/dir'. For help see https://docs.ultralytics.com/quickstart/#ultralytics-settings.\n",
            "Downloading https://github.com/ultralytics/assets/releases/download/v8.3.0/yolov8n-obb.pt to 'yolov8n-obb.pt'...\n"
          ]
        },
        {
          "name": "stderr",
          "output_type": "stream",
          "text": [
            "100%|██████████| 6.26M/6.26M [00:00<00:00, 137MB/s]\n"
          ]
        },
        {
          "name": "stdout",
          "output_type": "stream",
          "text": [
            "Ultralytics 8.3.51 🚀 Python-3.10.12 torch-2.5.1+cu121 CUDA:0 (Tesla T4, 15102MiB)\n",
            "\u001b[34m\u001b[1mengine/trainer: \u001b[0mtask=obb, mode=train, model=yolov8n-obb.pt, data=/content/data/data.yaml, epochs=100, time=None, patience=100, batch=16, imgsz=1024, save=True, save_period=-1, cache=False, device=None, workers=8, project=None, name=train, exist_ok=False, pretrained=True, optimizer=auto, verbose=True, seed=0, deterministic=True, single_cls=False, rect=False, cos_lr=False, close_mosaic=10, resume=False, amp=True, fraction=1.0, profile=False, freeze=None, multi_scale=False, overlap_mask=True, mask_ratio=4, dropout=0.0, val=True, split=val, save_json=False, save_hybrid=False, conf=None, iou=0.7, max_det=300, half=False, dnn=False, plots=True, source=None, vid_stride=1, stream_buffer=False, visualize=False, augment=False, agnostic_nms=False, classes=None, retina_masks=False, embed=None, show=False, save_frames=False, save_txt=False, save_conf=False, save_crop=False, show_labels=True, show_conf=True, show_boxes=True, line_width=None, format=torchscript, keras=False, optimize=False, int8=False, dynamic=False, simplify=True, opset=None, workspace=None, nms=False, lr0=0.01, lrf=0.01, momentum=0.937, weight_decay=0.0005, warmup_epochs=3.0, warmup_momentum=0.8, warmup_bias_lr=0.1, box=7.5, cls=0.5, dfl=1.5, pose=12.0, kobj=1.0, nbs=64, hsv_h=0.015, hsv_s=0.7, hsv_v=0.4, degrees=0.0, translate=0.1, scale=0.5, shear=0.0, perspective=0.0, flipud=0.0, fliplr=0.5, bgr=0.0, mosaic=1.0, mixup=0.0, copy_paste=0.0, copy_paste_mode=flip, auto_augment=randaugment, erasing=0.4, crop_fraction=1.0, cfg=None, tracker=botsort.yaml, save_dir=runs/obb/train\n",
            "Downloading https://ultralytics.com/assets/Arial.ttf to '/root/.config/Ultralytics/Arial.ttf'...\n"
          ]
        },
        {
          "name": "stderr",
          "output_type": "stream",
          "text": [
            "100%|██████████| 755k/755k [00:00<00:00, 24.8MB/s]\n"
          ]
        },
        {
          "name": "stdout",
          "output_type": "stream",
          "text": [
            "Overriding model.yaml nc=15 with nc=6\n",
            "\n",
            "                   from  n    params  module                                       arguments                     \n",
            "  0                  -1  1       464  ultralytics.nn.modules.conv.Conv             [3, 16, 3, 2]                 \n",
            "  1                  -1  1      4672  ultralytics.nn.modules.conv.Conv             [16, 32, 3, 2]                \n",
            "  2                  -1  1      7360  ultralytics.nn.modules.block.C2f             [32, 32, 1, True]             \n",
            "  3                  -1  1     18560  ultralytics.nn.modules.conv.Conv             [32, 64, 3, 2]                \n",
            "  4                  -1  2     49664  ultralytics.nn.modules.block.C2f             [64, 64, 2, True]             \n",
            "  5                  -1  1     73984  ultralytics.nn.modules.conv.Conv             [64, 128, 3, 2]               \n",
            "  6                  -1  2    197632  ultralytics.nn.modules.block.C2f             [128, 128, 2, True]           \n",
            "  7                  -1  1    295424  ultralytics.nn.modules.conv.Conv             [128, 256, 3, 2]              \n",
            "  8                  -1  1    460288  ultralytics.nn.modules.block.C2f             [256, 256, 1, True]           \n",
            "  9                  -1  1    164608  ultralytics.nn.modules.block.SPPF            [256, 256, 5]                 \n",
            " 10                  -1  1         0  torch.nn.modules.upsampling.Upsample         [None, 2, 'nearest']          \n",
            " 11             [-1, 6]  1         0  ultralytics.nn.modules.conv.Concat           [1]                           \n",
            " 12                  -1  1    148224  ultralytics.nn.modules.block.C2f             [384, 128, 1]                 \n",
            " 13                  -1  1         0  torch.nn.modules.upsampling.Upsample         [None, 2, 'nearest']          \n",
            " 14             [-1, 4]  1         0  ultralytics.nn.modules.conv.Concat           [1]                           \n",
            " 15                  -1  1     37248  ultralytics.nn.modules.block.C2f             [192, 64, 1]                  \n",
            " 16                  -1  1     36992  ultralytics.nn.modules.conv.Conv             [64, 64, 3, 2]                \n",
            " 17            [-1, 12]  1         0  ultralytics.nn.modules.conv.Concat           [1]                           \n",
            " 18                  -1  1    123648  ultralytics.nn.modules.block.C2f             [192, 128, 1]                 \n",
            " 19                  -1  1    147712  ultralytics.nn.modules.conv.Conv             [128, 128, 3, 2]              \n",
            " 20             [-1, 9]  1         0  ultralytics.nn.modules.conv.Concat           [1]                           \n",
            " 21                  -1  1    493056  ultralytics.nn.modules.block.C2f             [384, 256, 1]                 \n",
            " 22        [15, 18, 21]  1    824149  ultralytics.nn.modules.head.OBB              [6, 1, [64, 128, 256]]        \n",
            "YOLOv8n-obb summary: 250 layers, 3,083,685 parameters, 3,083,669 gradients, 8.4 GFLOPs\n",
            "\n",
            "Transferred 391/397 items from pretrained weights\n",
            "\u001b[34m\u001b[1mTensorBoard: \u001b[0mStart with 'tensorboard --logdir runs/obb/train', view at http://localhost:6006/\n",
            "Freezing layer 'model.22.dfl.conv.weight'\n",
            "\u001b[34m\u001b[1mAMP: \u001b[0mrunning Automatic Mixed Precision (AMP) checks...\n",
            "Downloading https://github.com/ultralytics/assets/releases/download/v8.3.0/yolo11n.pt to 'yolo11n.pt'...\n"
          ]
        },
        {
          "name": "stderr",
          "output_type": "stream",
          "text": [
            "100%|██████████| 5.35M/5.35M [00:00<00:00, 99.9MB/s]\n"
          ]
        },
        {
          "name": "stdout",
          "output_type": "stream",
          "text": [
            "\u001b[34m\u001b[1mAMP: \u001b[0mchecks passed ✅\n"
          ]
        },
        {
          "name": "stderr",
          "output_type": "stream",
          "text": [
            "\u001b[34m\u001b[1mtrain: \u001b[0mScanning /content/data/labels/train... 46 images, 0 backgrounds, 1 corrupt: 100%|██████████| 46/46 [00:00<00:00, 1287.05it/s]"
          ]
        },
        {
          "name": "stdout",
          "output_type": "stream",
          "text": [
            "\u001b[34m\u001b[1mtrain: \u001b[0mWARNING ⚠️ /content/data/images/train/aug_aug_ezgif-frame-097.jpg: ignoring corrupt image/label: non-normalized or out of bounds coordinates [     1.0515]\n",
            "\u001b[34m\u001b[1mtrain: \u001b[0mNew cache created: /content/data/labels/train.cache\n"
          ]
        },
        {
          "name": "stderr",
          "output_type": "stream",
          "text": [
            "\n"
          ]
        },
        {
          "name": "stdout",
          "output_type": "stream",
          "text": [
            "\u001b[34m\u001b[1malbumentations: \u001b[0mBlur(p=0.01, blur_limit=(3, 7)), MedianBlur(p=0.01, blur_limit=(3, 7)), ToGray(p=0.01, num_output_channels=3, method='weighted_average'), CLAHE(p=0.01, clip_limit=(1.0, 4.0), tile_grid_size=(8, 8))\n"
          ]
        },
        {
          "name": "stderr",
          "output_type": "stream",
          "text": [
            "/usr/local/lib/python3.10/dist-packages/albumentations/__init__.py:24: UserWarning: A new version of Albumentations is available: 1.4.23 (you have 1.4.20). Upgrade using: pip install -U albumentations. To disable automatic update checks, set the environment variable NO_ALBUMENTATIONS_UPDATE to 1.\n",
            "  check_for_updates()\n",
            "\u001b[34m\u001b[1mval: \u001b[0mScanning /content/data/labels/val... 8 images, 0 backgrounds, 0 corrupt: 100%|██████████| 8/8 [00:00<00:00, 523.91it/s]"
          ]
        },
        {
          "name": "stdout",
          "output_type": "stream",
          "text": [
            "\u001b[34m\u001b[1mval: \u001b[0mNew cache created: /content/data/labels/val.cache\n"
          ]
        },
        {
          "name": "stderr",
          "output_type": "stream",
          "text": [
            "\n"
          ]
        },
        {
          "name": "stdout",
          "output_type": "stream",
          "text": [
            "Plotting labels to runs/obb/train/labels.jpg... \n",
            "\u001b[34m\u001b[1moptimizer:\u001b[0m 'optimizer=auto' found, ignoring 'lr0=0.01' and 'momentum=0.937' and determining best 'optimizer', 'lr0' and 'momentum' automatically... \n",
            "\u001b[34m\u001b[1moptimizer:\u001b[0m AdamW(lr=0.001, momentum=0.9) with parameter groups 63 weight(decay=0.0), 73 weight(decay=0.0005), 72 bias(decay=0.0)\n",
            "\u001b[34m\u001b[1mTensorBoard: \u001b[0mmodel graph visualization added ✅\n",
            "Image sizes 1024 train, 1024 val\n",
            "Using 2 dataloader workers\n",
            "Logging results to \u001b[1mruns/obb/train\u001b[0m\n",
            "Starting training for 100 epochs...\n",
            "\n",
            "      Epoch    GPU_mem   box_loss   cls_loss   dfl_loss  Instances       Size\n"
          ]
        },
        {
          "name": "stderr",
          "output_type": "stream",
          "text": [
            "      1/100      5.44G      1.847      3.907      3.103        124       1024: 100%|██████████| 3/3 [00:03<00:00,  1.09s/it]\n",
            "                 Class     Images  Instances      Box(P          R      mAP50  mAP50-95): 100%|██████████| 1/1 [00:02<00:00,  2.40s/it]"
          ]
        },
        {
          "name": "stdout",
          "output_type": "stream",
          "text": [
            "                   all          8         33    0.00737      0.349     0.0293     0.0124\n"
          ]
        },
        {
          "name": "stderr",
          "output_type": "stream",
          "text": [
            "\n"
          ]
        },
        {
          "name": "stdout",
          "output_type": "stream",
          "text": [
            "\n",
            "      Epoch    GPU_mem   box_loss   cls_loss   dfl_loss  Instances       Size\n"
          ]
        },
        {
          "name": "stderr",
          "output_type": "stream",
          "text": [
            "      2/100      5.85G      1.826       3.99      3.082        108       1024: 100%|██████████| 3/3 [00:02<00:00,  1.46it/s]\n",
            "                 Class     Images  Instances      Box(P          R      mAP50  mAP50-95): 100%|██████████| 1/1 [00:01<00:00,  1.32s/it]"
          ]
        },
        {
          "name": "stdout",
          "output_type": "stream",
          "text": [
            "                   all          8         33      0.638     0.0793      0.103     0.0582\n"
          ]
        },
        {
          "name": "stderr",
          "output_type": "stream",
          "text": [
            "\n"
          ]
        },
        {
          "name": "stdout",
          "output_type": "stream",
          "text": [
            "\n",
            "      Epoch    GPU_mem   box_loss   cls_loss   dfl_loss  Instances       Size\n"
          ]
        },
        {
          "name": "stderr",
          "output_type": "stream",
          "text": [
            "      3/100      5.34G       1.62      3.546      2.771        116       1024: 100%|██████████| 3/3 [00:01<00:00,  2.08it/s]\n",
            "                 Class     Images  Instances      Box(P          R      mAP50  mAP50-95): 100%|██████████| 1/1 [00:01<00:00,  1.43s/it]"
          ]
        },
        {
          "name": "stdout",
          "output_type": "stream",
          "text": [
            "                   all          8         33      0.709      0.219      0.218      0.135\n"
          ]
        },
        {
          "name": "stderr",
          "output_type": "stream",
          "text": [
            "\n"
          ]
        },
        {
          "name": "stdout",
          "output_type": "stream",
          "text": [
            "\n",
            "      Epoch    GPU_mem   box_loss   cls_loss   dfl_loss  Instances       Size\n"
          ]
        },
        {
          "name": "stderr",
          "output_type": "stream",
          "text": [
            "      4/100      5.29G       1.36      3.081      2.556        121       1024: 100%|██████████| 3/3 [00:01<00:00,  1.97it/s]\n",
            "                 Class     Images  Instances      Box(P          R      mAP50  mAP50-95): 100%|██████████| 1/1 [00:01<00:00,  1.62s/it]"
          ]
        },
        {
          "name": "stdout",
          "output_type": "stream",
          "text": [
            "                   all          8         33       0.95      0.156      0.243      0.176\n"
          ]
        },
        {
          "name": "stderr",
          "output_type": "stream",
          "text": [
            "\n"
          ]
        },
        {
          "name": "stdout",
          "output_type": "stream",
          "text": [
            "\n",
            "      Epoch    GPU_mem   box_loss   cls_loss   dfl_loss  Instances       Size\n"
          ]
        },
        {
          "name": "stderr",
          "output_type": "stream",
          "text": [
            "      5/100      5.31G      1.221      2.772      2.351        121       1024: 100%|██████████| 3/3 [00:01<00:00,  2.48it/s]\n",
            "                 Class     Images  Instances      Box(P          R      mAP50  mAP50-95): 100%|██████████| 1/1 [00:01<00:00,  1.53s/it]"
          ]
        },
        {
          "name": "stdout",
          "output_type": "stream",
          "text": [
            "                   all          8         33      0.849      0.247        0.3      0.216\n"
          ]
        },
        {
          "name": "stderr",
          "output_type": "stream",
          "text": [
            "\n"
          ]
        },
        {
          "name": "stdout",
          "output_type": "stream",
          "text": [
            "\n",
            "      Epoch    GPU_mem   box_loss   cls_loss   dfl_loss  Instances       Size\n"
          ]
        },
        {
          "name": "stderr",
          "output_type": "stream",
          "text": [
            "      6/100      5.29G       1.25      2.542      2.333        118       1024: 100%|██████████| 3/3 [00:01<00:00,  2.55it/s]\n",
            "                 Class     Images  Instances      Box(P          R      mAP50  mAP50-95): 100%|██████████| 1/1 [00:01<00:00,  1.52s/it]"
          ]
        },
        {
          "name": "stdout",
          "output_type": "stream",
          "text": [
            "                   all          8         33      0.144      0.764      0.353      0.287\n"
          ]
        },
        {
          "name": "stderr",
          "output_type": "stream",
          "text": [
            "\n"
          ]
        },
        {
          "name": "stdout",
          "output_type": "stream",
          "text": [
            "\n",
            "      Epoch    GPU_mem   box_loss   cls_loss   dfl_loss  Instances       Size\n"
          ]
        },
        {
          "name": "stderr",
          "output_type": "stream",
          "text": [
            "      7/100       5.3G      1.217       2.28      2.296        118       1024: 100%|██████████| 3/3 [00:01<00:00,  2.54it/s]\n",
            "                 Class     Images  Instances      Box(P          R      mAP50  mAP50-95): 100%|██████████| 1/1 [00:01<00:00,  1.35s/it]"
          ]
        },
        {
          "name": "stdout",
          "output_type": "stream",
          "text": [
            "                   all          8         33      0.516      0.551      0.545      0.455\n"
          ]
        },
        {
          "name": "stderr",
          "output_type": "stream",
          "text": [
            "\n"
          ]
        },
        {
          "name": "stdout",
          "output_type": "stream",
          "text": [
            "\n",
            "      Epoch    GPU_mem   box_loss   cls_loss   dfl_loss  Instances       Size\n"
          ]
        },
        {
          "name": "stderr",
          "output_type": "stream",
          "text": [
            "      8/100      5.31G      1.135       2.05       2.13        154       1024: 100%|██████████| 3/3 [00:01<00:00,  2.25it/s]\n",
            "                 Class     Images  Instances      Box(P          R      mAP50  mAP50-95): 100%|██████████| 1/1 [00:01<00:00,  1.35s/it]"
          ]
        },
        {
          "name": "stdout",
          "output_type": "stream",
          "text": [
            "                   all          8         33      0.551      0.723      0.715      0.607\n"
          ]
        },
        {
          "name": "stderr",
          "output_type": "stream",
          "text": [
            "\n"
          ]
        },
        {
          "name": "stdout",
          "output_type": "stream",
          "text": [
            "\n",
            "      Epoch    GPU_mem   box_loss   cls_loss   dfl_loss  Instances       Size\n"
          ]
        },
        {
          "name": "stderr",
          "output_type": "stream",
          "text": [
            "      9/100      5.32G       1.17      1.962      2.284        114       1024: 100%|██████████| 3/3 [00:01<00:00,  2.17it/s]\n",
            "                 Class     Images  Instances      Box(P          R      mAP50  mAP50-95): 100%|██████████| 1/1 [00:01<00:00,  1.12s/it]"
          ]
        },
        {
          "name": "stdout",
          "output_type": "stream",
          "text": [
            "                   all          8         33      0.585      0.772      0.807      0.653\n"
          ]
        },
        {
          "name": "stderr",
          "output_type": "stream",
          "text": [
            "\n"
          ]
        },
        {
          "name": "stdout",
          "output_type": "stream",
          "text": [
            "\n",
            "      Epoch    GPU_mem   box_loss   cls_loss   dfl_loss  Instances       Size\n"
          ]
        },
        {
          "name": "stderr",
          "output_type": "stream",
          "text": [
            "     10/100      5.31G      1.139      1.866      2.159        133       1024: 100%|██████████| 3/3 [00:01<00:00,  2.72it/s]\n",
            "                 Class     Images  Instances      Box(P          R      mAP50  mAP50-95): 100%|██████████| 1/1 [00:00<00:00,  1.13it/s]"
          ]
        },
        {
          "name": "stdout",
          "output_type": "stream",
          "text": [
            "                   all          8         33      0.685      0.772      0.858      0.697\n"
          ]
        },
        {
          "name": "stderr",
          "output_type": "stream",
          "text": [
            "\n"
          ]
        },
        {
          "name": "stdout",
          "output_type": "stream",
          "text": [
            "\n",
            "      Epoch    GPU_mem   box_loss   cls_loss   dfl_loss  Instances       Size\n"
          ]
        },
        {
          "name": "stderr",
          "output_type": "stream",
          "text": [
            "     11/100      5.31G      1.139      1.762      2.198        116       1024: 100%|██████████| 3/3 [00:01<00:00,  2.72it/s]\n",
            "                 Class     Images  Instances      Box(P          R      mAP50  mAP50-95): 100%|██████████| 1/1 [00:00<00:00,  1.34it/s]"
          ]
        },
        {
          "name": "stdout",
          "output_type": "stream",
          "text": [
            "                   all          8         33      0.619       0.94      0.883      0.721\n"
          ]
        },
        {
          "name": "stderr",
          "output_type": "stream",
          "text": [
            "\n"
          ]
        },
        {
          "name": "stdout",
          "output_type": "stream",
          "text": [
            "\n",
            "      Epoch    GPU_mem   box_loss   cls_loss   dfl_loss  Instances       Size\n"
          ]
        },
        {
          "name": "stderr",
          "output_type": "stream",
          "text": [
            "     12/100       5.3G      1.111      1.607      2.159        128       1024: 100%|██████████| 3/3 [00:01<00:00,  2.86it/s]\n",
            "                 Class     Images  Instances      Box(P          R      mAP50  mAP50-95): 100%|██████████| 1/1 [00:00<00:00,  1.44it/s]"
          ]
        },
        {
          "name": "stdout",
          "output_type": "stream",
          "text": [
            "                   all          8         33      0.682       0.95        0.9      0.733\n"
          ]
        },
        {
          "name": "stderr",
          "output_type": "stream",
          "text": [
            "\n"
          ]
        },
        {
          "name": "stdout",
          "output_type": "stream",
          "text": [
            "\n",
            "      Epoch    GPU_mem   box_loss   cls_loss   dfl_loss  Instances       Size\n"
          ]
        },
        {
          "name": "stderr",
          "output_type": "stream",
          "text": [
            "     13/100      5.32G      1.115      1.604      2.229        105       1024: 100%|██████████| 3/3 [00:01<00:00,  2.56it/s]\n",
            "                 Class     Images  Instances      Box(P          R      mAP50  mAP50-95): 100%|██████████| 1/1 [00:00<00:00,  1.21it/s]"
          ]
        },
        {
          "name": "stdout",
          "output_type": "stream",
          "text": [
            "                   all          8         33        0.7      0.939      0.887      0.753\n"
          ]
        },
        {
          "name": "stderr",
          "output_type": "stream",
          "text": [
            "\n"
          ]
        },
        {
          "name": "stdout",
          "output_type": "stream",
          "text": [
            "\n",
            "      Epoch    GPU_mem   box_loss   cls_loss   dfl_loss  Instances       Size\n"
          ]
        },
        {
          "name": "stderr",
          "output_type": "stream",
          "text": [
            "     14/100      5.32G      1.069        1.5      2.192        102       1024: 100%|██████████| 3/3 [00:01<00:00,  2.30it/s]\n",
            "                 Class     Images  Instances      Box(P          R      mAP50  mAP50-95): 100%|██████████| 1/1 [00:00<00:00,  1.24it/s]"
          ]
        },
        {
          "name": "stdout",
          "output_type": "stream",
          "text": [
            "                   all          8         33      0.743      0.867      0.897      0.763\n"
          ]
        },
        {
          "name": "stderr",
          "output_type": "stream",
          "text": [
            "\n"
          ]
        },
        {
          "name": "stdout",
          "output_type": "stream",
          "text": [
            "\n",
            "      Epoch    GPU_mem   box_loss   cls_loss   dfl_loss  Instances       Size\n"
          ]
        },
        {
          "name": "stderr",
          "output_type": "stream",
          "text": [
            "     15/100      5.32G      1.021      1.417      2.071        121       1024: 100%|██████████| 3/3 [00:01<00:00,  2.65it/s]\n",
            "                 Class     Images  Instances      Box(P          R      mAP50  mAP50-95): 100%|██████████| 1/1 [00:00<00:00,  1.85it/s]"
          ]
        },
        {
          "name": "stdout",
          "output_type": "stream",
          "text": [
            "                   all          8         33       0.78      0.943      0.888      0.755\n"
          ]
        },
        {
          "name": "stderr",
          "output_type": "stream",
          "text": [
            "\n"
          ]
        },
        {
          "name": "stdout",
          "output_type": "stream",
          "text": [
            "\n",
            "      Epoch    GPU_mem   box_loss   cls_loss   dfl_loss  Instances       Size\n"
          ]
        },
        {
          "name": "stderr",
          "output_type": "stream",
          "text": [
            "     16/100      5.31G      1.079      1.387      2.169        121       1024: 100%|██████████| 3/3 [00:01<00:00,  2.73it/s]\n",
            "                 Class     Images  Instances      Box(P          R      mAP50  mAP50-95): 100%|██████████| 1/1 [00:00<00:00,  1.88it/s]"
          ]
        },
        {
          "name": "stdout",
          "output_type": "stream",
          "text": [
            "                   all          8         33      0.754      0.953      0.867      0.722\n"
          ]
        },
        {
          "name": "stderr",
          "output_type": "stream",
          "text": [
            "\n"
          ]
        },
        {
          "name": "stdout",
          "output_type": "stream",
          "text": [
            "\n",
            "      Epoch    GPU_mem   box_loss   cls_loss   dfl_loss  Instances       Size\n"
          ]
        },
        {
          "name": "stderr",
          "output_type": "stream",
          "text": [
            "     17/100      5.37G      1.052      1.313      2.114        108       1024: 100%|██████████| 3/3 [00:01<00:00,  2.61it/s]\n",
            "                 Class     Images  Instances      Box(P          R      mAP50  mAP50-95): 100%|██████████| 1/1 [00:00<00:00,  2.03it/s]"
          ]
        },
        {
          "name": "stdout",
          "output_type": "stream",
          "text": [
            "                   all          8         33      0.833      0.958      0.903      0.751\n"
          ]
        },
        {
          "name": "stderr",
          "output_type": "stream",
          "text": [
            "\n"
          ]
        },
        {
          "name": "stdout",
          "output_type": "stream",
          "text": [
            "\n",
            "      Epoch    GPU_mem   box_loss   cls_loss   dfl_loss  Instances       Size\n"
          ]
        },
        {
          "name": "stderr",
          "output_type": "stream",
          "text": [
            "     18/100      5.35G      1.014      1.238      2.035        134       1024: 100%|██████████| 3/3 [00:01<00:00,  2.71it/s]\n",
            "                 Class     Images  Instances      Box(P          R      mAP50  mAP50-95): 100%|██████████| 1/1 [00:00<00:00,  2.08it/s]"
          ]
        },
        {
          "name": "stdout",
          "output_type": "stream",
          "text": [
            "                   all          8         33      0.801      0.958      0.914       0.76\n"
          ]
        },
        {
          "name": "stderr",
          "output_type": "stream",
          "text": [
            "\n"
          ]
        },
        {
          "name": "stdout",
          "output_type": "stream",
          "text": [
            "\n",
            "      Epoch    GPU_mem   box_loss   cls_loss   dfl_loss  Instances       Size\n"
          ]
        },
        {
          "name": "stderr",
          "output_type": "stream",
          "text": [
            "     19/100       5.3G     0.9596      1.185      1.945        130       1024: 100%|██████████| 3/3 [00:01<00:00,  2.41it/s]\n",
            "                 Class     Images  Instances      Box(P          R      mAP50  mAP50-95): 100%|██████████| 1/1 [00:00<00:00,  1.73it/s]"
          ]
        },
        {
          "name": "stdout",
          "output_type": "stream",
          "text": [
            "                   all          8         33      0.782      0.958      0.929      0.777\n"
          ]
        },
        {
          "name": "stderr",
          "output_type": "stream",
          "text": [
            "\n"
          ]
        },
        {
          "name": "stdout",
          "output_type": "stream",
          "text": [
            "\n",
            "      Epoch    GPU_mem   box_loss   cls_loss   dfl_loss  Instances       Size\n"
          ]
        },
        {
          "name": "stderr",
          "output_type": "stream",
          "text": [
            "     20/100      5.32G       1.03      1.233      2.146        125       1024: 100%|██████████| 3/3 [00:01<00:00,  2.36it/s]\n",
            "                 Class     Images  Instances      Box(P          R      mAP50  mAP50-95): 100%|██████████| 1/1 [00:00<00:00,  1.61it/s]"
          ]
        },
        {
          "name": "stdout",
          "output_type": "stream",
          "text": [
            "                   all          8         33      0.778      0.947      0.958      0.805\n"
          ]
        },
        {
          "name": "stderr",
          "output_type": "stream",
          "text": [
            "\n"
          ]
        },
        {
          "name": "stdout",
          "output_type": "stream",
          "text": [
            "\n",
            "      Epoch    GPU_mem   box_loss   cls_loss   dfl_loss  Instances       Size\n"
          ]
        },
        {
          "name": "stderr",
          "output_type": "stream",
          "text": [
            "     21/100      5.32G      1.003      1.158      2.023        125       1024: 100%|██████████| 3/3 [00:01<00:00,  2.70it/s]\n",
            "                 Class     Images  Instances      Box(P          R      mAP50  mAP50-95): 100%|██████████| 1/1 [00:00<00:00,  2.49it/s]"
          ]
        },
        {
          "name": "stdout",
          "output_type": "stream",
          "text": [
            "                   all          8         33       0.84      0.958      0.982      0.833\n"
          ]
        },
        {
          "name": "stderr",
          "output_type": "stream",
          "text": [
            "\n"
          ]
        },
        {
          "name": "stdout",
          "output_type": "stream",
          "text": [
            "\n",
            "      Epoch    GPU_mem   box_loss   cls_loss   dfl_loss  Instances       Size\n"
          ]
        },
        {
          "name": "stderr",
          "output_type": "stream",
          "text": [
            "     22/100      5.32G     0.9821      1.149      2.001        134       1024: 100%|██████████| 3/3 [00:01<00:00,  2.65it/s]\n",
            "                 Class     Images  Instances      Box(P          R      mAP50  mAP50-95): 100%|██████████| 1/1 [00:00<00:00,  2.92it/s]"
          ]
        },
        {
          "name": "stdout",
          "output_type": "stream",
          "text": [
            "                   all          8         33      0.838      0.958      0.985      0.839\n"
          ]
        },
        {
          "name": "stderr",
          "output_type": "stream",
          "text": [
            "\n"
          ]
        },
        {
          "name": "stdout",
          "output_type": "stream",
          "text": [
            "\n",
            "      Epoch    GPU_mem   box_loss   cls_loss   dfl_loss  Instances       Size\n"
          ]
        },
        {
          "name": "stderr",
          "output_type": "stream",
          "text": [
            "     23/100      5.31G     0.9133      1.112      1.949        111       1024: 100%|██████████| 3/3 [00:01<00:00,  2.79it/s]\n",
            "                 Class     Images  Instances      Box(P          R      mAP50  mAP50-95): 100%|██████████| 1/1 [00:00<00:00,  2.45it/s]"
          ]
        },
        {
          "name": "stdout",
          "output_type": "stream",
          "text": [
            "                   all          8         33      0.865      0.958      0.985      0.857\n"
          ]
        },
        {
          "name": "stderr",
          "output_type": "stream",
          "text": [
            "\n"
          ]
        },
        {
          "name": "stdout",
          "output_type": "stream",
          "text": [
            "\n",
            "      Epoch    GPU_mem   box_loss   cls_loss   dfl_loss  Instances       Size\n"
          ]
        },
        {
          "name": "stderr",
          "output_type": "stream",
          "text": [
            "     24/100      5.32G      0.928      1.096      2.012        119       1024: 100%|██████████| 3/3 [00:01<00:00,  2.72it/s]\n",
            "                 Class     Images  Instances      Box(P          R      mAP50  mAP50-95): 100%|██████████| 1/1 [00:00<00:00,  2.45it/s]"
          ]
        },
        {
          "name": "stdout",
          "output_type": "stream",
          "text": [
            "                   all          8         33      0.901      0.965      0.995      0.883\n"
          ]
        },
        {
          "name": "stderr",
          "output_type": "stream",
          "text": [
            "\n"
          ]
        },
        {
          "name": "stdout",
          "output_type": "stream",
          "text": [
            "\n",
            "      Epoch    GPU_mem   box_loss   cls_loss   dfl_loss  Instances       Size\n"
          ]
        },
        {
          "name": "stderr",
          "output_type": "stream",
          "text": [
            "     25/100      5.32G     0.9368      1.034      2.002        117       1024: 100%|██████████| 3/3 [00:01<00:00,  2.48it/s]\n",
            "                 Class     Images  Instances      Box(P          R      mAP50  mAP50-95): 100%|██████████| 1/1 [00:00<00:00,  1.93it/s]"
          ]
        },
        {
          "name": "stdout",
          "output_type": "stream",
          "text": [
            "                   all          8         33      0.959      0.965      0.995      0.872\n"
          ]
        },
        {
          "name": "stderr",
          "output_type": "stream",
          "text": [
            "\n"
          ]
        },
        {
          "name": "stdout",
          "output_type": "stream",
          "text": [
            "\n",
            "      Epoch    GPU_mem   box_loss   cls_loss   dfl_loss  Instances       Size\n"
          ]
        },
        {
          "name": "stderr",
          "output_type": "stream",
          "text": [
            "     26/100       5.3G     0.9198      1.023       1.94        130       1024: 100%|██████████| 3/3 [00:01<00:00,  2.23it/s]\n",
            "                 Class     Images  Instances      Box(P          R      mAP50  mAP50-95): 100%|██████████| 1/1 [00:00<00:00,  2.22it/s]"
          ]
        },
        {
          "name": "stdout",
          "output_type": "stream",
          "text": [
            "                   all          8         33      0.968      0.965      0.995       0.86\n"
          ]
        },
        {
          "name": "stderr",
          "output_type": "stream",
          "text": [
            "\n"
          ]
        },
        {
          "name": "stdout",
          "output_type": "stream",
          "text": [
            "\n",
            "      Epoch    GPU_mem   box_loss   cls_loss   dfl_loss  Instances       Size\n"
          ]
        },
        {
          "name": "stderr",
          "output_type": "stream",
          "text": [
            "     27/100      5.35G     0.8889     0.9596      1.852        112       1024: 100%|██████████| 3/3 [00:01<00:00,  2.66it/s]\n",
            "                 Class     Images  Instances      Box(P          R      mAP50  mAP50-95): 100%|██████████| 1/1 [00:00<00:00,  2.37it/s]"
          ]
        },
        {
          "name": "stdout",
          "output_type": "stream",
          "text": [
            "                   all          8         33      0.959       0.97      0.995      0.842\n"
          ]
        },
        {
          "name": "stderr",
          "output_type": "stream",
          "text": [
            "\n"
          ]
        },
        {
          "name": "stdout",
          "output_type": "stream",
          "text": [
            "\n",
            "      Epoch    GPU_mem   box_loss   cls_loss   dfl_loss  Instances       Size\n"
          ]
        },
        {
          "name": "stderr",
          "output_type": "stream",
          "text": [
            "     28/100      5.31G     0.8747     0.9771       1.89        121       1024: 100%|██████████| 3/3 [00:01<00:00,  2.76it/s]\n",
            "                 Class     Images  Instances      Box(P          R      mAP50  mAP50-95): 100%|██████████| 1/1 [00:00<00:00,  3.62it/s]"
          ]
        },
        {
          "name": "stdout",
          "output_type": "stream",
          "text": [
            "                   all          8         33      0.938          1      0.995      0.843\n"
          ]
        },
        {
          "name": "stderr",
          "output_type": "stream",
          "text": [
            "\n"
          ]
        },
        {
          "name": "stdout",
          "output_type": "stream",
          "text": [
            "\n",
            "      Epoch    GPU_mem   box_loss   cls_loss   dfl_loss  Instances       Size\n"
          ]
        },
        {
          "name": "stderr",
          "output_type": "stream",
          "text": [
            "     29/100      5.31G     0.9032      0.948      1.907        115       1024: 100%|██████████| 3/3 [00:00<00:00,  3.05it/s]\n",
            "                 Class     Images  Instances      Box(P          R      mAP50  mAP50-95): 100%|██████████| 1/1 [00:00<00:00,  3.29it/s]"
          ]
        },
        {
          "name": "stdout",
          "output_type": "stream",
          "text": [
            "                   all          8         33      0.938          1      0.995      0.843\n"
          ]
        },
        {
          "name": "stderr",
          "output_type": "stream",
          "text": [
            "\n"
          ]
        },
        {
          "name": "stdout",
          "output_type": "stream",
          "text": [
            "\n",
            "      Epoch    GPU_mem   box_loss   cls_loss   dfl_loss  Instances       Size\n"
          ]
        },
        {
          "name": "stderr",
          "output_type": "stream",
          "text": [
            "     30/100      5.31G     0.9186     0.9893      1.886         93       1024: 100%|██████████| 3/3 [00:01<00:00,  2.88it/s]\n",
            "                 Class     Images  Instances      Box(P          R      mAP50  mAP50-95): 100%|██████████| 1/1 [00:00<00:00,  3.42it/s]"
          ]
        },
        {
          "name": "stdout",
          "output_type": "stream",
          "text": [
            "                   all          8         33      0.936      0.998      0.995      0.848\n"
          ]
        },
        {
          "name": "stderr",
          "output_type": "stream",
          "text": [
            "\n"
          ]
        },
        {
          "name": "stdout",
          "output_type": "stream",
          "text": [
            "\n",
            "      Epoch    GPU_mem   box_loss   cls_loss   dfl_loss  Instances       Size\n"
          ]
        },
        {
          "name": "stderr",
          "output_type": "stream",
          "text": [
            "     31/100      5.35G     0.8605     0.9223      1.841        122       1024: 100%|██████████| 3/3 [00:01<00:00,  2.44it/s]\n",
            "                 Class     Images  Instances      Box(P          R      mAP50  mAP50-95): 100%|██████████| 1/1 [00:00<00:00,  2.60it/s]"
          ]
        },
        {
          "name": "stdout",
          "output_type": "stream",
          "text": [
            "                   all          8         33      0.939      0.993      0.995      0.851\n"
          ]
        },
        {
          "name": "stderr",
          "output_type": "stream",
          "text": [
            "\n"
          ]
        },
        {
          "name": "stdout",
          "output_type": "stream",
          "text": [
            "\n",
            "      Epoch    GPU_mem   box_loss   cls_loss   dfl_loss  Instances       Size\n"
          ]
        },
        {
          "name": "stderr",
          "output_type": "stream",
          "text": [
            "     32/100      5.32G     0.9349     0.9948      2.013        126       1024: 100%|██████████| 3/3 [00:01<00:00,  2.18it/s]\n",
            "                 Class     Images  Instances      Box(P          R      mAP50  mAP50-95): 100%|██████████| 1/1 [00:00<00:00,  2.26it/s]"
          ]
        },
        {
          "name": "stdout",
          "output_type": "stream",
          "text": [
            "                   all          8         33      0.969      0.964      0.995      0.852\n"
          ]
        },
        {
          "name": "stderr",
          "output_type": "stream",
          "text": [
            "\n"
          ]
        },
        {
          "name": "stdout",
          "output_type": "stream",
          "text": [
            "\n",
            "      Epoch    GPU_mem   box_loss   cls_loss   dfl_loss  Instances       Size\n"
          ]
        },
        {
          "name": "stderr",
          "output_type": "stream",
          "text": [
            "     33/100      5.32G      0.871      0.892      1.895        118       1024: 100%|██████████| 3/3 [00:01<00:00,  2.88it/s]\n",
            "                 Class     Images  Instances      Box(P          R      mAP50  mAP50-95): 100%|██████████| 1/1 [00:00<00:00,  3.15it/s]"
          ]
        },
        {
          "name": "stdout",
          "output_type": "stream",
          "text": [
            "                   all          8         33      0.969      0.964      0.995      0.852\n"
          ]
        },
        {
          "name": "stderr",
          "output_type": "stream",
          "text": [
            "\n"
          ]
        },
        {
          "name": "stdout",
          "output_type": "stream",
          "text": [
            "\n",
            "      Epoch    GPU_mem   box_loss   cls_loss   dfl_loss  Instances       Size\n"
          ]
        },
        {
          "name": "stderr",
          "output_type": "stream",
          "text": [
            "     34/100      5.36G      0.826     0.8703      1.828         99       1024: 100%|██████████| 3/3 [00:01<00:00,  2.73it/s]\n",
            "                 Class     Images  Instances      Box(P          R      mAP50  mAP50-95): 100%|██████████| 1/1 [00:00<00:00,  2.85it/s]"
          ]
        },
        {
          "name": "stdout",
          "output_type": "stream",
          "text": [
            "                   all          8         33      0.985      0.958      0.989      0.823\n"
          ]
        },
        {
          "name": "stderr",
          "output_type": "stream",
          "text": [
            "\n"
          ]
        },
        {
          "name": "stdout",
          "output_type": "stream",
          "text": [
            "\n",
            "      Epoch    GPU_mem   box_loss   cls_loss   dfl_loss  Instances       Size\n"
          ]
        },
        {
          "name": "stderr",
          "output_type": "stream",
          "text": [
            "     35/100      5.31G      0.844     0.8647      1.904        123       1024: 100%|██████████| 3/3 [00:01<00:00,  2.85it/s]\n",
            "                 Class     Images  Instances      Box(P          R      mAP50  mAP50-95): 100%|██████████| 1/1 [00:00<00:00,  3.03it/s]"
          ]
        },
        {
          "name": "stdout",
          "output_type": "stream",
          "text": [
            "                   all          8         33      0.992      0.966      0.995      0.844\n"
          ]
        },
        {
          "name": "stderr",
          "output_type": "stream",
          "text": [
            "\n"
          ]
        },
        {
          "name": "stdout",
          "output_type": "stream",
          "text": [
            "\n",
            "      Epoch    GPU_mem   box_loss   cls_loss   dfl_loss  Instances       Size\n"
          ]
        },
        {
          "name": "stderr",
          "output_type": "stream",
          "text": [
            "     36/100      5.31G     0.8748     0.9459      1.982        101       1024: 100%|██████████| 3/3 [00:01<00:00,  2.64it/s]\n",
            "                 Class     Images  Instances      Box(P          R      mAP50  mAP50-95): 100%|██████████| 1/1 [00:00<00:00,  3.40it/s]"
          ]
        },
        {
          "name": "stdout",
          "output_type": "stream",
          "text": [
            "                   all          8         33      0.969      0.994      0.995      0.863\n"
          ]
        },
        {
          "name": "stderr",
          "output_type": "stream",
          "text": [
            "\n"
          ]
        },
        {
          "name": "stdout",
          "output_type": "stream",
          "text": [
            "\n",
            "      Epoch    GPU_mem   box_loss   cls_loss   dfl_loss  Instances       Size\n"
          ]
        },
        {
          "name": "stderr",
          "output_type": "stream",
          "text": [
            "     37/100      5.32G     0.8917     0.8859      1.931        153       1024: 100%|██████████| 3/3 [00:01<00:00,  2.63it/s]\n",
            "                 Class     Images  Instances      Box(P          R      mAP50  mAP50-95): 100%|██████████| 1/1 [00:00<00:00,  2.23it/s]"
          ]
        },
        {
          "name": "stdout",
          "output_type": "stream",
          "text": [
            "                   all          8         33      0.969      0.994      0.995      0.863\n"
          ]
        },
        {
          "name": "stderr",
          "output_type": "stream",
          "text": [
            "\n"
          ]
        },
        {
          "name": "stdout",
          "output_type": "stream",
          "text": [
            "\n",
            "      Epoch    GPU_mem   box_loss   cls_loss   dfl_loss  Instances       Size\n"
          ]
        },
        {
          "name": "stderr",
          "output_type": "stream",
          "text": [
            "     38/100      5.31G     0.8809      0.891      1.964        119       1024: 100%|██████████| 3/3 [00:01<00:00,  2.22it/s]\n",
            "                 Class     Images  Instances      Box(P          R      mAP50  mAP50-95): 100%|██████████| 1/1 [00:00<00:00,  1.97it/s]"
          ]
        },
        {
          "name": "stdout",
          "output_type": "stream",
          "text": [
            "                   all          8         33      0.976      0.994      0.995      0.871\n"
          ]
        },
        {
          "name": "stderr",
          "output_type": "stream",
          "text": [
            "\n"
          ]
        },
        {
          "name": "stdout",
          "output_type": "stream",
          "text": [
            "\n",
            "      Epoch    GPU_mem   box_loss   cls_loss   dfl_loss  Instances       Size\n"
          ]
        },
        {
          "name": "stderr",
          "output_type": "stream",
          "text": [
            "     39/100      5.31G     0.8533     0.8163      1.825        137       1024: 100%|██████████| 3/3 [00:01<00:00,  2.75it/s]\n",
            "                 Class     Images  Instances      Box(P          R      mAP50  mAP50-95): 100%|██████████| 1/1 [00:00<00:00,  3.02it/s]"
          ]
        },
        {
          "name": "stdout",
          "output_type": "stream",
          "text": [
            "                   all          8         33      0.974      0.995      0.995      0.861\n"
          ]
        },
        {
          "name": "stderr",
          "output_type": "stream",
          "text": [
            "\n"
          ]
        },
        {
          "name": "stdout",
          "output_type": "stream",
          "text": [
            "\n",
            "      Epoch    GPU_mem   box_loss   cls_loss   dfl_loss  Instances       Size\n"
          ]
        },
        {
          "name": "stderr",
          "output_type": "stream",
          "text": [
            "     40/100      5.36G     0.8344     0.8297      1.855        144       1024: 100%|██████████| 3/3 [00:01<00:00,  2.75it/s]\n",
            "                 Class     Images  Instances      Box(P          R      mAP50  mAP50-95): 100%|██████████| 1/1 [00:00<00:00,  2.92it/s]"
          ]
        },
        {
          "name": "stdout",
          "output_type": "stream",
          "text": [
            "                   all          8         33      0.965      0.994      0.995      0.865\n"
          ]
        },
        {
          "name": "stderr",
          "output_type": "stream",
          "text": [
            "\n"
          ]
        },
        {
          "name": "stdout",
          "output_type": "stream",
          "text": [
            "\n",
            "      Epoch    GPU_mem   box_loss   cls_loss   dfl_loss  Instances       Size\n"
          ]
        },
        {
          "name": "stderr",
          "output_type": "stream",
          "text": [
            "     41/100      5.35G     0.8691     0.8297      1.902        120       1024: 100%|██████████| 3/3 [00:01<00:00,  2.84it/s]\n",
            "                 Class     Images  Instances      Box(P          R      mAP50  mAP50-95): 100%|██████████| 1/1 [00:00<00:00,  2.96it/s]"
          ]
        },
        {
          "name": "stdout",
          "output_type": "stream",
          "text": [
            "                   all          8         33      0.965      0.994      0.995      0.865\n"
          ]
        },
        {
          "name": "stderr",
          "output_type": "stream",
          "text": [
            "\n"
          ]
        },
        {
          "name": "stdout",
          "output_type": "stream",
          "text": [
            "\n",
            "      Epoch    GPU_mem   box_loss   cls_loss   dfl_loss  Instances       Size\n"
          ]
        },
        {
          "name": "stderr",
          "output_type": "stream",
          "text": [
            "     42/100      5.32G     0.8672     0.8426      2.005        119       1024: 100%|██████████| 3/3 [00:01<00:00,  2.66it/s]\n",
            "                 Class     Images  Instances      Box(P          R      mAP50  mAP50-95): 100%|██████████| 1/1 [00:00<00:00,  2.93it/s]"
          ]
        },
        {
          "name": "stdout",
          "output_type": "stream",
          "text": [
            "                   all          8         33      0.989       0.97      0.995      0.855\n"
          ]
        },
        {
          "name": "stderr",
          "output_type": "stream",
          "text": [
            "\n"
          ]
        },
        {
          "name": "stdout",
          "output_type": "stream",
          "text": [
            "\n",
            "      Epoch    GPU_mem   box_loss   cls_loss   dfl_loss  Instances       Size\n"
          ]
        },
        {
          "name": "stderr",
          "output_type": "stream",
          "text": [
            "     43/100      5.32G      0.849     0.8447      1.839        138       1024: 100%|██████████| 3/3 [00:01<00:00,  2.26it/s]\n",
            "                 Class     Images  Instances      Box(P          R      mAP50  mAP50-95): 100%|██████████| 1/1 [00:00<00:00,  2.22it/s]"
          ]
        },
        {
          "name": "stdout",
          "output_type": "stream",
          "text": [
            "                   all          8         33      0.989      0.975      0.995      0.848\n"
          ]
        },
        {
          "name": "stderr",
          "output_type": "stream",
          "text": [
            "\n"
          ]
        },
        {
          "name": "stdout",
          "output_type": "stream",
          "text": [
            "\n",
            "      Epoch    GPU_mem   box_loss   cls_loss   dfl_loss  Instances       Size\n"
          ]
        },
        {
          "name": "stderr",
          "output_type": "stream",
          "text": [
            "     44/100      5.31G     0.8092     0.8061      1.835        130       1024: 100%|██████████| 3/3 [00:01<00:00,  2.26it/s]\n",
            "                 Class     Images  Instances      Box(P          R      mAP50  mAP50-95): 100%|██████████| 1/1 [00:00<00:00,  2.09it/s]"
          ]
        },
        {
          "name": "stdout",
          "output_type": "stream",
          "text": [
            "                   all          8         33      0.989      0.976      0.995       0.85\n"
          ]
        },
        {
          "name": "stderr",
          "output_type": "stream",
          "text": [
            "\n"
          ]
        },
        {
          "name": "stdout",
          "output_type": "stream",
          "text": [
            "\n",
            "      Epoch    GPU_mem   box_loss   cls_loss   dfl_loss  Instances       Size\n"
          ]
        },
        {
          "name": "stderr",
          "output_type": "stream",
          "text": [
            "     45/100       5.3G     0.7615     0.7546      1.755        122       1024: 100%|██████████| 3/3 [00:01<00:00,  2.87it/s]\n",
            "                 Class     Images  Instances      Box(P          R      mAP50  mAP50-95): 100%|██████████| 1/1 [00:00<00:00,  3.09it/s]"
          ]
        },
        {
          "name": "stdout",
          "output_type": "stream",
          "text": [
            "                   all          8         33      0.989      0.976      0.995       0.85\n"
          ]
        },
        {
          "name": "stderr",
          "output_type": "stream",
          "text": [
            "\n"
          ]
        },
        {
          "name": "stdout",
          "output_type": "stream",
          "text": [
            "\n",
            "      Epoch    GPU_mem   box_loss   cls_loss   dfl_loss  Instances       Size\n"
          ]
        },
        {
          "name": "stderr",
          "output_type": "stream",
          "text": [
            "     46/100      5.32G     0.7639     0.7707      1.852        119       1024: 100%|██████████| 3/3 [00:01<00:00,  2.84it/s]\n",
            "                 Class     Images  Instances      Box(P          R      mAP50  mAP50-95): 100%|██████████| 1/1 [00:00<00:00,  3.37it/s]"
          ]
        },
        {
          "name": "stdout",
          "output_type": "stream",
          "text": [
            "                   all          8         33      0.973      0.995      0.995      0.853\n"
          ]
        },
        {
          "name": "stderr",
          "output_type": "stream",
          "text": [
            "\n"
          ]
        },
        {
          "name": "stdout",
          "output_type": "stream",
          "text": [
            "\n",
            "      Epoch    GPU_mem   box_loss   cls_loss   dfl_loss  Instances       Size\n"
          ]
        },
        {
          "name": "stderr",
          "output_type": "stream",
          "text": [
            "     47/100      5.31G      0.776     0.7618      1.794        140       1024: 100%|██████████| 3/3 [00:01<00:00,  2.66it/s]\n",
            "                 Class     Images  Instances      Box(P          R      mAP50  mAP50-95): 100%|██████████| 1/1 [00:00<00:00,  3.55it/s]"
          ]
        },
        {
          "name": "stdout",
          "output_type": "stream",
          "text": [
            "                   all          8         33      0.944          1      0.989      0.868\n"
          ]
        },
        {
          "name": "stderr",
          "output_type": "stream",
          "text": [
            "\n"
          ]
        },
        {
          "name": "stdout",
          "output_type": "stream",
          "text": [
            "\n",
            "      Epoch    GPU_mem   box_loss   cls_loss   dfl_loss  Instances       Size\n"
          ]
        },
        {
          "name": "stderr",
          "output_type": "stream",
          "text": [
            "     48/100      5.36G      0.761     0.7441      1.782        125       1024: 100%|██████████| 3/3 [00:01<00:00,  2.67it/s]\n",
            "                 Class     Images  Instances      Box(P          R      mAP50  mAP50-95): 100%|██████████| 1/1 [00:00<00:00,  2.86it/s]"
          ]
        },
        {
          "name": "stdout",
          "output_type": "stream",
          "text": [
            "                   all          8         33      0.984          1      0.995      0.852\n"
          ]
        },
        {
          "name": "stderr",
          "output_type": "stream",
          "text": [
            "\n"
          ]
        },
        {
          "name": "stdout",
          "output_type": "stream",
          "text": [
            "\n",
            "      Epoch    GPU_mem   box_loss   cls_loss   dfl_loss  Instances       Size\n"
          ]
        },
        {
          "name": "stderr",
          "output_type": "stream",
          "text": [
            "     49/100      5.32G     0.7927     0.8066      1.838        105       1024: 100%|██████████| 3/3 [00:01<00:00,  2.63it/s]\n",
            "                 Class     Images  Instances      Box(P          R      mAP50  mAP50-95): 100%|██████████| 1/1 [00:00<00:00,  2.43it/s]"
          ]
        },
        {
          "name": "stdout",
          "output_type": "stream",
          "text": [
            "                   all          8         33      0.984          1      0.995      0.852\n"
          ]
        },
        {
          "name": "stderr",
          "output_type": "stream",
          "text": [
            "\n"
          ]
        },
        {
          "name": "stdout",
          "output_type": "stream",
          "text": [
            "\n",
            "      Epoch    GPU_mem   box_loss   cls_loss   dfl_loss  Instances       Size\n"
          ]
        },
        {
          "name": "stderr",
          "output_type": "stream",
          "text": [
            "     50/100      5.31G     0.7392     0.7045      1.832        149       1024: 100%|██████████| 3/3 [00:01<00:00,  2.06it/s]\n",
            "                 Class     Images  Instances      Box(P          R      mAP50  mAP50-95): 100%|██████████| 1/1 [00:00<00:00,  1.91it/s]"
          ]
        },
        {
          "name": "stdout",
          "output_type": "stream",
          "text": [
            "                   all          8         33       0.99          1      0.995      0.841\n"
          ]
        },
        {
          "name": "stderr",
          "output_type": "stream",
          "text": [
            "\n"
          ]
        },
        {
          "name": "stdout",
          "output_type": "stream",
          "text": [
            "\n",
            "      Epoch    GPU_mem   box_loss   cls_loss   dfl_loss  Instances       Size\n"
          ]
        },
        {
          "name": "stderr",
          "output_type": "stream",
          "text": [
            "     51/100      5.32G     0.7697     0.7438      1.716        129       1024: 100%|██████████| 3/3 [00:01<00:00,  2.67it/s]\n",
            "                 Class     Images  Instances      Box(P          R      mAP50  mAP50-95): 100%|██████████| 1/1 [00:00<00:00,  3.49it/s]"
          ]
        },
        {
          "name": "stdout",
          "output_type": "stream",
          "text": [
            "                   all          8         33      0.987          1      0.995      0.839\n"
          ]
        },
        {
          "name": "stderr",
          "output_type": "stream",
          "text": [
            "\n"
          ]
        },
        {
          "name": "stdout",
          "output_type": "stream",
          "text": [
            "\n",
            "      Epoch    GPU_mem   box_loss   cls_loss   dfl_loss  Instances       Size\n"
          ]
        },
        {
          "name": "stderr",
          "output_type": "stream",
          "text": [
            "     52/100       5.3G     0.7578     0.7355      1.817        122       1024: 100%|██████████| 3/3 [00:01<00:00,  2.72it/s]\n",
            "                 Class     Images  Instances      Box(P          R      mAP50  mAP50-95): 100%|██████████| 1/1 [00:00<00:00,  3.02it/s]"
          ]
        },
        {
          "name": "stdout",
          "output_type": "stream",
          "text": [
            "                   all          8         33       0.99          1      0.995      0.836\n"
          ]
        },
        {
          "name": "stderr",
          "output_type": "stream",
          "text": [
            "\n"
          ]
        },
        {
          "name": "stdout",
          "output_type": "stream",
          "text": [
            "\n",
            "      Epoch    GPU_mem   box_loss   cls_loss   dfl_loss  Instances       Size\n"
          ]
        },
        {
          "name": "stderr",
          "output_type": "stream",
          "text": [
            "     53/100      5.31G     0.7428     0.7097      1.823        113       1024: 100%|██████████| 3/3 [00:01<00:00,  2.94it/s]\n",
            "                 Class     Images  Instances      Box(P          R      mAP50  mAP50-95): 100%|██████████| 1/1 [00:00<00:00,  3.66it/s]"
          ]
        },
        {
          "name": "stdout",
          "output_type": "stream",
          "text": [
            "                   all          8         33       0.99          1      0.995      0.836\n"
          ]
        },
        {
          "name": "stderr",
          "output_type": "stream",
          "text": [
            "\n"
          ]
        },
        {
          "name": "stdout",
          "output_type": "stream",
          "text": [
            "\n",
            "      Epoch    GPU_mem   box_loss   cls_loss   dfl_loss  Instances       Size\n"
          ]
        },
        {
          "name": "stderr",
          "output_type": "stream",
          "text": [
            "     54/100      5.31G     0.8063     0.7946      1.884         89       1024: 100%|██████████| 3/3 [00:01<00:00,  2.79it/s]\n",
            "                 Class     Images  Instances      Box(P          R      mAP50  mAP50-95): 100%|██████████| 1/1 [00:00<00:00,  3.75it/s]"
          ]
        },
        {
          "name": "stdout",
          "output_type": "stream",
          "text": [
            "                   all          8         33      0.986          1      0.995      0.843\n"
          ]
        },
        {
          "name": "stderr",
          "output_type": "stream",
          "text": [
            "\n"
          ]
        },
        {
          "name": "stdout",
          "output_type": "stream",
          "text": [
            "\n",
            "      Epoch    GPU_mem   box_loss   cls_loss   dfl_loss  Instances       Size\n"
          ]
        },
        {
          "name": "stderr",
          "output_type": "stream",
          "text": [
            "     55/100      5.31G      0.794     0.7679      1.839        105       1024: 100%|██████████| 3/3 [00:01<00:00,  2.43it/s]\n",
            "                 Class     Images  Instances      Box(P          R      mAP50  mAP50-95): 100%|██████████| 1/1 [00:00<00:00,  2.39it/s]"
          ]
        },
        {
          "name": "stdout",
          "output_type": "stream",
          "text": [
            "                   all          8         33      0.982          1      0.995      0.832\n"
          ]
        },
        {
          "name": "stderr",
          "output_type": "stream",
          "text": [
            "\n"
          ]
        },
        {
          "name": "stdout",
          "output_type": "stream",
          "text": [
            "\n",
            "      Epoch    GPU_mem   box_loss   cls_loss   dfl_loss  Instances       Size\n"
          ]
        },
        {
          "name": "stderr",
          "output_type": "stream",
          "text": [
            "     56/100      5.31G     0.7438     0.7084      1.721        113       1024: 100%|██████████| 3/3 [00:01<00:00,  2.14it/s]\n",
            "                 Class     Images  Instances      Box(P          R      mAP50  mAP50-95): 100%|██████████| 1/1 [00:00<00:00,  2.00it/s]"
          ]
        },
        {
          "name": "stdout",
          "output_type": "stream",
          "text": [
            "                   all          8         33       0.98          1      0.995      0.848\n"
          ]
        },
        {
          "name": "stderr",
          "output_type": "stream",
          "text": [
            "\n"
          ]
        },
        {
          "name": "stdout",
          "output_type": "stream",
          "text": [
            "\n",
            "      Epoch    GPU_mem   box_loss   cls_loss   dfl_loss  Instances       Size\n"
          ]
        },
        {
          "name": "stderr",
          "output_type": "stream",
          "text": [
            "     57/100      5.31G     0.7265     0.6889      1.722        118       1024: 100%|██████████| 3/3 [00:01<00:00,  2.12it/s]\n",
            "                 Class     Images  Instances      Box(P          R      mAP50  mAP50-95): 100%|██████████| 1/1 [00:00<00:00,  2.47it/s]"
          ]
        },
        {
          "name": "stdout",
          "output_type": "stream",
          "text": [
            "                   all          8         33       0.98          1      0.995      0.848\n"
          ]
        },
        {
          "name": "stderr",
          "output_type": "stream",
          "text": [
            "\n"
          ]
        },
        {
          "name": "stdout",
          "output_type": "stream",
          "text": [
            "\n",
            "      Epoch    GPU_mem   box_loss   cls_loss   dfl_loss  Instances       Size\n"
          ]
        },
        {
          "name": "stderr",
          "output_type": "stream",
          "text": [
            "     58/100      5.32G     0.7363     0.7037      1.807        116       1024: 100%|██████████| 3/3 [00:01<00:00,  2.41it/s]\n",
            "                 Class     Images  Instances      Box(P          R      mAP50  mAP50-95): 100%|██████████| 1/1 [00:00<00:00,  3.58it/s]"
          ]
        },
        {
          "name": "stdout",
          "output_type": "stream",
          "text": [
            "                   all          8         33      0.985          1      0.995      0.861\n"
          ]
        },
        {
          "name": "stderr",
          "output_type": "stream",
          "text": [
            "\n"
          ]
        },
        {
          "name": "stdout",
          "output_type": "stream",
          "text": [
            "\n",
            "      Epoch    GPU_mem   box_loss   cls_loss   dfl_loss  Instances       Size\n"
          ]
        },
        {
          "name": "stderr",
          "output_type": "stream",
          "text": [
            "     59/100      5.31G     0.7359     0.6977      1.771        106       1024: 100%|██████████| 3/3 [00:01<00:00,  2.65it/s]\n",
            "                 Class     Images  Instances      Box(P          R      mAP50  mAP50-95): 100%|██████████| 1/1 [00:00<00:00,  3.16it/s]"
          ]
        },
        {
          "name": "stdout",
          "output_type": "stream",
          "text": [
            "                   all          8         33      0.988          1      0.995      0.864\n"
          ]
        },
        {
          "name": "stderr",
          "output_type": "stream",
          "text": [
            "\n"
          ]
        },
        {
          "name": "stdout",
          "output_type": "stream",
          "text": [
            "\n",
            "      Epoch    GPU_mem   box_loss   cls_loss   dfl_loss  Instances       Size\n"
          ]
        },
        {
          "name": "stderr",
          "output_type": "stream",
          "text": [
            "     60/100      5.31G     0.6939     0.6441      1.739        106       1024: 100%|██████████| 3/3 [00:01<00:00,  2.71it/s]\n",
            "                 Class     Images  Instances      Box(P          R      mAP50  mAP50-95): 100%|██████████| 1/1 [00:00<00:00,  2.08it/s]"
          ]
        },
        {
          "name": "stdout",
          "output_type": "stream",
          "text": [
            "                   all          8         33       0.99          1      0.995      0.844\n"
          ]
        },
        {
          "name": "stderr",
          "output_type": "stream",
          "text": [
            "\n"
          ]
        },
        {
          "name": "stdout",
          "output_type": "stream",
          "text": [
            "\n",
            "      Epoch    GPU_mem   box_loss   cls_loss   dfl_loss  Instances       Size\n"
          ]
        },
        {
          "name": "stderr",
          "output_type": "stream",
          "text": [
            "     61/100      5.35G      0.703     0.6689       1.72        132       1024: 100%|██████████| 3/3 [00:01<00:00,  2.35it/s]\n",
            "                 Class     Images  Instances      Box(P          R      mAP50  mAP50-95): 100%|██████████| 1/1 [00:00<00:00,  2.16it/s]"
          ]
        },
        {
          "name": "stdout",
          "output_type": "stream",
          "text": [
            "                   all          8         33       0.99          1      0.995      0.844\n"
          ]
        },
        {
          "name": "stderr",
          "output_type": "stream",
          "text": [
            "\n"
          ]
        },
        {
          "name": "stdout",
          "output_type": "stream",
          "text": [
            "\n",
            "      Epoch    GPU_mem   box_loss   cls_loss   dfl_loss  Instances       Size\n"
          ]
        },
        {
          "name": "stderr",
          "output_type": "stream",
          "text": [
            "     62/100      5.31G     0.7393     0.7074      1.748        128       1024: 100%|██████████| 3/3 [00:01<00:00,  2.40it/s]\n",
            "                 Class     Images  Instances      Box(P          R      mAP50  mAP50-95): 100%|██████████| 1/1 [00:00<00:00,  4.14it/s]"
          ]
        },
        {
          "name": "stdout",
          "output_type": "stream",
          "text": [
            "                   all          8         33       0.99          1      0.995      0.847\n"
          ]
        },
        {
          "name": "stderr",
          "output_type": "stream",
          "text": [
            "\n"
          ]
        },
        {
          "name": "stdout",
          "output_type": "stream",
          "text": [
            "\n",
            "      Epoch    GPU_mem   box_loss   cls_loss   dfl_loss  Instances       Size\n"
          ]
        },
        {
          "name": "stderr",
          "output_type": "stream",
          "text": [
            "     63/100      5.36G     0.6788     0.6263      1.698        125       1024: 100%|██████████| 3/3 [00:01<00:00,  2.70it/s]\n",
            "                 Class     Images  Instances      Box(P          R      mAP50  mAP50-95): 100%|██████████| 1/1 [00:00<00:00,  2.73it/s]"
          ]
        },
        {
          "name": "stdout",
          "output_type": "stream",
          "text": [
            "                   all          8         33       0.99          1      0.995      0.846\n"
          ]
        },
        {
          "name": "stderr",
          "output_type": "stream",
          "text": [
            "\n"
          ]
        },
        {
          "name": "stdout",
          "output_type": "stream",
          "text": [
            "\n",
            "      Epoch    GPU_mem   box_loss   cls_loss   dfl_loss  Instances       Size\n"
          ]
        },
        {
          "name": "stderr",
          "output_type": "stream",
          "text": [
            "     64/100      5.31G     0.7097     0.6704      1.727        115       1024: 100%|██████████| 3/3 [00:01<00:00,  2.68it/s]\n",
            "                 Class     Images  Instances      Box(P          R      mAP50  mAP50-95): 100%|██████████| 1/1 [00:00<00:00,  3.84it/s]"
          ]
        },
        {
          "name": "stdout",
          "output_type": "stream",
          "text": [
            "                   all          8         33      0.991          1      0.995      0.833\n"
          ]
        },
        {
          "name": "stderr",
          "output_type": "stream",
          "text": [
            "\n"
          ]
        },
        {
          "name": "stdout",
          "output_type": "stream",
          "text": [
            "\n",
            "      Epoch    GPU_mem   box_loss   cls_loss   dfl_loss  Instances       Size\n"
          ]
        },
        {
          "name": "stderr",
          "output_type": "stream",
          "text": [
            "     65/100       5.3G      0.696     0.6626      1.694        118       1024: 100%|██████████| 3/3 [00:01<00:00,  2.88it/s]\n",
            "                 Class     Images  Instances      Box(P          R      mAP50  mAP50-95): 100%|██████████| 1/1 [00:00<00:00,  2.90it/s]"
          ]
        },
        {
          "name": "stdout",
          "output_type": "stream",
          "text": [
            "                   all          8         33      0.991          1      0.995      0.833\n"
          ]
        },
        {
          "name": "stderr",
          "output_type": "stream",
          "text": [
            "\n"
          ]
        },
        {
          "name": "stdout",
          "output_type": "stream",
          "text": [
            "\n",
            "      Epoch    GPU_mem   box_loss   cls_loss   dfl_loss  Instances       Size\n"
          ]
        },
        {
          "name": "stderr",
          "output_type": "stream",
          "text": [
            "     66/100      5.32G     0.7079     0.7055      1.725        117       1024: 100%|██████████| 3/3 [00:01<00:00,  2.68it/s]\n",
            "                 Class     Images  Instances      Box(P          R      mAP50  mAP50-95): 100%|██████████| 1/1 [00:00<00:00,  2.70it/s]"
          ]
        },
        {
          "name": "stdout",
          "output_type": "stream",
          "text": [
            "                   all          8         33      0.992          1      0.995      0.841\n"
          ]
        },
        {
          "name": "stderr",
          "output_type": "stream",
          "text": [
            "\n"
          ]
        },
        {
          "name": "stdout",
          "output_type": "stream",
          "text": [
            "\n",
            "      Epoch    GPU_mem   box_loss   cls_loss   dfl_loss  Instances       Size\n"
          ]
        },
        {
          "name": "stderr",
          "output_type": "stream",
          "text": [
            "     67/100      5.32G     0.7144     0.7144       1.86         90       1024: 100%|██████████| 3/3 [00:01<00:00,  2.25it/s]\n",
            "                 Class     Images  Instances      Box(P          R      mAP50  mAP50-95): 100%|██████████| 1/1 [00:00<00:00,  2.11it/s]"
          ]
        },
        {
          "name": "stdout",
          "output_type": "stream",
          "text": [
            "                   all          8         33      0.992          1      0.995      0.843\n"
          ]
        },
        {
          "name": "stderr",
          "output_type": "stream",
          "text": [
            "\n"
          ]
        },
        {
          "name": "stdout",
          "output_type": "stream",
          "text": [
            "\n",
            "      Epoch    GPU_mem   box_loss   cls_loss   dfl_loss  Instances       Size\n"
          ]
        },
        {
          "name": "stderr",
          "output_type": "stream",
          "text": [
            "     68/100      5.31G      0.717     0.6986      1.735        117       1024: 100%|██████████| 3/3 [00:01<00:00,  2.31it/s]\n",
            "                 Class     Images  Instances      Box(P          R      mAP50  mAP50-95): 100%|██████████| 1/1 [00:00<00:00,  3.06it/s]"
          ]
        },
        {
          "name": "stdout",
          "output_type": "stream",
          "text": [
            "                   all          8         33      0.991          1      0.995      0.849\n"
          ]
        },
        {
          "name": "stderr",
          "output_type": "stream",
          "text": [
            "\n"
          ]
        },
        {
          "name": "stdout",
          "output_type": "stream",
          "text": [
            "\n",
            "      Epoch    GPU_mem   box_loss   cls_loss   dfl_loss  Instances       Size\n"
          ]
        },
        {
          "name": "stderr",
          "output_type": "stream",
          "text": [
            "     69/100      5.35G     0.7009     0.6612      1.697        127       1024: 100%|██████████| 3/3 [00:01<00:00,  2.82it/s]\n",
            "                 Class     Images  Instances      Box(P          R      mAP50  mAP50-95): 100%|██████████| 1/1 [00:00<00:00,  3.11it/s]"
          ]
        },
        {
          "name": "stdout",
          "output_type": "stream",
          "text": [
            "                   all          8         33      0.991          1      0.995      0.849\n"
          ]
        },
        {
          "name": "stderr",
          "output_type": "stream",
          "text": [
            "\n"
          ]
        },
        {
          "name": "stdout",
          "output_type": "stream",
          "text": [
            "\n",
            "      Epoch    GPU_mem   box_loss   cls_loss   dfl_loss  Instances       Size\n"
          ]
        },
        {
          "name": "stderr",
          "output_type": "stream",
          "text": [
            "     70/100      5.31G     0.6555     0.6338      1.646        122       1024: 100%|██████████| 3/3 [00:01<00:00,  2.79it/s]\n",
            "                 Class     Images  Instances      Box(P          R      mAP50  mAP50-95): 100%|██████████| 1/1 [00:00<00:00,  3.85it/s]"
          ]
        },
        {
          "name": "stdout",
          "output_type": "stream",
          "text": [
            "                   all          8         33      0.989          1      0.995      0.853\n"
          ]
        },
        {
          "name": "stderr",
          "output_type": "stream",
          "text": [
            "\n"
          ]
        },
        {
          "name": "stdout",
          "output_type": "stream",
          "text": [
            "\n",
            "      Epoch    GPU_mem   box_loss   cls_loss   dfl_loss  Instances       Size\n"
          ]
        },
        {
          "name": "stderr",
          "output_type": "stream",
          "text": [
            "     71/100      5.31G     0.6718     0.6511      1.768        135       1024: 100%|██████████| 3/3 [00:01<00:00,  2.73it/s]\n",
            "                 Class     Images  Instances      Box(P          R      mAP50  mAP50-95): 100%|██████████| 1/1 [00:00<00:00,  4.03it/s]"
          ]
        },
        {
          "name": "stdout",
          "output_type": "stream",
          "text": [
            "                   all          8         33      0.988          1      0.995      0.846\n"
          ]
        },
        {
          "name": "stderr",
          "output_type": "stream",
          "text": [
            "\n"
          ]
        },
        {
          "name": "stdout",
          "output_type": "stream",
          "text": [
            "\n",
            "      Epoch    GPU_mem   box_loss   cls_loss   dfl_loss  Instances       Size\n"
          ]
        },
        {
          "name": "stderr",
          "output_type": "stream",
          "text": [
            "     72/100      5.35G     0.7106      0.658      1.836        142       1024: 100%|██████████| 3/3 [00:01<00:00,  2.55it/s]\n",
            "                 Class     Images  Instances      Box(P          R      mAP50  mAP50-95): 100%|██████████| 1/1 [00:00<00:00,  2.52it/s]"
          ]
        },
        {
          "name": "stdout",
          "output_type": "stream",
          "text": [
            "                   all          8         33      0.989          1      0.995      0.848\n"
          ]
        },
        {
          "name": "stderr",
          "output_type": "stream",
          "text": [
            "\n"
          ]
        },
        {
          "name": "stdout",
          "output_type": "stream",
          "text": [
            "\n",
            "      Epoch    GPU_mem   box_loss   cls_loss   dfl_loss  Instances       Size\n"
          ]
        },
        {
          "name": "stderr",
          "output_type": "stream",
          "text": [
            "     73/100      5.32G     0.7288     0.6817      1.809        103       1024: 100%|██████████| 3/3 [00:01<00:00,  2.43it/s]\n",
            "                 Class     Images  Instances      Box(P          R      mAP50  mAP50-95): 100%|██████████| 1/1 [00:00<00:00,  2.11it/s]"
          ]
        },
        {
          "name": "stdout",
          "output_type": "stream",
          "text": [
            "                   all          8         33      0.989          1      0.995      0.848\n"
          ]
        },
        {
          "name": "stderr",
          "output_type": "stream",
          "text": [
            "\n"
          ]
        },
        {
          "name": "stdout",
          "output_type": "stream",
          "text": [
            "\n",
            "      Epoch    GPU_mem   box_loss   cls_loss   dfl_loss  Instances       Size\n"
          ]
        },
        {
          "name": "stderr",
          "output_type": "stream",
          "text": [
            "     74/100      5.31G     0.6775     0.6455      1.735        115       1024: 100%|██████████| 3/3 [00:01<00:00,  2.21it/s]\n",
            "                 Class     Images  Instances      Box(P          R      mAP50  mAP50-95): 100%|██████████| 1/1 [00:00<00:00,  2.60it/s]"
          ]
        },
        {
          "name": "stdout",
          "output_type": "stream",
          "text": [
            "                   all          8         33      0.989          1      0.995      0.856\n"
          ]
        },
        {
          "name": "stderr",
          "output_type": "stream",
          "text": [
            "\n"
          ]
        },
        {
          "name": "stdout",
          "output_type": "stream",
          "text": [
            "\n",
            "      Epoch    GPU_mem   box_loss   cls_loss   dfl_loss  Instances       Size\n"
          ]
        },
        {
          "name": "stderr",
          "output_type": "stream",
          "text": [
            "     75/100      5.36G     0.6671     0.6305       1.64        128       1024: 100%|██████████| 3/3 [00:01<00:00,  2.74it/s]\n",
            "                 Class     Images  Instances      Box(P          R      mAP50  mAP50-95): 100%|██████████| 1/1 [00:00<00:00,  3.95it/s]"
          ]
        },
        {
          "name": "stdout",
          "output_type": "stream",
          "text": [
            "                   all          8         33      0.988          1      0.995      0.861\n"
          ]
        },
        {
          "name": "stderr",
          "output_type": "stream",
          "text": [
            "\n"
          ]
        },
        {
          "name": "stdout",
          "output_type": "stream",
          "text": [
            "\n",
            "      Epoch    GPU_mem   box_loss   cls_loss   dfl_loss  Instances       Size\n"
          ]
        },
        {
          "name": "stderr",
          "output_type": "stream",
          "text": [
            "     76/100      5.31G     0.7039     0.6437      1.721        121       1024: 100%|██████████| 3/3 [00:01<00:00,  2.62it/s]\n",
            "                 Class     Images  Instances      Box(P          R      mAP50  mAP50-95): 100%|██████████| 1/1 [00:00<00:00,  3.62it/s]"
          ]
        },
        {
          "name": "stdout",
          "output_type": "stream",
          "text": [
            "                   all          8         33      0.987          1      0.995       0.86\n"
          ]
        },
        {
          "name": "stderr",
          "output_type": "stream",
          "text": [
            "\n"
          ]
        },
        {
          "name": "stdout",
          "output_type": "stream",
          "text": [
            "\n",
            "      Epoch    GPU_mem   box_loss   cls_loss   dfl_loss  Instances       Size\n"
          ]
        },
        {
          "name": "stderr",
          "output_type": "stream",
          "text": [
            "     77/100      5.35G     0.6718     0.6625      1.705        112       1024: 100%|██████████| 3/3 [00:01<00:00,  2.80it/s]\n",
            "                 Class     Images  Instances      Box(P          R      mAP50  mAP50-95): 100%|██████████| 1/1 [00:00<00:00,  3.23it/s]"
          ]
        },
        {
          "name": "stdout",
          "output_type": "stream",
          "text": [
            "                   all          8         33      0.987          1      0.995       0.86\n"
          ]
        },
        {
          "name": "stderr",
          "output_type": "stream",
          "text": [
            "\n"
          ]
        },
        {
          "name": "stdout",
          "output_type": "stream",
          "text": [
            "\n",
            "      Epoch    GPU_mem   box_loss   cls_loss   dfl_loss  Instances       Size\n"
          ]
        },
        {
          "name": "stderr",
          "output_type": "stream",
          "text": [
            "     78/100      5.28G     0.7477     0.7029      1.827        124       1024: 100%|██████████| 3/3 [00:01<00:00,  2.29it/s]\n",
            "                 Class     Images  Instances      Box(P          R      mAP50  mAP50-95): 100%|██████████| 1/1 [00:00<00:00,  2.69it/s]"
          ]
        },
        {
          "name": "stdout",
          "output_type": "stream",
          "text": [
            "                   all          8         33      0.987          1      0.995      0.853\n"
          ]
        },
        {
          "name": "stderr",
          "output_type": "stream",
          "text": [
            "\n"
          ]
        },
        {
          "name": "stdout",
          "output_type": "stream",
          "text": [
            "\n",
            "      Epoch    GPU_mem   box_loss   cls_loss   dfl_loss  Instances       Size\n"
          ]
        },
        {
          "name": "stderr",
          "output_type": "stream",
          "text": [
            "     79/100      5.31G     0.6329     0.6047      1.636        125       1024: 100%|██████████| 3/3 [00:01<00:00,  2.08it/s]\n",
            "                 Class     Images  Instances      Box(P          R      mAP50  mAP50-95): 100%|██████████| 1/1 [00:00<00:00,  2.34it/s]"
          ]
        },
        {
          "name": "stdout",
          "output_type": "stream",
          "text": [
            "                   all          8         33      0.988          1      0.995      0.845\n"
          ]
        },
        {
          "name": "stderr",
          "output_type": "stream",
          "text": [
            "\n"
          ]
        },
        {
          "name": "stdout",
          "output_type": "stream",
          "text": [
            "\n",
            "      Epoch    GPU_mem   box_loss   cls_loss   dfl_loss  Instances       Size\n"
          ]
        },
        {
          "name": "stderr",
          "output_type": "stream",
          "text": [
            "     80/100      5.28G     0.6815     0.6538      1.811        129       1024: 100%|██████████| 3/3 [00:01<00:00,  2.03it/s]\n",
            "                 Class     Images  Instances      Box(P          R      mAP50  mAP50-95): 100%|██████████| 1/1 [00:00<00:00,  2.26it/s]"
          ]
        },
        {
          "name": "stdout",
          "output_type": "stream",
          "text": [
            "                   all          8         33      0.988          1      0.995      0.844\n"
          ]
        },
        {
          "name": "stderr",
          "output_type": "stream",
          "text": [
            "\n"
          ]
        },
        {
          "name": "stdout",
          "output_type": "stream",
          "text": [
            "\n",
            "      Epoch    GPU_mem   box_loss   cls_loss   dfl_loss  Instances       Size\n"
          ]
        },
        {
          "name": "stderr",
          "output_type": "stream",
          "text": [
            "     81/100       5.3G     0.6629     0.6576      1.705        103       1024: 100%|██████████| 3/3 [00:01<00:00,  2.56it/s]\n",
            "                 Class     Images  Instances      Box(P          R      mAP50  mAP50-95): 100%|██████████| 1/1 [00:00<00:00,  4.07it/s]"
          ]
        },
        {
          "name": "stdout",
          "output_type": "stream",
          "text": [
            "                   all          8         33      0.988          1      0.995      0.844\n"
          ]
        },
        {
          "name": "stderr",
          "output_type": "stream",
          "text": [
            "\n"
          ]
        },
        {
          "name": "stdout",
          "output_type": "stream",
          "text": [
            "\n",
            "      Epoch    GPU_mem   box_loss   cls_loss   dfl_loss  Instances       Size\n"
          ]
        },
        {
          "name": "stderr",
          "output_type": "stream",
          "text": [
            "     82/100      5.31G      0.655     0.6158      1.663        137       1024: 100%|██████████| 3/3 [00:01<00:00,  2.98it/s]\n",
            "                 Class     Images  Instances      Box(P          R      mAP50  mAP50-95): 100%|██████████| 1/1 [00:00<00:00,  2.87it/s]"
          ]
        },
        {
          "name": "stdout",
          "output_type": "stream",
          "text": [
            "                   all          8         33      0.988          1      0.995      0.842\n"
          ]
        },
        {
          "name": "stderr",
          "output_type": "stream",
          "text": [
            "\n"
          ]
        },
        {
          "name": "stdout",
          "output_type": "stream",
          "text": [
            "\n",
            "      Epoch    GPU_mem   box_loss   cls_loss   dfl_loss  Instances       Size\n"
          ]
        },
        {
          "name": "stderr",
          "output_type": "stream",
          "text": [
            "     83/100       5.3G     0.6173     0.6211      1.606        115       1024: 100%|██████████| 3/3 [00:01<00:00,  2.65it/s]\n",
            "                 Class     Images  Instances      Box(P          R      mAP50  mAP50-95): 100%|██████████| 1/1 [00:00<00:00,  3.99it/s]"
          ]
        },
        {
          "name": "stdout",
          "output_type": "stream",
          "text": [
            "                   all          8         33      0.987          1      0.995      0.844\n"
          ]
        },
        {
          "name": "stderr",
          "output_type": "stream",
          "text": [
            "\n"
          ]
        },
        {
          "name": "stdout",
          "output_type": "stream",
          "text": [
            "\n",
            "      Epoch    GPU_mem   box_loss   cls_loss   dfl_loss  Instances       Size\n"
          ]
        },
        {
          "name": "stderr",
          "output_type": "stream",
          "text": [
            "     84/100      5.31G      0.659     0.6236      1.707        138       1024: 100%|██████████| 3/3 [00:01<00:00,  2.68it/s]\n",
            "                 Class     Images  Instances      Box(P          R      mAP50  mAP50-95): 100%|██████████| 1/1 [00:00<00:00,  3.39it/s]"
          ]
        },
        {
          "name": "stdout",
          "output_type": "stream",
          "text": [
            "                   all          8         33      0.987          1      0.995      0.852\n"
          ]
        },
        {
          "name": "stderr",
          "output_type": "stream",
          "text": [
            "\n"
          ]
        },
        {
          "name": "stdout",
          "output_type": "stream",
          "text": [
            "\n",
            "      Epoch    GPU_mem   box_loss   cls_loss   dfl_loss  Instances       Size\n"
          ]
        },
        {
          "name": "stderr",
          "output_type": "stream",
          "text": [
            "     85/100      5.32G     0.6471     0.5925       1.69        112       1024: 100%|██████████| 3/3 [00:01<00:00,  2.72it/s]\n",
            "                 Class     Images  Instances      Box(P          R      mAP50  mAP50-95): 100%|██████████| 1/1 [00:00<00:00,  2.57it/s]"
          ]
        },
        {
          "name": "stdout",
          "output_type": "stream",
          "text": [
            "                   all          8         33      0.987          1      0.995      0.852\n"
          ]
        },
        {
          "name": "stderr",
          "output_type": "stream",
          "text": [
            "\n"
          ]
        },
        {
          "name": "stdout",
          "output_type": "stream",
          "text": [
            "\n",
            "      Epoch    GPU_mem   box_loss   cls_loss   dfl_loss  Instances       Size\n"
          ]
        },
        {
          "name": "stderr",
          "output_type": "stream",
          "text": [
            "     86/100      5.31G     0.6775     0.6531      1.774        134       1024: 100%|██████████| 3/3 [00:01<00:00,  2.13it/s]\n",
            "                 Class     Images  Instances      Box(P          R      mAP50  mAP50-95): 100%|██████████| 1/1 [00:00<00:00,  2.60it/s]"
          ]
        },
        {
          "name": "stdout",
          "output_type": "stream",
          "text": [
            "                   all          8         33      0.989          1      0.995      0.853\n"
          ]
        },
        {
          "name": "stderr",
          "output_type": "stream",
          "text": [
            "\n"
          ]
        },
        {
          "name": "stdout",
          "output_type": "stream",
          "text": [
            "\n",
            "      Epoch    GPU_mem   box_loss   cls_loss   dfl_loss  Instances       Size\n"
          ]
        },
        {
          "name": "stderr",
          "output_type": "stream",
          "text": [
            "     87/100      5.31G     0.6868     0.6541      1.775        115       1024: 100%|██████████| 3/3 [00:01<00:00,  2.66it/s]\n",
            "                 Class     Images  Instances      Box(P          R      mAP50  mAP50-95): 100%|██████████| 1/1 [00:00<00:00,  3.55it/s]"
          ]
        },
        {
          "name": "stdout",
          "output_type": "stream",
          "text": [
            "                   all          8         33      0.989          1      0.995      0.853\n"
          ]
        },
        {
          "name": "stderr",
          "output_type": "stream",
          "text": [
            "\n"
          ]
        },
        {
          "name": "stdout",
          "output_type": "stream",
          "text": [
            "\n",
            "      Epoch    GPU_mem   box_loss   cls_loss   dfl_loss  Instances       Size\n"
          ]
        },
        {
          "name": "stderr",
          "output_type": "stream",
          "text": [
            "     88/100      5.31G     0.6512     0.6064      1.694        112       1024: 100%|██████████| 3/3 [00:01<00:00,  2.71it/s]\n",
            "                 Class     Images  Instances      Box(P          R      mAP50  mAP50-95): 100%|██████████| 1/1 [00:00<00:00,  3.23it/s]"
          ]
        },
        {
          "name": "stdout",
          "output_type": "stream",
          "text": [
            "                   all          8         33      0.988      0.999      0.995      0.855\n"
          ]
        },
        {
          "name": "stderr",
          "output_type": "stream",
          "text": [
            "\n"
          ]
        },
        {
          "name": "stdout",
          "output_type": "stream",
          "text": [
            "\n",
            "      Epoch    GPU_mem   box_loss   cls_loss   dfl_loss  Instances       Size\n"
          ]
        },
        {
          "name": "stderr",
          "output_type": "stream",
          "text": [
            "     89/100      5.32G     0.6942     0.6399      1.742        120       1024: 100%|██████████| 3/3 [00:01<00:00,  2.95it/s]\n",
            "                 Class     Images  Instances      Box(P          R      mAP50  mAP50-95): 100%|██████████| 1/1 [00:00<00:00,  4.10it/s]"
          ]
        },
        {
          "name": "stdout",
          "output_type": "stream",
          "text": [
            "                   all          8         33      0.988      0.999      0.995      0.855\n"
          ]
        },
        {
          "name": "stderr",
          "output_type": "stream",
          "text": [
            "\n"
          ]
        },
        {
          "name": "stdout",
          "output_type": "stream",
          "text": [
            "\n",
            "      Epoch    GPU_mem   box_loss   cls_loss   dfl_loss  Instances       Size\n"
          ]
        },
        {
          "name": "stderr",
          "output_type": "stream",
          "text": [
            "     90/100      5.31G     0.6195     0.5869      1.717        110       1024: 100%|██████████| 3/3 [00:01<00:00,  2.95it/s]\n",
            "                 Class     Images  Instances      Box(P          R      mAP50  mAP50-95): 100%|██████████| 1/1 [00:00<00:00,  3.77it/s]"
          ]
        },
        {
          "name": "stdout",
          "output_type": "stream",
          "text": [
            "                   all          8         33      0.988      0.999      0.995      0.856\n"
          ]
        },
        {
          "name": "stderr",
          "output_type": "stream",
          "text": [
            "\n"
          ]
        },
        {
          "name": "stdout",
          "output_type": "stream",
          "text": [
            "Closing dataloader mosaic\n",
            "\u001b[34m\u001b[1malbumentations: \u001b[0mBlur(p=0.01, blur_limit=(3, 7)), MedianBlur(p=0.01, blur_limit=(3, 7)), ToGray(p=0.01, num_output_channels=3, method='weighted_average'), CLAHE(p=0.01, clip_limit=(1.0, 4.0), tile_grid_size=(8, 8))\n",
            "\n",
            "      Epoch    GPU_mem   box_loss   cls_loss   dfl_loss  Instances       Size\n"
          ]
        },
        {
          "name": "stderr",
          "output_type": "stream",
          "text": [
            "     91/100      5.22G     0.5046     0.6585      1.444         53       1024: 100%|██████████| 3/3 [00:05<00:00,  1.92s/it]\n",
            "                 Class     Images  Instances      Box(P          R      mAP50  mAP50-95): 100%|██████████| 1/1 [00:00<00:00,  1.41it/s]"
          ]
        },
        {
          "name": "stdout",
          "output_type": "stream",
          "text": [
            "                   all          8         33      0.989      0.999      0.995      0.856\n"
          ]
        },
        {
          "name": "stderr",
          "output_type": "stream",
          "text": [
            "\n"
          ]
        },
        {
          "name": "stdout",
          "output_type": "stream",
          "text": [
            "\n",
            "      Epoch    GPU_mem   box_loss   cls_loss   dfl_loss  Instances       Size\n"
          ]
        },
        {
          "name": "stderr",
          "output_type": "stream",
          "text": [
            "     92/100      5.79G     0.5084     0.6325      1.477         54       1024: 100%|██████████| 3/3 [00:01<00:00,  2.19it/s]\n",
            "                 Class     Images  Instances      Box(P          R      mAP50  mAP50-95): 100%|██████████| 1/1 [00:00<00:00,  3.04it/s]"
          ]
        },
        {
          "name": "stdout",
          "output_type": "stream",
          "text": [
            "                   all          8         33       0.99      0.999      0.995      0.848\n"
          ]
        },
        {
          "name": "stderr",
          "output_type": "stream",
          "text": [
            "\n"
          ]
        },
        {
          "name": "stdout",
          "output_type": "stream",
          "text": [
            "\n",
            "      Epoch    GPU_mem   box_loss   cls_loss   dfl_loss  Instances       Size\n"
          ]
        },
        {
          "name": "stderr",
          "output_type": "stream",
          "text": [
            "     93/100      5.22G     0.5085     0.6221      1.334         60       1024: 100%|██████████| 3/3 [00:01<00:00,  2.88it/s]\n",
            "                 Class     Images  Instances      Box(P          R      mAP50  mAP50-95): 100%|██████████| 1/1 [00:00<00:00,  3.65it/s]"
          ]
        },
        {
          "name": "stdout",
          "output_type": "stream",
          "text": [
            "                   all          8         33       0.99      0.999      0.995      0.848\n"
          ]
        },
        {
          "name": "stderr",
          "output_type": "stream",
          "text": [
            "\n"
          ]
        },
        {
          "name": "stdout",
          "output_type": "stream",
          "text": [
            "\n",
            "      Epoch    GPU_mem   box_loss   cls_loss   dfl_loss  Instances       Size\n"
          ]
        },
        {
          "name": "stderr",
          "output_type": "stream",
          "text": [
            "     94/100      5.22G     0.5062     0.6017      1.389         54       1024: 100%|██████████| 3/3 [00:01<00:00,  2.82it/s]\n",
            "                 Class     Images  Instances      Box(P          R      mAP50  mAP50-95): 100%|██████████| 1/1 [00:00<00:00,  3.76it/s]"
          ]
        },
        {
          "name": "stdout",
          "output_type": "stream",
          "text": [
            "                   all          8         33      0.991          1      0.995      0.845\n"
          ]
        },
        {
          "name": "stderr",
          "output_type": "stream",
          "text": [
            "\n"
          ]
        },
        {
          "name": "stdout",
          "output_type": "stream",
          "text": [
            "\n",
            "      Epoch    GPU_mem   box_loss   cls_loss   dfl_loss  Instances       Size\n"
          ]
        },
        {
          "name": "stderr",
          "output_type": "stream",
          "text": [
            "     95/100      5.22G     0.4994     0.6135      1.394         53       1024: 100%|██████████| 3/3 [00:01<00:00,  2.37it/s]\n",
            "                 Class     Images  Instances      Box(P          R      mAP50  mAP50-95): 100%|██████████| 1/1 [00:00<00:00,  2.83it/s]"
          ]
        },
        {
          "name": "stdout",
          "output_type": "stream",
          "text": [
            "                   all          8         33      0.991          1      0.995      0.842\n"
          ]
        },
        {
          "name": "stderr",
          "output_type": "stream",
          "text": [
            "\n"
          ]
        },
        {
          "name": "stdout",
          "output_type": "stream",
          "text": [
            "\n",
            "      Epoch    GPU_mem   box_loss   cls_loss   dfl_loss  Instances       Size\n"
          ]
        },
        {
          "name": "stderr",
          "output_type": "stream",
          "text": [
            "     96/100      5.22G     0.5288      0.616      1.464         47       1024: 100%|██████████| 3/3 [00:01<00:00,  2.28it/s]\n",
            "                 Class     Images  Instances      Box(P          R      mAP50  mAP50-95): 100%|██████████| 1/1 [00:00<00:00,  2.64it/s]"
          ]
        },
        {
          "name": "stdout",
          "output_type": "stream",
          "text": [
            "                   all          8         33      0.991          1      0.995      0.843\n"
          ]
        },
        {
          "name": "stderr",
          "output_type": "stream",
          "text": [
            "\n"
          ]
        },
        {
          "name": "stdout",
          "output_type": "stream",
          "text": [
            "\n",
            "      Epoch    GPU_mem   box_loss   cls_loss   dfl_loss  Instances       Size\n"
          ]
        },
        {
          "name": "stderr",
          "output_type": "stream",
          "text": [
            "     97/100      5.22G     0.4744     0.5758      1.481         52       1024: 100%|██████████| 3/3 [00:01<00:00,  2.71it/s]\n",
            "                 Class     Images  Instances      Box(P          R      mAP50  mAP50-95): 100%|██████████| 1/1 [00:00<00:00,  3.42it/s]"
          ]
        },
        {
          "name": "stdout",
          "output_type": "stream",
          "text": [
            "                   all          8         33      0.991          1      0.995      0.843\n"
          ]
        },
        {
          "name": "stderr",
          "output_type": "stream",
          "text": [
            "\n"
          ]
        },
        {
          "name": "stdout",
          "output_type": "stream",
          "text": [
            "\n",
            "      Epoch    GPU_mem   box_loss   cls_loss   dfl_loss  Instances       Size\n"
          ]
        },
        {
          "name": "stderr",
          "output_type": "stream",
          "text": [
            "     98/100      5.22G     0.4706     0.5727      1.365         43       1024: 100%|██████████| 3/3 [00:01<00:00,  2.74it/s]\n",
            "                 Class     Images  Instances      Box(P          R      mAP50  mAP50-95): 100%|██████████| 1/1 [00:00<00:00,  4.78it/s]"
          ]
        },
        {
          "name": "stdout",
          "output_type": "stream",
          "text": [
            "                   all          8         33      0.991          1      0.995      0.847\n"
          ]
        },
        {
          "name": "stderr",
          "output_type": "stream",
          "text": [
            "\n"
          ]
        },
        {
          "name": "stdout",
          "output_type": "stream",
          "text": [
            "\n",
            "      Epoch    GPU_mem   box_loss   cls_loss   dfl_loss  Instances       Size\n"
          ]
        },
        {
          "name": "stderr",
          "output_type": "stream",
          "text": [
            "     99/100      5.22G     0.4846     0.6003      1.401         50       1024: 100%|██████████| 3/3 [00:01<00:00,  2.84it/s]\n",
            "                 Class     Images  Instances      Box(P          R      mAP50  mAP50-95): 100%|██████████| 1/1 [00:00<00:00,  3.39it/s]"
          ]
        },
        {
          "name": "stdout",
          "output_type": "stream",
          "text": [
            "                   all          8         33      0.992          1      0.995      0.852\n"
          ]
        },
        {
          "name": "stderr",
          "output_type": "stream",
          "text": [
            "\n"
          ]
        },
        {
          "name": "stdout",
          "output_type": "stream",
          "text": [
            "\n",
            "      Epoch    GPU_mem   box_loss   cls_loss   dfl_loss  Instances       Size\n"
          ]
        },
        {
          "name": "stderr",
          "output_type": "stream",
          "text": [
            "    100/100      5.22G     0.4925     0.5834      1.406         50       1024: 100%|██████████| 3/3 [00:01<00:00,  2.72it/s]\n",
            "                 Class     Images  Instances      Box(P          R      mAP50  mAP50-95): 100%|██████████| 1/1 [00:00<00:00,  3.43it/s]"
          ]
        },
        {
          "name": "stdout",
          "output_type": "stream",
          "text": [
            "                   all          8         33      0.992      0.999      0.995      0.854\n"
          ]
        },
        {
          "name": "stderr",
          "output_type": "stream",
          "text": [
            "\n"
          ]
        },
        {
          "name": "stdout",
          "output_type": "stream",
          "text": [
            "\n",
            "100 epochs completed in 0.089 hours.\n",
            "Optimizer stripped from runs/obb/train/weights/last.pt, 6.7MB\n",
            "Optimizer stripped from runs/obb/train/weights/best.pt, 6.7MB\n",
            "\n",
            "Validating runs/obb/train/weights/best.pt...\n",
            "Ultralytics 8.3.51 🚀 Python-3.10.12 torch-2.5.1+cu121 CUDA:0 (Tesla T4, 15102MiB)\n",
            "YOLOv8n-obb summary (fused): 187 layers, 3,078,389 parameters, 0 gradients, 8.3 GFLOPs\n"
          ]
        },
        {
          "name": "stderr",
          "output_type": "stream",
          "text": [
            "                 Class     Images  Instances      Box(P          R      mAP50  mAP50-95): 100%|██████████| 1/1 [00:00<00:00,  4.15it/s]\n"
          ]
        },
        {
          "name": "stdout",
          "output_type": "stream",
          "text": [
            "                   all          8         33      0.903      0.964      0.995      0.887\n",
            "                laptop          8          8      0.941          1      0.995      0.912\n",
            "                 books          8         13      0.911          1      0.995      0.869\n",
            "                 phone          6          6      0.758          1      0.995      0.894\n",
            "            calculator          6          6          1      0.857      0.995      0.874\n",
            "Speed: 0.3ms preprocess, 3.1ms inference, 0.0ms loss, 17.3ms postprocess per image\n",
            "Results saved to \u001b[1mruns/obb/train\u001b[0m\n"
          ]
        }
      ],
      "source": [
        "from ultralytics import YOLO\n",
        "\n",
        "# Create a new YOLOv8n-OBB model from scratch\n",
        "model = YOLO('yolov8n-obb.pt')\n",
        "\n",
        "results = model.train(data='/content/data/data.yaml', epochs=100)"
      ]
    },
    {
      "cell_type": "code",
      "execution_count": 4,
      "metadata": {
        "colab": {
          "base_uri": "https://localhost:8080/"
        },
        "id": "5n0OV45YTzJJ",
        "outputId": "a15a5f82-603b-4c83-9150-7356027730c8"
      },
      "outputs": [
        {
          "name": "stdout",
          "output_type": "stream",
          "text": [
            "Requirement already satisfied: opencv-python in /usr/local/lib/python3.10/dist-packages (4.10.0.84)\n",
            "Requirement already satisfied: numpy>=1.21.2 in /usr/local/lib/python3.10/dist-packages (from opencv-python) (1.26.4)\n"
          ]
        }
      ],
      "source": [
        "! pip install opencv-python"
      ]
    },
    {
      "cell_type": "code",
      "execution_count": 7,
      "metadata": {
        "colab": {
          "base_uri": "https://localhost:8080/"
        },
        "id": "3uCzQY5kWmCl",
        "outputId": "21b6868c-812c-4ae4-fce1-a2c2cd7ed7a0"
      },
      "outputs": [
        {
          "name": "stdout",
          "output_type": "stream",
          "text": [
            "\n",
            "0: 576x1024 10.5ms\n",
            "Speed: 5.4ms preprocess, 10.5ms inference, 2.5ms postprocess per image at shape (1, 3, 576, 1024)\n",
            "\n",
            "0: 576x1024 12.3ms\n",
            "Speed: 6.5ms preprocess, 12.3ms inference, 3.9ms postprocess per image at shape (1, 3, 576, 1024)\n",
            "\n",
            "0: 576x1024 14.9ms\n",
            "Speed: 8.1ms preprocess, 14.9ms inference, 3.3ms postprocess per image at shape (1, 3, 576, 1024)\n",
            "\n",
            "0: 576x1024 11.9ms\n",
            "Speed: 6.7ms preprocess, 11.9ms inference, 2.4ms postprocess per image at shape (1, 3, 576, 1024)\n",
            "\n",
            "0: 576x1024 10.2ms\n",
            "Speed: 7.1ms preprocess, 10.2ms inference, 2.5ms postprocess per image at shape (1, 3, 576, 1024)\n",
            "\n",
            "0: 576x1024 9.8ms\n",
            "Speed: 6.9ms preprocess, 9.8ms inference, 2.4ms postprocess per image at shape (1, 3, 576, 1024)\n",
            "\n",
            "0: 576x1024 10.3ms\n",
            "Speed: 6.8ms preprocess, 10.3ms inference, 2.5ms postprocess per image at shape (1, 3, 576, 1024)\n",
            "\n",
            "0: 576x1024 10.4ms\n",
            "Speed: 6.7ms preprocess, 10.4ms inference, 2.7ms postprocess per image at shape (1, 3, 576, 1024)\n",
            "\n",
            "0: 576x1024 10.1ms\n",
            "Speed: 7.1ms preprocess, 10.1ms inference, 2.7ms postprocess per image at shape (1, 3, 576, 1024)\n",
            "\n",
            "0: 576x1024 17.0ms\n",
            "Speed: 6.7ms preprocess, 17.0ms inference, 2.5ms postprocess per image at shape (1, 3, 576, 1024)\n",
            "\n",
            "0: 576x1024 10.5ms\n",
            "Speed: 6.8ms preprocess, 10.5ms inference, 2.5ms postprocess per image at shape (1, 3, 576, 1024)\n",
            "\n",
            "0: 576x1024 10.6ms\n",
            "Speed: 6.3ms preprocess, 10.6ms inference, 2.8ms postprocess per image at shape (1, 3, 576, 1024)\n",
            "\n",
            "0: 576x1024 10.3ms\n",
            "Speed: 6.2ms preprocess, 10.3ms inference, 2.9ms postprocess per image at shape (1, 3, 576, 1024)\n",
            "\n",
            "0: 576x1024 10.3ms\n",
            "Speed: 9.9ms preprocess, 10.3ms inference, 2.4ms postprocess per image at shape (1, 3, 576, 1024)\n",
            "\n",
            "0: 576x1024 10.9ms\n",
            "Speed: 6.7ms preprocess, 10.9ms inference, 2.5ms postprocess per image at shape (1, 3, 576, 1024)\n",
            "\n",
            "0: 576x1024 10.3ms\n",
            "Speed: 6.6ms preprocess, 10.3ms inference, 2.4ms postprocess per image at shape (1, 3, 576, 1024)\n",
            "\n",
            "0: 576x1024 11.0ms\n",
            "Speed: 7.0ms preprocess, 11.0ms inference, 2.6ms postprocess per image at shape (1, 3, 576, 1024)\n",
            "\n",
            "0: 576x1024 10.2ms\n",
            "Speed: 6.6ms preprocess, 10.2ms inference, 2.5ms postprocess per image at shape (1, 3, 576, 1024)\n",
            "\n",
            "0: 576x1024 14.6ms\n",
            "Speed: 8.4ms preprocess, 14.6ms inference, 3.4ms postprocess per image at shape (1, 3, 576, 1024)\n",
            "\n",
            "0: 576x1024 14.1ms\n",
            "Speed: 6.3ms preprocess, 14.1ms inference, 6.9ms postprocess per image at shape (1, 3, 576, 1024)\n",
            "\n",
            "0: 576x1024 13.9ms\n",
            "Speed: 11.0ms preprocess, 13.9ms inference, 3.4ms postprocess per image at shape (1, 3, 576, 1024)\n",
            "\n",
            "0: 576x1024 14.2ms\n",
            "Speed: 7.1ms preprocess, 14.2ms inference, 3.3ms postprocess per image at shape (1, 3, 576, 1024)\n",
            "\n",
            "0: 576x1024 12.1ms\n",
            "Speed: 7.0ms preprocess, 12.1ms inference, 4.0ms postprocess per image at shape (1, 3, 576, 1024)\n",
            "\n",
            "0: 576x1024 13.3ms\n",
            "Speed: 7.3ms preprocess, 13.3ms inference, 3.7ms postprocess per image at shape (1, 3, 576, 1024)\n",
            "\n",
            "0: 576x1024 11.8ms\n",
            "Speed: 7.0ms preprocess, 11.8ms inference, 3.4ms postprocess per image at shape (1, 3, 576, 1024)\n",
            "\n",
            "0: 576x1024 10.6ms\n",
            "Speed: 6.7ms preprocess, 10.6ms inference, 2.5ms postprocess per image at shape (1, 3, 576, 1024)\n",
            "\n",
            "0: 576x1024 12.6ms\n",
            "Speed: 6.7ms preprocess, 12.6ms inference, 3.3ms postprocess per image at shape (1, 3, 576, 1024)\n",
            "\n",
            "0: 576x1024 10.5ms\n",
            "Speed: 6.9ms preprocess, 10.5ms inference, 6.4ms postprocess per image at shape (1, 3, 576, 1024)\n",
            "\n",
            "0: 576x1024 9.8ms\n",
            "Speed: 6.8ms preprocess, 9.8ms inference, 2.6ms postprocess per image at shape (1, 3, 576, 1024)\n",
            "\n",
            "0: 576x1024 10.8ms\n",
            "Speed: 6.9ms preprocess, 10.8ms inference, 3.4ms postprocess per image at shape (1, 3, 576, 1024)\n",
            "\n",
            "0: 576x1024 9.8ms\n",
            "Speed: 6.9ms preprocess, 9.8ms inference, 2.6ms postprocess per image at shape (1, 3, 576, 1024)\n",
            "\n",
            "0: 576x1024 10.5ms\n",
            "Speed: 7.8ms preprocess, 10.5ms inference, 2.8ms postprocess per image at shape (1, 3, 576, 1024)\n",
            "\n",
            "0: 576x1024 13.4ms\n",
            "Speed: 14.8ms preprocess, 13.4ms inference, 2.7ms postprocess per image at shape (1, 3, 576, 1024)\n",
            "\n",
            "0: 576x1024 10.6ms\n",
            "Speed: 7.5ms preprocess, 10.6ms inference, 2.5ms postprocess per image at shape (1, 3, 576, 1024)\n",
            "\n",
            "0: 576x1024 12.6ms\n",
            "Speed: 6.8ms preprocess, 12.6ms inference, 3.7ms postprocess per image at shape (1, 3, 576, 1024)\n",
            "\n",
            "0: 576x1024 15.5ms\n",
            "Speed: 9.9ms preprocess, 15.5ms inference, 3.5ms postprocess per image at shape (1, 3, 576, 1024)\n",
            "\n",
            "0: 576x1024 13.2ms\n",
            "Speed: 8.7ms preprocess, 13.2ms inference, 5.1ms postprocess per image at shape (1, 3, 576, 1024)\n",
            "\n",
            "0: 576x1024 14.2ms\n",
            "Speed: 8.0ms preprocess, 14.2ms inference, 4.2ms postprocess per image at shape (1, 3, 576, 1024)\n",
            "\n",
            "0: 576x1024 11.3ms\n",
            "Speed: 6.6ms preprocess, 11.3ms inference, 3.1ms postprocess per image at shape (1, 3, 576, 1024)\n",
            "\n",
            "0: 576x1024 11.0ms\n",
            "Speed: 6.7ms preprocess, 11.0ms inference, 2.8ms postprocess per image at shape (1, 3, 576, 1024)\n",
            "\n",
            "0: 576x1024 10.3ms\n",
            "Speed: 7.6ms preprocess, 10.3ms inference, 2.6ms postprocess per image at shape (1, 3, 576, 1024)\n",
            "\n",
            "0: 576x1024 10.6ms\n",
            "Speed: 6.7ms preprocess, 10.6ms inference, 2.5ms postprocess per image at shape (1, 3, 576, 1024)\n",
            "\n",
            "0: 576x1024 11.2ms\n",
            "Speed: 7.5ms preprocess, 11.2ms inference, 3.3ms postprocess per image at shape (1, 3, 576, 1024)\n",
            "\n",
            "0: 576x1024 11.2ms\n",
            "Speed: 6.6ms preprocess, 11.2ms inference, 2.7ms postprocess per image at shape (1, 3, 576, 1024)\n",
            "\n",
            "0: 576x1024 10.7ms\n",
            "Speed: 6.9ms preprocess, 10.7ms inference, 2.5ms postprocess per image at shape (1, 3, 576, 1024)\n",
            "\n",
            "0: 576x1024 10.2ms\n",
            "Speed: 6.7ms preprocess, 10.2ms inference, 2.5ms postprocess per image at shape (1, 3, 576, 1024)\n",
            "\n",
            "0: 576x1024 15.5ms\n",
            "Speed: 6.4ms preprocess, 15.5ms inference, 2.5ms postprocess per image at shape (1, 3, 576, 1024)\n",
            "\n",
            "0: 576x1024 13.1ms\n",
            "Speed: 6.4ms preprocess, 13.1ms inference, 2.6ms postprocess per image at shape (1, 3, 576, 1024)\n",
            "\n",
            "0: 576x1024 11.4ms\n",
            "Speed: 8.0ms preprocess, 11.4ms inference, 2.6ms postprocess per image at shape (1, 3, 576, 1024)\n",
            "\n",
            "0: 576x1024 16.2ms\n",
            "Speed: 10.2ms preprocess, 16.2ms inference, 4.5ms postprocess per image at shape (1, 3, 576, 1024)\n",
            "\n",
            "0: 576x1024 13.7ms\n",
            "Speed: 10.5ms preprocess, 13.7ms inference, 3.3ms postprocess per image at shape (1, 3, 576, 1024)\n",
            "\n",
            "0: 576x1024 12.8ms\n",
            "Speed: 9.8ms preprocess, 12.8ms inference, 3.2ms postprocess per image at shape (1, 3, 576, 1024)\n",
            "\n",
            "0: 576x1024 14.0ms\n",
            "Speed: 7.6ms preprocess, 14.0ms inference, 3.8ms postprocess per image at shape (1, 3, 576, 1024)\n",
            "\n",
            "0: 576x1024 17.3ms\n",
            "Speed: 8.8ms preprocess, 17.3ms inference, 3.5ms postprocess per image at shape (1, 3, 576, 1024)\n",
            "\n",
            "0: 576x1024 20.0ms\n",
            "Speed: 9.4ms preprocess, 20.0ms inference, 7.3ms postprocess per image at shape (1, 3, 576, 1024)\n",
            "\n",
            "0: 576x1024 16.5ms\n",
            "Speed: 10.4ms preprocess, 16.5ms inference, 4.3ms postprocess per image at shape (1, 3, 576, 1024)\n",
            "\n",
            "0: 576x1024 9.3ms\n",
            "Speed: 11.0ms preprocess, 9.3ms inference, 2.5ms postprocess per image at shape (1, 3, 576, 1024)\n",
            "\n",
            "0: 576x1024 10.9ms\n",
            "Speed: 6.5ms preprocess, 10.9ms inference, 2.6ms postprocess per image at shape (1, 3, 576, 1024)\n",
            "\n",
            "0: 576x1024 10.6ms\n",
            "Speed: 6.8ms preprocess, 10.6ms inference, 2.5ms postprocess per image at shape (1, 3, 576, 1024)\n",
            "\n",
            "0: 576x1024 10.2ms\n",
            "Speed: 6.5ms preprocess, 10.2ms inference, 3.6ms postprocess per image at shape (1, 3, 576, 1024)\n",
            "\n",
            "0: 576x1024 10.1ms\n",
            "Speed: 6.8ms preprocess, 10.1ms inference, 2.5ms postprocess per image at shape (1, 3, 576, 1024)\n",
            "\n",
            "0: 576x1024 10.3ms\n",
            "Speed: 6.7ms preprocess, 10.3ms inference, 2.6ms postprocess per image at shape (1, 3, 576, 1024)\n",
            "\n",
            "0: 576x1024 10.2ms\n",
            "Speed: 6.8ms preprocess, 10.2ms inference, 2.5ms postprocess per image at shape (1, 3, 576, 1024)\n",
            "\n",
            "0: 576x1024 11.6ms\n",
            "Speed: 7.0ms preprocess, 11.6ms inference, 2.8ms postprocess per image at shape (1, 3, 576, 1024)\n",
            "\n",
            "0: 576x1024 11.2ms\n",
            "Speed: 6.7ms preprocess, 11.2ms inference, 2.6ms postprocess per image at shape (1, 3, 576, 1024)\n",
            "\n",
            "0: 576x1024 10.9ms\n",
            "Speed: 10.0ms preprocess, 10.9ms inference, 3.2ms postprocess per image at shape (1, 3, 576, 1024)\n",
            "\n",
            "0: 576x1024 14.6ms\n",
            "Speed: 6.8ms preprocess, 14.6ms inference, 4.3ms postprocess per image at shape (1, 3, 576, 1024)\n",
            "\n",
            "0: 576x1024 16.5ms\n",
            "Speed: 12.7ms preprocess, 16.5ms inference, 3.9ms postprocess per image at shape (1, 3, 576, 1024)\n",
            "\n",
            "0: 576x1024 24.4ms\n",
            "Speed: 9.7ms preprocess, 24.4ms inference, 7.2ms postprocess per image at shape (1, 3, 576, 1024)\n",
            "\n",
            "0: 576x1024 16.2ms\n",
            "Speed: 6.6ms preprocess, 16.2ms inference, 4.8ms postprocess per image at shape (1, 3, 576, 1024)\n",
            "\n",
            "0: 576x1024 18.1ms\n",
            "Speed: 7.3ms preprocess, 18.1ms inference, 3.8ms postprocess per image at shape (1, 3, 576, 1024)\n",
            "\n",
            "0: 576x1024 12.3ms\n",
            "Speed: 6.7ms preprocess, 12.3ms inference, 3.4ms postprocess per image at shape (1, 3, 576, 1024)\n",
            "\n",
            "0: 576x1024 12.7ms\n",
            "Speed: 14.6ms preprocess, 12.7ms inference, 3.2ms postprocess per image at shape (1, 3, 576, 1024)\n",
            "\n",
            "0: 576x1024 12.4ms\n",
            "Speed: 13.8ms preprocess, 12.4ms inference, 3.5ms postprocess per image at shape (1, 3, 576, 1024)\n",
            "\n",
            "0: 576x1024 10.3ms\n",
            "Speed: 6.8ms preprocess, 10.3ms inference, 3.3ms postprocess per image at shape (1, 3, 576, 1024)\n",
            "\n",
            "0: 576x1024 10.6ms\n",
            "Speed: 6.7ms preprocess, 10.6ms inference, 6.1ms postprocess per image at shape (1, 3, 576, 1024)\n",
            "\n",
            "0: 576x1024 10.8ms\n",
            "Speed: 7.2ms preprocess, 10.8ms inference, 3.3ms postprocess per image at shape (1, 3, 576, 1024)\n",
            "\n",
            "0: 576x1024 25.3ms\n",
            "Speed: 7.7ms preprocess, 25.3ms inference, 8.2ms postprocess per image at shape (1, 3, 576, 1024)\n",
            "\n",
            "0: 576x1024 16.0ms\n",
            "Speed: 12.9ms preprocess, 16.0ms inference, 3.3ms postprocess per image at shape (1, 3, 576, 1024)\n",
            "\n",
            "0: 576x1024 16.8ms\n",
            "Speed: 12.6ms preprocess, 16.8ms inference, 3.3ms postprocess per image at shape (1, 3, 576, 1024)\n",
            "\n",
            "0: 576x1024 18.1ms\n",
            "Speed: 10.7ms preprocess, 18.1ms inference, 3.3ms postprocess per image at shape (1, 3, 576, 1024)\n",
            "\n",
            "0: 576x1024 10.9ms\n",
            "Speed: 6.7ms preprocess, 10.9ms inference, 3.4ms postprocess per image at shape (1, 3, 576, 1024)\n",
            "\n",
            "0: 576x1024 11.2ms\n",
            "Speed: 6.5ms preprocess, 11.2ms inference, 3.3ms postprocess per image at shape (1, 3, 576, 1024)\n",
            "\n",
            "0: 576x1024 16.4ms\n",
            "Speed: 6.8ms preprocess, 16.4ms inference, 3.2ms postprocess per image at shape (1, 3, 576, 1024)\n",
            "\n",
            "0: 576x1024 13.4ms\n",
            "Speed: 9.1ms preprocess, 13.4ms inference, 3.1ms postprocess per image at shape (1, 3, 576, 1024)\n",
            "\n",
            "0: 576x1024 13.4ms\n",
            "Speed: 6.7ms preprocess, 13.4ms inference, 3.3ms postprocess per image at shape (1, 3, 576, 1024)\n",
            "\n",
            "0: 576x1024 9.6ms\n",
            "Speed: 13.8ms preprocess, 9.6ms inference, 3.1ms postprocess per image at shape (1, 3, 576, 1024)\n",
            "\n",
            "0: 576x1024 10.2ms\n",
            "Speed: 12.0ms preprocess, 10.2ms inference, 5.0ms postprocess per image at shape (1, 3, 576, 1024)\n",
            "\n",
            "0: 576x1024 14.7ms\n",
            "Speed: 9.3ms preprocess, 14.7ms inference, 3.9ms postprocess per image at shape (1, 3, 576, 1024)\n",
            "\n",
            "0: 576x1024 18.0ms\n",
            "Speed: 11.8ms preprocess, 18.0ms inference, 5.3ms postprocess per image at shape (1, 3, 576, 1024)\n",
            "\n",
            "0: 576x1024 16.7ms\n",
            "Speed: 9.4ms preprocess, 16.7ms inference, 3.6ms postprocess per image at shape (1, 3, 576, 1024)\n",
            "\n",
            "0: 576x1024 23.0ms\n",
            "Speed: 12.0ms preprocess, 23.0ms inference, 3.6ms postprocess per image at shape (1, 3, 576, 1024)\n",
            "\n",
            "0: 576x1024 11.3ms\n",
            "Speed: 9.2ms preprocess, 11.3ms inference, 3.4ms postprocess per image at shape (1, 3, 576, 1024)\n",
            "\n",
            "0: 576x1024 21.8ms\n",
            "Speed: 6.5ms preprocess, 21.8ms inference, 5.0ms postprocess per image at shape (1, 3, 576, 1024)\n",
            "\n",
            "0: 576x1024 14.1ms\n",
            "Speed: 11.1ms preprocess, 14.1ms inference, 4.1ms postprocess per image at shape (1, 3, 576, 1024)\n",
            "\n",
            "0: 576x1024 12.6ms\n",
            "Speed: 6.5ms preprocess, 12.6ms inference, 3.2ms postprocess per image at shape (1, 3, 576, 1024)\n",
            "\n",
            "0: 576x1024 16.4ms\n",
            "Speed: 6.9ms preprocess, 16.4ms inference, 6.3ms postprocess per image at shape (1, 3, 576, 1024)\n",
            "\n",
            "0: 576x1024 19.0ms\n",
            "Speed: 6.9ms preprocess, 19.0ms inference, 5.2ms postprocess per image at shape (1, 3, 576, 1024)\n",
            "\n",
            "0: 576x1024 13.9ms\n",
            "Speed: 6.6ms preprocess, 13.9ms inference, 6.0ms postprocess per image at shape (1, 3, 576, 1024)\n",
            "\n",
            "0: 576x1024 12.8ms\n",
            "Speed: 10.1ms preprocess, 12.8ms inference, 3.6ms postprocess per image at shape (1, 3, 576, 1024)\n",
            "\n",
            "0: 576x1024 21.3ms\n",
            "Speed: 10.9ms preprocess, 21.3ms inference, 12.3ms postprocess per image at shape (1, 3, 576, 1024)\n",
            "\n",
            "0: 576x1024 22.2ms\n",
            "Speed: 21.4ms preprocess, 22.2ms inference, 7.5ms postprocess per image at shape (1, 3, 576, 1024)\n",
            "\n",
            "0: 576x1024 12.4ms\n",
            "Speed: 10.7ms preprocess, 12.4ms inference, 3.6ms postprocess per image at shape (1, 3, 576, 1024)\n",
            "\n",
            "0: 576x1024 12.7ms\n",
            "Speed: 6.6ms preprocess, 12.7ms inference, 3.4ms postprocess per image at shape (1, 3, 576, 1024)\n",
            "\n",
            "0: 576x1024 19.0ms\n",
            "Speed: 8.4ms preprocess, 19.0ms inference, 3.5ms postprocess per image at shape (1, 3, 576, 1024)\n",
            "\n",
            "0: 576x1024 21.6ms\n",
            "Speed: 9.8ms preprocess, 21.6ms inference, 12.5ms postprocess per image at shape (1, 3, 576, 1024)\n",
            "\n",
            "0: 576x1024 23.8ms\n",
            "Speed: 7.2ms preprocess, 23.8ms inference, 3.7ms postprocess per image at shape (1, 3, 576, 1024)\n",
            "\n",
            "0: 576x1024 18.3ms\n",
            "Speed: 7.3ms preprocess, 18.3ms inference, 3.6ms postprocess per image at shape (1, 3, 576, 1024)\n",
            "\n",
            "0: 576x1024 11.8ms\n",
            "Speed: 12.5ms preprocess, 11.8ms inference, 3.6ms postprocess per image at shape (1, 3, 576, 1024)\n",
            "\n",
            "0: 576x1024 13.2ms\n",
            "Speed: 12.2ms preprocess, 13.2ms inference, 3.6ms postprocess per image at shape (1, 3, 576, 1024)\n",
            "\n",
            "0: 576x1024 18.1ms\n",
            "Speed: 11.6ms preprocess, 18.1ms inference, 5.6ms postprocess per image at shape (1, 3, 576, 1024)\n",
            "\n",
            "0: 576x1024 28.2ms\n",
            "Speed: 11.6ms preprocess, 28.2ms inference, 8.6ms postprocess per image at shape (1, 3, 576, 1024)\n",
            "\n",
            "0: 576x1024 18.6ms\n",
            "Speed: 14.3ms preprocess, 18.6ms inference, 6.7ms postprocess per image at shape (1, 3, 576, 1024)\n",
            "\n",
            "0: 576x1024 11.6ms\n",
            "Speed: 15.0ms preprocess, 11.6ms inference, 4.1ms postprocess per image at shape (1, 3, 576, 1024)\n",
            "\n",
            "0: 576x1024 16.8ms\n",
            "Speed: 7.2ms preprocess, 16.8ms inference, 3.6ms postprocess per image at shape (1, 3, 576, 1024)\n",
            "\n",
            "0: 576x1024 19.3ms\n",
            "Speed: 8.9ms preprocess, 19.3ms inference, 4.5ms postprocess per image at shape (1, 3, 576, 1024)\n",
            "\n",
            "0: 576x1024 11.1ms\n",
            "Speed: 7.9ms preprocess, 11.1ms inference, 3.7ms postprocess per image at shape (1, 3, 576, 1024)\n",
            "\n",
            "0: 576x1024 19.4ms\n",
            "Speed: 6.5ms preprocess, 19.4ms inference, 3.6ms postprocess per image at shape (1, 3, 576, 1024)\n",
            "\n",
            "0: 576x1024 11.2ms\n",
            "Speed: 9.1ms preprocess, 11.2ms inference, 3.4ms postprocess per image at shape (1, 3, 576, 1024)\n",
            "\n",
            "0: 576x1024 19.2ms\n",
            "Speed: 7.9ms preprocess, 19.2ms inference, 6.3ms postprocess per image at shape (1, 3, 576, 1024)\n",
            "\n",
            "0: 576x1024 15.4ms\n",
            "Speed: 7.6ms preprocess, 15.4ms inference, 3.9ms postprocess per image at shape (1, 3, 576, 1024)\n",
            "\n",
            "0: 576x1024 12.3ms\n",
            "Speed: 13.6ms preprocess, 12.3ms inference, 3.6ms postprocess per image at shape (1, 3, 576, 1024)\n",
            "\n",
            "0: 576x1024 17.4ms\n",
            "Speed: 10.6ms preprocess, 17.4ms inference, 3.7ms postprocess per image at shape (1, 3, 576, 1024)\n",
            "\n",
            "0: 576x1024 31.4ms\n",
            "Speed: 6.4ms preprocess, 31.4ms inference, 14.1ms postprocess per image at shape (1, 3, 576, 1024)\n",
            "\n",
            "0: 576x1024 23.6ms\n",
            "Speed: 10.4ms preprocess, 23.6ms inference, 6.6ms postprocess per image at shape (1, 3, 576, 1024)\n",
            "\n",
            "0: 576x1024 16.2ms\n",
            "Speed: 15.7ms preprocess, 16.2ms inference, 3.5ms postprocess per image at shape (1, 3, 576, 1024)\n",
            "\n",
            "0: 576x1024 14.7ms\n",
            "Speed: 6.5ms preprocess, 14.7ms inference, 4.8ms postprocess per image at shape (1, 3, 576, 1024)\n",
            "\n",
            "0: 576x1024 12.2ms\n",
            "Speed: 14.8ms preprocess, 12.2ms inference, 3.6ms postprocess per image at shape (1, 3, 576, 1024)\n",
            "\n",
            "0: 576x1024 11.2ms\n",
            "Speed: 6.5ms preprocess, 11.2ms inference, 3.4ms postprocess per image at shape (1, 3, 576, 1024)\n",
            "\n",
            "0: 576x1024 13.6ms\n",
            "Speed: 6.8ms preprocess, 13.6ms inference, 3.5ms postprocess per image at shape (1, 3, 576, 1024)\n",
            "\n",
            "0: 576x1024 13.5ms\n",
            "Speed: 19.4ms preprocess, 13.5ms inference, 3.8ms postprocess per image at shape (1, 3, 576, 1024)\n",
            "\n",
            "0: 576x1024 12.2ms\n",
            "Speed: 6.8ms preprocess, 12.2ms inference, 4.0ms postprocess per image at shape (1, 3, 576, 1024)\n",
            "\n",
            "0: 576x1024 18.3ms\n",
            "Speed: 6.9ms preprocess, 18.3ms inference, 5.8ms postprocess per image at shape (1, 3, 576, 1024)\n",
            "\n",
            "0: 576x1024 32.4ms\n",
            "Speed: 8.9ms preprocess, 32.4ms inference, 5.3ms postprocess per image at shape (1, 3, 576, 1024)\n",
            "\n",
            "0: 576x1024 16.8ms\n",
            "Speed: 11.6ms preprocess, 16.8ms inference, 3.9ms postprocess per image at shape (1, 3, 576, 1024)\n",
            "\n",
            "0: 576x1024 13.4ms\n",
            "Speed: 7.5ms preprocess, 13.4ms inference, 4.5ms postprocess per image at shape (1, 3, 576, 1024)\n",
            "\n",
            "0: 576x1024 27.3ms\n",
            "Speed: 15.2ms preprocess, 27.3ms inference, 4.4ms postprocess per image at shape (1, 3, 576, 1024)\n",
            "\n",
            "0: 576x1024 17.7ms\n",
            "Speed: 15.4ms preprocess, 17.7ms inference, 4.3ms postprocess per image at shape (1, 3, 576, 1024)\n",
            "\n",
            "0: 576x1024 10.6ms\n",
            "Speed: 7.4ms preprocess, 10.6ms inference, 2.6ms postprocess per image at shape (1, 3, 576, 1024)\n",
            "\n",
            "0: 576x1024 11.0ms\n",
            "Speed: 7.3ms preprocess, 11.0ms inference, 2.7ms postprocess per image at shape (1, 3, 576, 1024)\n",
            "\n",
            "0: 576x1024 10.2ms\n",
            "Speed: 6.7ms preprocess, 10.2ms inference, 2.5ms postprocess per image at shape (1, 3, 576, 1024)\n",
            "\n",
            "0: 576x1024 11.5ms\n",
            "Speed: 6.7ms preprocess, 11.5ms inference, 3.4ms postprocess per image at shape (1, 3, 576, 1024)\n",
            "\n",
            "0: 576x1024 10.1ms\n",
            "Speed: 6.7ms preprocess, 10.1ms inference, 2.6ms postprocess per image at shape (1, 3, 576, 1024)\n",
            "\n",
            "0: 576x1024 11.0ms\n",
            "Speed: 7.1ms preprocess, 11.0ms inference, 2.9ms postprocess per image at shape (1, 3, 576, 1024)\n",
            "\n",
            "0: 576x1024 9.3ms\n",
            "Speed: 6.8ms preprocess, 9.3ms inference, 2.5ms postprocess per image at shape (1, 3, 576, 1024)\n",
            "\n",
            "0: 576x1024 12.7ms\n",
            "Speed: 7.0ms preprocess, 12.7ms inference, 2.5ms postprocess per image at shape (1, 3, 576, 1024)\n",
            "\n",
            "0: 576x1024 12.9ms\n",
            "Speed: 7.2ms preprocess, 12.9ms inference, 3.7ms postprocess per image at shape (1, 3, 576, 1024)\n",
            "\n",
            "0: 576x1024 14.0ms\n",
            "Speed: 7.3ms preprocess, 14.0ms inference, 3.4ms postprocess per image at shape (1, 3, 576, 1024)\n",
            "\n",
            "0: 576x1024 15.5ms\n",
            "Speed: 14.5ms preprocess, 15.5ms inference, 4.7ms postprocess per image at shape (1, 3, 576, 1024)\n",
            "\n",
            "0: 576x1024 16.0ms\n",
            "Speed: 11.4ms preprocess, 16.0ms inference, 3.4ms postprocess per image at shape (1, 3, 576, 1024)\n",
            "\n",
            "0: 576x1024 16.1ms\n",
            "Speed: 6.6ms preprocess, 16.1ms inference, 3.4ms postprocess per image at shape (1, 3, 576, 1024)\n",
            "\n",
            "0: 576x1024 9.6ms\n",
            "Speed: 6.9ms preprocess, 9.6ms inference, 4.9ms postprocess per image at shape (1, 3, 576, 1024)\n",
            "\n",
            "0: 576x1024 12.9ms\n",
            "Speed: 6.5ms preprocess, 12.9ms inference, 3.4ms postprocess per image at shape (1, 3, 576, 1024)\n",
            "\n",
            "0: 576x1024 10.6ms\n",
            "Speed: 6.2ms preprocess, 10.6ms inference, 2.4ms postprocess per image at shape (1, 3, 576, 1024)\n",
            "\n",
            "0: 576x1024 11.2ms\n",
            "Speed: 8.9ms preprocess, 11.2ms inference, 2.5ms postprocess per image at shape (1, 3, 576, 1024)\n",
            "\n",
            "0: 576x1024 9.2ms\n",
            "Speed: 6.7ms preprocess, 9.2ms inference, 2.5ms postprocess per image at shape (1, 3, 576, 1024)\n",
            "\n",
            "0: 576x1024 9.3ms\n",
            "Speed: 6.7ms preprocess, 9.3ms inference, 2.5ms postprocess per image at shape (1, 3, 576, 1024)\n",
            "\n",
            "0: 576x1024 9.3ms\n",
            "Speed: 6.8ms preprocess, 9.3ms inference, 2.8ms postprocess per image at shape (1, 3, 576, 1024)\n",
            "\n",
            "0: 576x1024 9.3ms\n",
            "Speed: 6.6ms preprocess, 9.3ms inference, 2.5ms postprocess per image at shape (1, 3, 576, 1024)\n",
            "\n",
            "0: 576x1024 12.0ms\n",
            "Speed: 6.8ms preprocess, 12.0ms inference, 2.6ms postprocess per image at shape (1, 3, 576, 1024)\n",
            "\n",
            "0: 576x1024 10.8ms\n",
            "Speed: 6.6ms preprocess, 10.8ms inference, 2.5ms postprocess per image at shape (1, 3, 576, 1024)\n",
            "\n",
            "0: 576x1024 9.7ms\n",
            "Speed: 7.0ms preprocess, 9.7ms inference, 2.5ms postprocess per image at shape (1, 3, 576, 1024)\n",
            "\n",
            "0: 576x1024 14.1ms\n",
            "Speed: 6.7ms preprocess, 14.1ms inference, 4.7ms postprocess per image at shape (1, 3, 576, 1024)\n",
            "\n",
            "0: 576x1024 13.9ms\n",
            "Speed: 6.5ms preprocess, 13.9ms inference, 4.3ms postprocess per image at shape (1, 3, 576, 1024)\n",
            "\n",
            "0: 576x1024 12.4ms\n",
            "Speed: 6.4ms preprocess, 12.4ms inference, 3.1ms postprocess per image at shape (1, 3, 576, 1024)\n",
            "\n",
            "0: 576x1024 11.7ms\n",
            "Speed: 9.7ms preprocess, 11.7ms inference, 3.5ms postprocess per image at shape (1, 3, 576, 1024)\n",
            "\n",
            "0: 576x1024 10.1ms\n",
            "Speed: 9.0ms preprocess, 10.1ms inference, 2.6ms postprocess per image at shape (1, 3, 576, 1024)\n",
            "\n",
            "0: 576x1024 10.7ms\n",
            "Speed: 7.2ms preprocess, 10.7ms inference, 2.7ms postprocess per image at shape (1, 3, 576, 1024)\n",
            "\n",
            "0: 576x1024 15.1ms\n",
            "Speed: 11.2ms preprocess, 15.1ms inference, 4.2ms postprocess per image at shape (1, 3, 576, 1024)\n",
            "\n",
            "0: 576x1024 9.4ms\n",
            "Speed: 6.7ms preprocess, 9.4ms inference, 2.8ms postprocess per image at shape (1, 3, 576, 1024)\n",
            "\n",
            "0: 576x1024 9.7ms\n",
            "Speed: 7.1ms preprocess, 9.7ms inference, 2.6ms postprocess per image at shape (1, 3, 576, 1024)\n",
            "\n",
            "0: 576x1024 10.4ms\n",
            "Speed: 7.0ms preprocess, 10.4ms inference, 2.6ms postprocess per image at shape (1, 3, 576, 1024)\n",
            "\n",
            "0: 576x1024 9.6ms\n",
            "Speed: 6.9ms preprocess, 9.6ms inference, 2.5ms postprocess per image at shape (1, 3, 576, 1024)\n",
            "\n",
            "0: 576x1024 11.8ms\n",
            "Speed: 6.7ms preprocess, 11.8ms inference, 2.6ms postprocess per image at shape (1, 3, 576, 1024)\n",
            "\n",
            "0: 576x1024 12.8ms\n",
            "Speed: 6.9ms preprocess, 12.8ms inference, 2.5ms postprocess per image at shape (1, 3, 576, 1024)\n",
            "\n",
            "0: 576x1024 11.1ms\n",
            "Speed: 14.8ms preprocess, 11.1ms inference, 2.7ms postprocess per image at shape (1, 3, 576, 1024)\n",
            "\n",
            "0: 576x1024 11.8ms\n",
            "Speed: 7.8ms preprocess, 11.8ms inference, 3.0ms postprocess per image at shape (1, 3, 576, 1024)\n",
            "\n",
            "0: 576x1024 16.7ms\n",
            "Speed: 8.7ms preprocess, 16.7ms inference, 3.9ms postprocess per image at shape (1, 3, 576, 1024)\n",
            "\n",
            "0: 576x1024 14.4ms\n",
            "Speed: 8.0ms preprocess, 14.4ms inference, 3.6ms postprocess per image at shape (1, 3, 576, 1024)\n",
            "\n",
            "0: 576x1024 12.6ms\n",
            "Speed: 8.5ms preprocess, 12.6ms inference, 7.2ms postprocess per image at shape (1, 3, 576, 1024)\n",
            "\n",
            "0: 576x1024 13.9ms\n",
            "Speed: 12.9ms preprocess, 13.9ms inference, 3.6ms postprocess per image at shape (1, 3, 576, 1024)\n",
            "\n",
            "0: 576x1024 10.5ms\n",
            "Speed: 6.8ms preprocess, 10.5ms inference, 2.5ms postprocess per image at shape (1, 3, 576, 1024)\n",
            "\n",
            "0: 576x1024 10.8ms\n",
            "Speed: 9.6ms preprocess, 10.8ms inference, 2.6ms postprocess per image at shape (1, 3, 576, 1024)\n",
            "\n",
            "0: 576x1024 11.7ms\n",
            "Speed: 7.3ms preprocess, 11.7ms inference, 2.6ms postprocess per image at shape (1, 3, 576, 1024)\n",
            "\n",
            "0: 576x1024 12.6ms\n",
            "Speed: 6.9ms preprocess, 12.6ms inference, 3.5ms postprocess per image at shape (1, 3, 576, 1024)\n",
            "\n",
            "0: 576x1024 9.8ms\n",
            "Speed: 6.7ms preprocess, 9.8ms inference, 2.5ms postprocess per image at shape (1, 3, 576, 1024)\n",
            "\n",
            "0: 576x1024 9.9ms\n",
            "Speed: 8.6ms preprocess, 9.9ms inference, 2.5ms postprocess per image at shape (1, 3, 576, 1024)\n",
            "\n",
            "0: 576x1024 9.8ms\n",
            "Speed: 6.7ms preprocess, 9.8ms inference, 2.5ms postprocess per image at shape (1, 3, 576, 1024)\n",
            "\n",
            "0: 576x1024 9.6ms\n",
            "Speed: 6.8ms preprocess, 9.6ms inference, 2.5ms postprocess per image at shape (1, 3, 576, 1024)\n",
            "\n",
            "0: 576x1024 9.3ms\n",
            "Speed: 6.7ms preprocess, 9.3ms inference, 2.5ms postprocess per image at shape (1, 3, 576, 1024)\n",
            "\n",
            "0: 576x1024 11.3ms\n",
            "Speed: 6.7ms preprocess, 11.3ms inference, 2.6ms postprocess per image at shape (1, 3, 576, 1024)\n",
            "\n",
            "0: 576x1024 9.3ms\n",
            "Speed: 6.7ms preprocess, 9.3ms inference, 4.2ms postprocess per image at shape (1, 3, 576, 1024)\n",
            "\n",
            "0: 576x1024 12.8ms\n",
            "Speed: 6.8ms preprocess, 12.8ms inference, 4.8ms postprocess per image at shape (1, 3, 576, 1024)\n",
            "\n",
            "0: 576x1024 11.8ms\n",
            "Speed: 12.9ms preprocess, 11.8ms inference, 3.4ms postprocess per image at shape (1, 3, 576, 1024)\n",
            "\n",
            "0: 576x1024 11.4ms\n",
            "Speed: 9.3ms preprocess, 11.4ms inference, 3.5ms postprocess per image at shape (1, 3, 576, 1024)\n",
            "\n",
            "0: 576x1024 12.8ms\n",
            "Speed: 10.5ms preprocess, 12.8ms inference, 3.5ms postprocess per image at shape (1, 3, 576, 1024)\n",
            "\n",
            "0: 576x1024 12.7ms\n",
            "Speed: 7.0ms preprocess, 12.7ms inference, 3.2ms postprocess per image at shape (1, 3, 576, 1024)\n",
            "\n",
            "0: 576x1024 10.9ms\n",
            "Speed: 6.3ms preprocess, 10.9ms inference, 2.7ms postprocess per image at shape (1, 3, 576, 1024)\n",
            "\n",
            "0: 576x1024 10.6ms\n",
            "Speed: 6.3ms preprocess, 10.6ms inference, 2.9ms postprocess per image at shape (1, 3, 576, 1024)\n",
            "\n",
            "0: 576x1024 9.2ms\n",
            "Speed: 6.7ms preprocess, 9.2ms inference, 2.6ms postprocess per image at shape (1, 3, 576, 1024)\n",
            "\n",
            "0: 576x1024 12.0ms\n",
            "Speed: 7.8ms preprocess, 12.0ms inference, 3.7ms postprocess per image at shape (1, 3, 576, 1024)\n",
            "\n",
            "0: 576x1024 9.3ms\n",
            "Speed: 6.8ms preprocess, 9.3ms inference, 2.7ms postprocess per image at shape (1, 3, 576, 1024)\n",
            "\n",
            "0: 576x1024 10.1ms\n",
            "Speed: 6.9ms preprocess, 10.1ms inference, 2.6ms postprocess per image at shape (1, 3, 576, 1024)\n",
            "\n",
            "0: 576x1024 9.8ms\n",
            "Speed: 6.7ms preprocess, 9.8ms inference, 2.5ms postprocess per image at shape (1, 3, 576, 1024)\n",
            "\n",
            "0: 576x1024 9.3ms\n",
            "Speed: 6.7ms preprocess, 9.3ms inference, 2.6ms postprocess per image at shape (1, 3, 576, 1024)\n",
            "\n",
            "0: 576x1024 11.8ms\n",
            "Speed: 10.3ms preprocess, 11.8ms inference, 2.8ms postprocess per image at shape (1, 3, 576, 1024)\n",
            "\n",
            "0: 576x1024 10.7ms\n",
            "Speed: 7.2ms preprocess, 10.7ms inference, 2.6ms postprocess per image at shape (1, 3, 576, 1024)\n",
            "\n",
            "0: 576x1024 9.7ms\n",
            "Speed: 7.3ms preprocess, 9.7ms inference, 2.5ms postprocess per image at shape (1, 3, 576, 1024)\n",
            "\n",
            "0: 576x1024 13.4ms\n",
            "Speed: 17.7ms preprocess, 13.4ms inference, 3.4ms postprocess per image at shape (1, 3, 576, 1024)\n",
            "\n",
            "0: 576x1024 15.6ms\n",
            "Speed: 11.4ms preprocess, 15.6ms inference, 3.3ms postprocess per image at shape (1, 3, 576, 1024)\n",
            "\n",
            "0: 576x1024 12.3ms\n",
            "Speed: 11.3ms preprocess, 12.3ms inference, 3.4ms postprocess per image at shape (1, 3, 576, 1024)\n",
            "\n",
            "0: 576x1024 15.6ms\n",
            "Speed: 11.6ms preprocess, 15.6ms inference, 6.4ms postprocess per image at shape (1, 3, 576, 1024)\n",
            "\n",
            "0: 576x1024 12.7ms\n",
            "Speed: 9.5ms preprocess, 12.7ms inference, 2.6ms postprocess per image at shape (1, 3, 576, 1024)\n",
            "\n",
            "0: 576x1024 10.1ms\n",
            "Speed: 8.1ms preprocess, 10.1ms inference, 2.6ms postprocess per image at shape (1, 3, 576, 1024)\n",
            "\n",
            "0: 576x1024 10.7ms\n",
            "Speed: 7.1ms preprocess, 10.7ms inference, 3.5ms postprocess per image at shape (1, 3, 576, 1024)\n",
            "\n",
            "0: 576x1024 12.5ms\n",
            "Speed: 6.7ms preprocess, 12.5ms inference, 2.6ms postprocess per image at shape (1, 3, 576, 1024)\n",
            "\n",
            "0: 576x1024 12.3ms\n",
            "Speed: 6.9ms preprocess, 12.3ms inference, 3.7ms postprocess per image at shape (1, 3, 576, 1024)\n",
            "\n",
            "0: 576x1024 10.4ms\n",
            "Speed: 6.9ms preprocess, 10.4ms inference, 2.5ms postprocess per image at shape (1, 3, 576, 1024)\n",
            "\n",
            "0: 576x1024 11.0ms\n",
            "Speed: 6.5ms preprocess, 11.0ms inference, 2.8ms postprocess per image at shape (1, 3, 576, 1024)\n",
            "\n",
            "0: 576x1024 10.8ms\n",
            "Speed: 6.4ms preprocess, 10.8ms inference, 3.2ms postprocess per image at shape (1, 3, 576, 1024)\n",
            "\n",
            "0: 576x1024 11.3ms\n",
            "Speed: 6.3ms preprocess, 11.3ms inference, 3.2ms postprocess per image at shape (1, 3, 576, 1024)\n",
            "\n",
            "0: 576x1024 10.6ms\n",
            "Speed: 6.4ms preprocess, 10.6ms inference, 2.7ms postprocess per image at shape (1, 3, 576, 1024)\n",
            "\n",
            "0: 576x1024 9.4ms\n",
            "Speed: 7.2ms preprocess, 9.4ms inference, 2.5ms postprocess per image at shape (1, 3, 576, 1024)\n",
            "\n",
            "0: 576x1024 10.3ms\n",
            "Speed: 7.6ms preprocess, 10.3ms inference, 2.7ms postprocess per image at shape (1, 3, 576, 1024)\n",
            "\n",
            "0: 576x1024 12.6ms\n",
            "Speed: 6.7ms preprocess, 12.6ms inference, 5.5ms postprocess per image at shape (1, 3, 576, 1024)\n",
            "\n",
            "0: 576x1024 12.4ms\n",
            "Speed: 10.8ms preprocess, 12.4ms inference, 3.2ms postprocess per image at shape (1, 3, 576, 1024)\n",
            "\n",
            "0: 576x1024 21.6ms\n",
            "Speed: 11.4ms preprocess, 21.6ms inference, 3.5ms postprocess per image at shape (1, 3, 576, 1024)\n",
            "\n",
            "0: 576x1024 15.0ms\n",
            "Speed: 7.6ms preprocess, 15.0ms inference, 3.7ms postprocess per image at shape (1, 3, 576, 1024)\n",
            "\n",
            "0: 576x1024 15.8ms\n",
            "Speed: 11.1ms preprocess, 15.8ms inference, 3.2ms postprocess per image at shape (1, 3, 576, 1024)\n",
            "\n",
            "0: 576x1024 14.5ms\n",
            "Speed: 6.4ms preprocess, 14.5ms inference, 4.0ms postprocess per image at shape (1, 3, 576, 1024)\n",
            "\n",
            "0: 576x1024 9.4ms\n",
            "Speed: 6.7ms preprocess, 9.4ms inference, 2.7ms postprocess per image at shape (1, 3, 576, 1024)\n",
            "\n",
            "0: 576x1024 10.8ms\n",
            "Speed: 6.4ms preprocess, 10.8ms inference, 3.2ms postprocess per image at shape (1, 3, 576, 1024)\n",
            "\n",
            "0: 576x1024 14.6ms\n",
            "Speed: 7.5ms preprocess, 14.6ms inference, 3.7ms postprocess per image at shape (1, 3, 576, 1024)\n",
            "\n",
            "0: 576x1024 13.0ms\n",
            "Speed: 8.4ms preprocess, 13.0ms inference, 2.5ms postprocess per image at shape (1, 3, 576, 1024)\n",
            "\n",
            "0: 576x1024 9.3ms\n",
            "Speed: 6.9ms preprocess, 9.3ms inference, 2.5ms postprocess per image at shape (1, 3, 576, 1024)\n",
            "\n",
            "0: 576x1024 11.2ms\n",
            "Speed: 6.3ms preprocess, 11.2ms inference, 3.1ms postprocess per image at shape (1, 3, 576, 1024)\n",
            "\n",
            "0: 576x1024 11.1ms\n",
            "Speed: 6.3ms preprocess, 11.1ms inference, 3.0ms postprocess per image at shape (1, 3, 576, 1024)\n",
            "\n",
            "0: 576x1024 11.1ms\n",
            "Speed: 6.2ms preprocess, 11.1ms inference, 2.5ms postprocess per image at shape (1, 3, 576, 1024)\n",
            "\n",
            "0: 576x1024 10.8ms\n",
            "Speed: 7.4ms preprocess, 10.8ms inference, 2.7ms postprocess per image at shape (1, 3, 576, 1024)\n",
            "\n",
            "0: 576x1024 11.8ms\n",
            "Speed: 6.2ms preprocess, 11.8ms inference, 3.6ms postprocess per image at shape (1, 3, 576, 1024)\n",
            "\n",
            "0: 576x1024 11.9ms\n",
            "Speed: 10.4ms preprocess, 11.9ms inference, 3.7ms postprocess per image at shape (1, 3, 576, 1024)\n",
            "\n",
            "0: 576x1024 13.9ms\n",
            "Speed: 10.3ms preprocess, 13.9ms inference, 3.3ms postprocess per image at shape (1, 3, 576, 1024)\n",
            "\n",
            "0: 576x1024 10.8ms\n",
            "Speed: 6.7ms preprocess, 10.8ms inference, 2.6ms postprocess per image at shape (1, 3, 576, 1024)\n",
            "\n",
            "0: 576x1024 9.2ms\n",
            "Speed: 9.3ms preprocess, 9.2ms inference, 2.5ms postprocess per image at shape (1, 3, 576, 1024)\n",
            "\n",
            "0: 576x1024 12.3ms\n",
            "Speed: 7.1ms preprocess, 12.3ms inference, 3.5ms postprocess per image at shape (1, 3, 576, 1024)\n",
            "\n",
            "0: 576x1024 13.8ms\n",
            "Speed: 7.3ms preprocess, 13.8ms inference, 2.6ms postprocess per image at shape (1, 3, 576, 1024)\n",
            "\n",
            "0: 576x1024 10.7ms\n",
            "Speed: 8.1ms preprocess, 10.7ms inference, 2.5ms postprocess per image at shape (1, 3, 576, 1024)\n",
            "\n",
            "0: 576x1024 10.4ms\n",
            "Speed: 10.1ms preprocess, 10.4ms inference, 2.5ms postprocess per image at shape (1, 3, 576, 1024)\n",
            "\n",
            "0: 576x1024 11.4ms\n",
            "Speed: 6.7ms preprocess, 11.4ms inference, 2.8ms postprocess per image at shape (1, 3, 576, 1024)\n",
            "\n",
            "0: 576x1024 10.4ms\n",
            "Speed: 6.8ms preprocess, 10.4ms inference, 2.6ms postprocess per image at shape (1, 3, 576, 1024)\n",
            "\n",
            "0: 576x1024 11.0ms\n",
            "Speed: 6.1ms preprocess, 11.0ms inference, 4.4ms postprocess per image at shape (1, 3, 576, 1024)\n",
            "\n",
            "0: 576x1024 10.9ms\n",
            "Speed: 7.2ms preprocess, 10.9ms inference, 3.4ms postprocess per image at shape (1, 3, 576, 1024)\n",
            "\n",
            "0: 576x1024 9.8ms\n",
            "Speed: 10.5ms preprocess, 9.8ms inference, 2.5ms postprocess per image at shape (1, 3, 576, 1024)\n",
            "\n",
            "0: 576x1024 10.2ms\n",
            "Speed: 6.8ms preprocess, 10.2ms inference, 2.5ms postprocess per image at shape (1, 3, 576, 1024)\n",
            "\n",
            "0: 576x1024 12.4ms\n",
            "Speed: 6.1ms preprocess, 12.4ms inference, 3.8ms postprocess per image at shape (1, 3, 576, 1024)\n",
            "\n",
            "0: 576x1024 13.1ms\n",
            "Speed: 6.3ms preprocess, 13.1ms inference, 3.8ms postprocess per image at shape (1, 3, 576, 1024)\n",
            "\n",
            "0: 576x1024 13.0ms\n",
            "Speed: 6.9ms preprocess, 13.0ms inference, 5.5ms postprocess per image at shape (1, 3, 576, 1024)\n",
            "\n",
            "0: 576x1024 15.8ms\n",
            "Speed: 8.4ms preprocess, 15.8ms inference, 3.9ms postprocess per image at shape (1, 3, 576, 1024)\n",
            "\n",
            "0: 576x1024 14.0ms\n",
            "Speed: 6.8ms preprocess, 14.0ms inference, 3.7ms postprocess per image at shape (1, 3, 576, 1024)\n",
            "\n",
            "0: 576x1024 11.1ms\n",
            "Speed: 10.4ms preprocess, 11.1ms inference, 3.1ms postprocess per image at shape (1, 3, 576, 1024)\n",
            "\n",
            "0: 576x1024 10.7ms\n",
            "Speed: 6.1ms preprocess, 10.7ms inference, 2.8ms postprocess per image at shape (1, 3, 576, 1024)\n",
            "\n",
            "0: 576x1024 10.7ms\n",
            "Speed: 10.5ms preprocess, 10.7ms inference, 2.5ms postprocess per image at shape (1, 3, 576, 1024)\n",
            "\n",
            "0: 576x1024 10.2ms\n",
            "Speed: 6.7ms preprocess, 10.2ms inference, 2.6ms postprocess per image at shape (1, 3, 576, 1024)\n",
            "\n",
            "0: 576x1024 10.5ms\n",
            "Speed: 7.3ms preprocess, 10.5ms inference, 2.7ms postprocess per image at shape (1, 3, 576, 1024)\n",
            "\n",
            "0: 576x1024 20.0ms\n",
            "Speed: 7.5ms preprocess, 20.0ms inference, 3.9ms postprocess per image at shape (1, 3, 576, 1024)\n",
            "\n",
            "0: 576x1024 13.5ms\n",
            "Speed: 6.4ms preprocess, 13.5ms inference, 3.3ms postprocess per image at shape (1, 3, 576, 1024)\n",
            "\n",
            "0: 576x1024 10.3ms\n",
            "Speed: 7.3ms preprocess, 10.3ms inference, 2.4ms postprocess per image at shape (1, 3, 576, 1024)\n",
            "\n",
            "0: 576x1024 14.4ms\n",
            "Speed: 8.8ms preprocess, 14.4ms inference, 2.7ms postprocess per image at shape (1, 3, 576, 1024)\n",
            "\n",
            "0: 576x1024 10.7ms\n",
            "Speed: 6.7ms preprocess, 10.7ms inference, 2.6ms postprocess per image at shape (1, 3, 576, 1024)\n",
            "\n",
            "0: 576x1024 10.1ms\n",
            "Speed: 6.9ms preprocess, 10.1ms inference, 3.4ms postprocess per image at shape (1, 3, 576, 1024)\n",
            "\n",
            "0: 576x1024 13.7ms\n",
            "Speed: 7.3ms preprocess, 13.7ms inference, 3.9ms postprocess per image at shape (1, 3, 576, 1024)\n",
            "\n",
            "0: 576x1024 16.3ms\n",
            "Speed: 12.1ms preprocess, 16.3ms inference, 3.9ms postprocess per image at shape (1, 3, 576, 1024)\n",
            "\n",
            "0: 576x1024 11.5ms\n",
            "Speed: 9.8ms preprocess, 11.5ms inference, 5.0ms postprocess per image at shape (1, 3, 576, 1024)\n",
            "\n",
            "0: 576x1024 14.3ms\n",
            "Speed: 8.8ms preprocess, 14.3ms inference, 4.1ms postprocess per image at shape (1, 3, 576, 1024)\n",
            "\n",
            "0: 576x1024 11.4ms\n",
            "Speed: 8.5ms preprocess, 11.4ms inference, 3.3ms postprocess per image at shape (1, 3, 576, 1024)\n",
            "\n",
            "0: 576x1024 10.4ms\n",
            "Speed: 7.2ms preprocess, 10.4ms inference, 2.6ms postprocess per image at shape (1, 3, 576, 1024)\n",
            "\n",
            "0: 576x1024 10.4ms\n",
            "Speed: 6.8ms preprocess, 10.4ms inference, 2.5ms postprocess per image at shape (1, 3, 576, 1024)\n",
            "\n",
            "0: 576x1024 9.7ms\n",
            "Speed: 6.7ms preprocess, 9.7ms inference, 3.0ms postprocess per image at shape (1, 3, 576, 1024)\n",
            "\n",
            "0: 576x1024 10.7ms\n",
            "Speed: 6.9ms preprocess, 10.7ms inference, 3.2ms postprocess per image at shape (1, 3, 576, 1024)\n",
            "\n",
            "0: 576x1024 11.3ms\n",
            "Speed: 7.7ms preprocess, 11.3ms inference, 2.9ms postprocess per image at shape (1, 3, 576, 1024)\n",
            "\n",
            "0: 576x1024 11.2ms\n",
            "Speed: 9.9ms preprocess, 11.2ms inference, 2.9ms postprocess per image at shape (1, 3, 576, 1024)\n",
            "\n",
            "0: 576x1024 11.2ms\n",
            "Speed: 9.6ms preprocess, 11.2ms inference, 2.5ms postprocess per image at shape (1, 3, 576, 1024)\n",
            "\n",
            "0: 576x1024 11.4ms\n",
            "Speed: 6.9ms preprocess, 11.4ms inference, 2.6ms postprocess per image at shape (1, 3, 576, 1024)\n",
            "\n",
            "0: 576x1024 11.3ms\n",
            "Speed: 6.4ms preprocess, 11.3ms inference, 3.2ms postprocess per image at shape (1, 3, 576, 1024)\n",
            "\n",
            "0: 576x1024 14.4ms\n",
            "Speed: 7.6ms preprocess, 14.4ms inference, 5.1ms postprocess per image at shape (1, 3, 576, 1024)\n",
            "\n",
            "0: 576x1024 12.4ms\n",
            "Speed: 7.1ms preprocess, 12.4ms inference, 5.2ms postprocess per image at shape (1, 3, 576, 1024)\n",
            "\n",
            "0: 576x1024 12.2ms\n",
            "Speed: 10.6ms preprocess, 12.2ms inference, 3.5ms postprocess per image at shape (1, 3, 576, 1024)\n",
            "\n",
            "0: 576x1024 16.0ms\n",
            "Speed: 6.6ms preprocess, 16.0ms inference, 3.4ms postprocess per image at shape (1, 3, 576, 1024)\n",
            "\n",
            "0: 576x1024 16.9ms\n",
            "Speed: 10.4ms preprocess, 16.9ms inference, 3.2ms postprocess per image at shape (1, 3, 576, 1024)\n",
            "\n",
            "0: 576x1024 11.1ms\n",
            "Speed: 6.3ms preprocess, 11.1ms inference, 2.9ms postprocess per image at shape (1, 3, 576, 1024)\n",
            "\n",
            "0: 576x1024 10.9ms\n",
            "Speed: 6.7ms preprocess, 10.9ms inference, 2.5ms postprocess per image at shape (1, 3, 576, 1024)\n",
            "\n",
            "0: 576x1024 10.8ms\n",
            "Speed: 7.6ms preprocess, 10.8ms inference, 2.5ms postprocess per image at shape (1, 3, 576, 1024)\n",
            "\n",
            "0: 576x1024 11.4ms\n",
            "Speed: 11.1ms preprocess, 11.4ms inference, 3.6ms postprocess per image at shape (1, 3, 576, 1024)\n",
            "\n",
            "0: 576x1024 11.6ms\n",
            "Speed: 7.7ms preprocess, 11.6ms inference, 5.1ms postprocess per image at shape (1, 3, 576, 1024)\n",
            "\n",
            "0: 576x1024 19.7ms\n",
            "Speed: 6.5ms preprocess, 19.7ms inference, 2.9ms postprocess per image at shape (1, 3, 576, 1024)\n",
            "\n",
            "0: 576x1024 16.9ms\n",
            "Speed: 6.5ms preprocess, 16.9ms inference, 3.2ms postprocess per image at shape (1, 3, 576, 1024)\n",
            "\n",
            "0: 576x1024 10.2ms\n",
            "Speed: 6.7ms preprocess, 10.2ms inference, 3.2ms postprocess per image at shape (1, 3, 576, 1024)\n",
            "\n",
            "0: 576x1024 12.2ms\n",
            "Speed: 8.0ms preprocess, 12.2ms inference, 3.5ms postprocess per image at shape (1, 3, 576, 1024)\n",
            "\n",
            "0: 576x1024 14.8ms\n",
            "Speed: 14.3ms preprocess, 14.8ms inference, 3.5ms postprocess per image at shape (1, 3, 576, 1024)\n",
            "\n",
            "0: 576x1024 22.8ms\n",
            "Speed: 17.3ms preprocess, 22.8ms inference, 4.6ms postprocess per image at shape (1, 3, 576, 1024)\n",
            "\n",
            "0: 576x1024 12.4ms\n",
            "Speed: 13.7ms preprocess, 12.4ms inference, 3.2ms postprocess per image at shape (1, 3, 576, 1024)\n",
            "\n",
            "0: 576x1024 9.6ms\n",
            "Speed: 12.9ms preprocess, 9.6ms inference, 3.1ms postprocess per image at shape (1, 3, 576, 1024)\n",
            "\n",
            "0: 576x1024 9.8ms\n",
            "Speed: 12.1ms preprocess, 9.8ms inference, 3.1ms postprocess per image at shape (1, 3, 576, 1024)\n",
            "\n",
            "0: 576x1024 10.1ms\n",
            "Speed: 9.3ms preprocess, 10.1ms inference, 3.3ms postprocess per image at shape (1, 3, 576, 1024)\n",
            "\n",
            "0: 576x1024 11.7ms\n",
            "Speed: 9.0ms preprocess, 11.7ms inference, 3.4ms postprocess per image at shape (1, 3, 576, 1024)\n",
            "\n",
            "0: 576x1024 9.5ms\n",
            "Speed: 11.9ms preprocess, 9.5ms inference, 3.0ms postprocess per image at shape (1, 3, 576, 1024)\n",
            "\n",
            "0: 576x1024 19.9ms\n",
            "Speed: 8.2ms preprocess, 19.9ms inference, 3.3ms postprocess per image at shape (1, 3, 576, 1024)\n",
            "\n",
            "0: 576x1024 13.4ms\n",
            "Speed: 7.6ms preprocess, 13.4ms inference, 3.1ms postprocess per image at shape (1, 3, 576, 1024)\n",
            "\n",
            "0: 576x1024 20.2ms\n",
            "Speed: 10.2ms preprocess, 20.2ms inference, 3.5ms postprocess per image at shape (1, 3, 576, 1024)\n",
            "\n",
            "0: 576x1024 13.5ms\n",
            "Speed: 13.6ms preprocess, 13.5ms inference, 3.1ms postprocess per image at shape (1, 3, 576, 1024)\n",
            "\n",
            "0: 576x1024 11.9ms\n",
            "Speed: 13.3ms preprocess, 11.9ms inference, 3.3ms postprocess per image at shape (1, 3, 576, 1024)\n",
            "\n",
            "0: 576x1024 18.9ms\n",
            "Speed: 6.6ms preprocess, 18.9ms inference, 4.8ms postprocess per image at shape (1, 3, 576, 1024)\n",
            "\n",
            "0: 576x1024 14.0ms\n",
            "Speed: 13.6ms preprocess, 14.0ms inference, 3.8ms postprocess per image at shape (1, 3, 576, 1024)\n",
            "\n",
            "0: 576x1024 11.0ms\n",
            "Speed: 8.6ms preprocess, 11.0ms inference, 3.6ms postprocess per image at shape (1, 3, 576, 1024)\n",
            "\n",
            "0: 576x1024 10.9ms\n",
            "Speed: 8.0ms preprocess, 10.9ms inference, 3.5ms postprocess per image at shape (1, 3, 576, 1024)\n",
            "\n",
            "0: 576x1024 10.4ms\n",
            "Speed: 9.4ms preprocess, 10.4ms inference, 6.5ms postprocess per image at shape (1, 3, 576, 1024)\n",
            "\n",
            "0: 576x1024 18.1ms\n",
            "Speed: 8.3ms preprocess, 18.1ms inference, 3.1ms postprocess per image at shape (1, 3, 576, 1024)\n",
            "\n",
            "0: 576x1024 13.7ms\n",
            "Speed: 8.2ms preprocess, 13.7ms inference, 5.1ms postprocess per image at shape (1, 3, 576, 1024)\n",
            "\n",
            "0: 576x1024 19.7ms\n",
            "Speed: 9.4ms preprocess, 19.7ms inference, 4.0ms postprocess per image at shape (1, 3, 576, 1024)\n",
            "\n",
            "0: 576x1024 19.4ms\n",
            "Speed: 12.0ms preprocess, 19.4ms inference, 4.2ms postprocess per image at shape (1, 3, 576, 1024)\n",
            "\n",
            "0: 576x1024 16.2ms\n",
            "Speed: 6.9ms preprocess, 16.2ms inference, 4.6ms postprocess per image at shape (1, 3, 576, 1024)\n",
            "\n",
            "0: 576x1024 21.7ms\n",
            "Speed: 14.4ms preprocess, 21.7ms inference, 5.0ms postprocess per image at shape (1, 3, 576, 1024)\n",
            "\n",
            "0: 576x1024 11.5ms\n",
            "Speed: 12.5ms preprocess, 11.5ms inference, 3.7ms postprocess per image at shape (1, 3, 576, 1024)\n",
            "\n",
            "0: 576x1024 16.9ms\n",
            "Speed: 6.9ms preprocess, 16.9ms inference, 3.9ms postprocess per image at shape (1, 3, 576, 1024)\n",
            "\n",
            "0: 576x1024 13.0ms\n",
            "Speed: 12.4ms preprocess, 13.0ms inference, 4.1ms postprocess per image at shape (1, 3, 576, 1024)\n",
            "\n",
            "0: 576x1024 16.5ms\n",
            "Speed: 11.5ms preprocess, 16.5ms inference, 3.9ms postprocess per image at shape (1, 3, 576, 1024)\n",
            "\n",
            "0: 576x1024 16.6ms\n",
            "Speed: 7.0ms preprocess, 16.6ms inference, 3.6ms postprocess per image at shape (1, 3, 576, 1024)\n",
            "\n",
            "0: 576x1024 11.2ms\n",
            "Speed: 13.1ms preprocess, 11.2ms inference, 3.7ms postprocess per image at shape (1, 3, 576, 1024)\n",
            "\n",
            "0: 576x1024 20.4ms\n",
            "Speed: 6.4ms preprocess, 20.4ms inference, 6.5ms postprocess per image at shape (1, 3, 576, 1024)\n",
            "\n",
            "0: 576x1024 10.6ms\n",
            "Speed: 6.7ms preprocess, 10.6ms inference, 3.4ms postprocess per image at shape (1, 3, 576, 1024)\n",
            "\n",
            "0: 576x1024 18.4ms\n",
            "Speed: 14.8ms preprocess, 18.4ms inference, 3.9ms postprocess per image at shape (1, 3, 576, 1024)\n",
            "\n",
            "0: 576x1024 14.7ms\n",
            "Speed: 14.1ms preprocess, 14.7ms inference, 3.6ms postprocess per image at shape (1, 3, 576, 1024)\n",
            "\n",
            "0: 576x1024 11.7ms\n",
            "Speed: 17.3ms preprocess, 11.7ms inference, 3.6ms postprocess per image at shape (1, 3, 576, 1024)\n",
            "\n",
            "0: 576x1024 14.9ms\n",
            "Speed: 8.4ms preprocess, 14.9ms inference, 3.5ms postprocess per image at shape (1, 3, 576, 1024)\n",
            "\n",
            "0: 576x1024 22.3ms\n",
            "Speed: 7.1ms preprocess, 22.3ms inference, 6.3ms postprocess per image at shape (1, 3, 576, 1024)\n",
            "\n",
            "0: 576x1024 13.8ms\n",
            "Speed: 6.9ms preprocess, 13.8ms inference, 3.8ms postprocess per image at shape (1, 3, 576, 1024)\n",
            "\n",
            "0: 576x1024 15.6ms\n",
            "Speed: 9.4ms preprocess, 15.6ms inference, 3.7ms postprocess per image at shape (1, 3, 576, 1024)\n",
            "\n",
            "0: 576x1024 10.8ms\n",
            "Speed: 15.5ms preprocess, 10.8ms inference, 3.4ms postprocess per image at shape (1, 3, 576, 1024)\n",
            "\n",
            "0: 576x1024 18.5ms\n",
            "Speed: 11.2ms preprocess, 18.5ms inference, 5.7ms postprocess per image at shape (1, 3, 576, 1024)\n",
            "\n",
            "0: 576x1024 13.8ms\n",
            "Speed: 13.8ms preprocess, 13.8ms inference, 3.6ms postprocess per image at shape (1, 3, 576, 1024)\n",
            "\n",
            "0: 576x1024 18.8ms\n",
            "Speed: 13.3ms preprocess, 18.8ms inference, 3.7ms postprocess per image at shape (1, 3, 576, 1024)\n",
            "\n",
            "0: 576x1024 18.0ms\n",
            "Speed: 12.0ms preprocess, 18.0ms inference, 4.4ms postprocess per image at shape (1, 3, 576, 1024)\n",
            "\n",
            "0: 576x1024 16.5ms\n",
            "Speed: 13.8ms preprocess, 16.5ms inference, 4.6ms postprocess per image at shape (1, 3, 576, 1024)\n",
            "\n",
            "0: 576x1024 11.1ms\n",
            "Speed: 13.2ms preprocess, 11.1ms inference, 3.6ms postprocess per image at shape (1, 3, 576, 1024)\n",
            "\n",
            "0: 576x1024 11.0ms\n",
            "Speed: 12.3ms preprocess, 11.0ms inference, 3.4ms postprocess per image at shape (1, 3, 576, 1024)\n",
            "\n",
            "0: 576x1024 12.3ms\n",
            "Speed: 10.5ms preprocess, 12.3ms inference, 3.5ms postprocess per image at shape (1, 3, 576, 1024)\n",
            "\n",
            "0: 576x1024 15.7ms\n",
            "Speed: 6.8ms preprocess, 15.7ms inference, 3.6ms postprocess per image at shape (1, 3, 576, 1024)\n",
            "\n",
            "0: 576x1024 17.7ms\n",
            "Speed: 9.0ms preprocess, 17.7ms inference, 3.4ms postprocess per image at shape (1, 3, 576, 1024)\n",
            "\n",
            "0: 576x1024 13.8ms\n",
            "Speed: 17.2ms preprocess, 13.8ms inference, 5.4ms postprocess per image at shape (1, 3, 576, 1024)\n",
            "\n",
            "0: 576x1024 10.9ms\n",
            "Speed: 14.6ms preprocess, 10.9ms inference, 3.4ms postprocess per image at shape (1, 3, 576, 1024)\n",
            "\n",
            "0: 576x1024 12.1ms\n",
            "Speed: 16.8ms preprocess, 12.1ms inference, 3.5ms postprocess per image at shape (1, 3, 576, 1024)\n",
            "\n",
            "0: 576x1024 13.4ms\n",
            "Speed: 18.2ms preprocess, 13.4ms inference, 4.3ms postprocess per image at shape (1, 3, 576, 1024)\n",
            "\n",
            "0: 576x1024 14.8ms\n",
            "Speed: 13.0ms preprocess, 14.8ms inference, 4.0ms postprocess per image at shape (1, 3, 576, 1024)\n",
            "\n",
            "0: 576x1024 16.0ms\n",
            "Speed: 13.9ms preprocess, 16.0ms inference, 3.5ms postprocess per image at shape (1, 3, 576, 1024)\n",
            "\n",
            "0: 576x1024 14.3ms\n",
            "Speed: 6.7ms preprocess, 14.3ms inference, 3.4ms postprocess per image at shape (1, 3, 576, 1024)\n",
            "\n",
            "0: 576x1024 11.1ms\n",
            "Speed: 12.9ms preprocess, 11.1ms inference, 3.5ms postprocess per image at shape (1, 3, 576, 1024)\n",
            "\n",
            "0: 576x1024 11.4ms\n",
            "Speed: 12.2ms preprocess, 11.4ms inference, 3.5ms postprocess per image at shape (1, 3, 576, 1024)\n",
            "\n",
            "0: 576x1024 15.6ms\n",
            "Speed: 7.0ms preprocess, 15.6ms inference, 3.6ms postprocess per image at shape (1, 3, 576, 1024)\n",
            "\n",
            "0: 576x1024 14.4ms\n",
            "Speed: 9.2ms preprocess, 14.4ms inference, 3.6ms postprocess per image at shape (1, 3, 576, 1024)\n",
            "\n",
            "0: 576x1024 14.8ms\n",
            "Speed: 9.0ms preprocess, 14.8ms inference, 3.5ms postprocess per image at shape (1, 3, 576, 1024)\n",
            "\n",
            "0: 576x1024 16.8ms\n",
            "Speed: 6.8ms preprocess, 16.8ms inference, 3.6ms postprocess per image at shape (1, 3, 576, 1024)\n",
            "\n",
            "0: 576x1024 21.2ms\n",
            "Speed: 6.8ms preprocess, 21.2ms inference, 5.2ms postprocess per image at shape (1, 3, 576, 1024)\n",
            "\n",
            "0: 576x1024 20.0ms\n",
            "Speed: 14.9ms preprocess, 20.0ms inference, 4.0ms postprocess per image at shape (1, 3, 576, 1024)\n",
            "\n",
            "0: 576x1024 21.2ms\n",
            "Speed: 12.0ms preprocess, 21.2ms inference, 6.5ms postprocess per image at shape (1, 3, 576, 1024)\n",
            "\n",
            "0: 576x1024 18.0ms\n",
            "Speed: 6.9ms preprocess, 18.0ms inference, 3.9ms postprocess per image at shape (1, 3, 576, 1024)\n",
            "\n",
            "0: 576x1024 13.0ms\n",
            "Speed: 7.3ms preprocess, 13.0ms inference, 3.8ms postprocess per image at shape (1, 3, 576, 1024)\n",
            "\n",
            "0: 576x1024 9.6ms\n",
            "Speed: 13.1ms preprocess, 9.6ms inference, 2.5ms postprocess per image at shape (1, 3, 576, 1024)\n",
            "\n",
            "0: 576x1024 9.3ms\n",
            "Speed: 11.0ms preprocess, 9.3ms inference, 2.6ms postprocess per image at shape (1, 3, 576, 1024)\n",
            "\n",
            "0: 576x1024 9.7ms\n",
            "Speed: 7.6ms preprocess, 9.7ms inference, 2.6ms postprocess per image at shape (1, 3, 576, 1024)\n",
            "\n",
            "0: 576x1024 11.2ms\n",
            "Speed: 6.8ms preprocess, 11.2ms inference, 2.8ms postprocess per image at shape (1, 3, 576, 1024)\n",
            "\n",
            "0: 576x1024 11.4ms\n",
            "Speed: 6.9ms preprocess, 11.4ms inference, 2.6ms postprocess per image at shape (1, 3, 576, 1024)\n",
            "\n",
            "0: 576x1024 9.7ms\n",
            "Speed: 13.5ms preprocess, 9.7ms inference, 2.6ms postprocess per image at shape (1, 3, 576, 1024)\n",
            "\n",
            "0: 576x1024 9.3ms\n",
            "Speed: 6.8ms preprocess, 9.3ms inference, 2.5ms postprocess per image at shape (1, 3, 576, 1024)\n",
            "\n",
            "0: 576x1024 13.2ms\n",
            "Speed: 6.8ms preprocess, 13.2ms inference, 2.6ms postprocess per image at shape (1, 3, 576, 1024)\n",
            "\n",
            "0: 576x1024 12.7ms\n",
            "Speed: 6.7ms preprocess, 12.7ms inference, 2.7ms postprocess per image at shape (1, 3, 576, 1024)\n",
            "\n",
            "0: 576x1024 10.5ms\n",
            "Speed: 6.6ms preprocess, 10.5ms inference, 2.7ms postprocess per image at shape (1, 3, 576, 1024)\n",
            "\n",
            "0: 576x1024 12.9ms\n",
            "Speed: 6.5ms preprocess, 12.9ms inference, 3.7ms postprocess per image at shape (1, 3, 576, 1024)\n",
            "\n",
            "0: 576x1024 18.0ms\n",
            "Speed: 8.6ms preprocess, 18.0ms inference, 7.4ms postprocess per image at shape (1, 3, 576, 1024)\n",
            "\n",
            "0: 576x1024 12.4ms\n",
            "Speed: 6.7ms preprocess, 12.4ms inference, 3.3ms postprocess per image at shape (1, 3, 576, 1024)\n",
            "\n",
            "0: 576x1024 14.2ms\n",
            "Speed: 7.5ms preprocess, 14.2ms inference, 3.4ms postprocess per image at shape (1, 3, 576, 1024)\n",
            "\n",
            "0: 576x1024 13.8ms\n",
            "Speed: 10.7ms preprocess, 13.8ms inference, 3.6ms postprocess per image at shape (1, 3, 576, 1024)\n",
            "\n",
            "0: 576x1024 10.2ms\n",
            "Speed: 7.0ms preprocess, 10.2ms inference, 2.5ms postprocess per image at shape (1, 3, 576, 1024)\n",
            "\n",
            "0: 576x1024 10.0ms\n",
            "Speed: 6.8ms preprocess, 10.0ms inference, 2.9ms postprocess per image at shape (1, 3, 576, 1024)\n",
            "\n",
            "0: 576x1024 12.4ms\n",
            "Speed: 7.6ms preprocess, 12.4ms inference, 3.7ms postprocess per image at shape (1, 3, 576, 1024)\n",
            "\n",
            "0: 576x1024 10.2ms\n",
            "Speed: 7.3ms preprocess, 10.2ms inference, 2.7ms postprocess per image at shape (1, 3, 576, 1024)\n",
            "\n",
            "0: 576x1024 10.2ms\n",
            "Speed: 6.7ms preprocess, 10.2ms inference, 2.4ms postprocess per image at shape (1, 3, 576, 1024)\n",
            "\n",
            "0: 576x1024 9.3ms\n",
            "Speed: 7.3ms preprocess, 9.3ms inference, 2.7ms postprocess per image at shape (1, 3, 576, 1024)\n",
            "\n",
            "0: 576x1024 9.8ms\n",
            "Speed: 7.3ms preprocess, 9.8ms inference, 2.6ms postprocess per image at shape (1, 3, 576, 1024)\n",
            "\n",
            "0: 576x1024 10.5ms\n",
            "Speed: 7.2ms preprocess, 10.5ms inference, 2.6ms postprocess per image at shape (1, 3, 576, 1024)\n",
            "\n",
            "0: 576x1024 10.7ms\n",
            "Speed: 7.2ms preprocess, 10.7ms inference, 2.7ms postprocess per image at shape (1, 3, 576, 1024)\n",
            "\n",
            "0: 576x1024 11.2ms\n",
            "Speed: 6.7ms preprocess, 11.2ms inference, 3.3ms postprocess per image at shape (1, 3, 576, 1024)\n",
            "\n",
            "0: 576x1024 13.3ms\n",
            "Speed: 7.3ms preprocess, 13.3ms inference, 4.0ms postprocess per image at shape (1, 3, 576, 1024)\n",
            "\n",
            "0: 576x1024 13.6ms\n",
            "Speed: 6.7ms preprocess, 13.6ms inference, 4.3ms postprocess per image at shape (1, 3, 576, 1024)\n",
            "\n",
            "0: 576x1024 14.6ms\n",
            "Speed: 6.8ms preprocess, 14.6ms inference, 3.8ms postprocess per image at shape (1, 3, 576, 1024)\n",
            "\n",
            "0: 576x1024 13.3ms\n",
            "Speed: 8.9ms preprocess, 13.3ms inference, 4.8ms postprocess per image at shape (1, 3, 576, 1024)\n",
            "\n",
            "0: 576x1024 13.0ms\n",
            "Speed: 7.1ms preprocess, 13.0ms inference, 4.0ms postprocess per image at shape (1, 3, 576, 1024)\n",
            "\n",
            "0: 576x1024 9.9ms\n",
            "Speed: 6.9ms preprocess, 9.9ms inference, 2.5ms postprocess per image at shape (1, 3, 576, 1024)\n",
            "\n",
            "0: 576x1024 10.6ms\n",
            "Speed: 6.9ms preprocess, 10.6ms inference, 2.8ms postprocess per image at shape (1, 3, 576, 1024)\n",
            "\n",
            "0: 576x1024 9.9ms\n",
            "Speed: 7.2ms preprocess, 9.9ms inference, 2.4ms postprocess per image at shape (1, 3, 576, 1024)\n",
            "\n",
            "0: 576x1024 10.5ms\n",
            "Speed: 7.1ms preprocess, 10.5ms inference, 2.6ms postprocess per image at shape (1, 3, 576, 1024)\n",
            "\n",
            "0: 576x1024 10.0ms\n",
            "Speed: 7.5ms preprocess, 10.0ms inference, 2.6ms postprocess per image at shape (1, 3, 576, 1024)\n",
            "\n",
            "0: 576x1024 9.6ms\n",
            "Speed: 7.0ms preprocess, 9.6ms inference, 2.6ms postprocess per image at shape (1, 3, 576, 1024)\n",
            "\n",
            "0: 576x1024 10.5ms\n",
            "Speed: 7.4ms preprocess, 10.5ms inference, 2.9ms postprocess per image at shape (1, 3, 576, 1024)\n",
            "\n",
            "0: 576x1024 13.0ms\n",
            "Speed: 7.3ms preprocess, 13.0ms inference, 2.5ms postprocess per image at shape (1, 3, 576, 1024)\n",
            "\n",
            "0: 576x1024 9.5ms\n",
            "Speed: 7.3ms preprocess, 9.5ms inference, 2.5ms postprocess per image at shape (1, 3, 576, 1024)\n",
            "\n",
            "0: 576x1024 10.5ms\n",
            "Speed: 7.1ms preprocess, 10.5ms inference, 2.4ms postprocess per image at shape (1, 3, 576, 1024)\n",
            "\n",
            "0: 576x1024 17.3ms\n",
            "Speed: 9.4ms preprocess, 17.3ms inference, 3.3ms postprocess per image at shape (1, 3, 576, 1024)\n",
            "\n",
            "0: 576x1024 13.7ms\n",
            "Speed: 8.5ms preprocess, 13.7ms inference, 3.8ms postprocess per image at shape (1, 3, 576, 1024)\n",
            "\n",
            "0: 576x1024 16.8ms\n",
            "Speed: 6.5ms preprocess, 16.8ms inference, 4.9ms postprocess per image at shape (1, 3, 576, 1024)\n",
            "\n",
            "0: 576x1024 24.4ms\n",
            "Speed: 11.7ms preprocess, 24.4ms inference, 4.0ms postprocess per image at shape (1, 3, 576, 1024)\n",
            "\n",
            "0: 576x1024 12.9ms\n",
            "Speed: 7.2ms preprocess, 12.9ms inference, 6.2ms postprocess per image at shape (1, 3, 576, 1024)\n",
            "\n",
            "0: 576x1024 11.5ms\n",
            "Speed: 7.7ms preprocess, 11.5ms inference, 3.2ms postprocess per image at shape (1, 3, 576, 1024)\n",
            "\n",
            "0: 576x1024 9.7ms\n",
            "Speed: 6.7ms preprocess, 9.7ms inference, 2.6ms postprocess per image at shape (1, 3, 576, 1024)\n",
            "\n",
            "0: 576x1024 10.7ms\n",
            "Speed: 6.9ms preprocess, 10.7ms inference, 2.5ms postprocess per image at shape (1, 3, 576, 1024)\n",
            "\n",
            "0: 576x1024 10.3ms\n",
            "Speed: 7.1ms preprocess, 10.3ms inference, 2.7ms postprocess per image at shape (1, 3, 576, 1024)\n",
            "\n",
            "0: 576x1024 14.3ms\n",
            "Speed: 7.5ms preprocess, 14.3ms inference, 2.8ms postprocess per image at shape (1, 3, 576, 1024)\n",
            "\n",
            "0: 576x1024 11.2ms\n",
            "Speed: 7.5ms preprocess, 11.2ms inference, 2.7ms postprocess per image at shape (1, 3, 576, 1024)\n",
            "\n",
            "0: 576x1024 10.8ms\n",
            "Speed: 7.7ms preprocess, 10.8ms inference, 2.6ms postprocess per image at shape (1, 3, 576, 1024)\n",
            "\n",
            "0: 576x1024 10.6ms\n",
            "Speed: 6.9ms preprocess, 10.6ms inference, 3.0ms postprocess per image at shape (1, 3, 576, 1024)\n",
            "\n",
            "0: 576x1024 10.9ms\n",
            "Speed: 6.7ms preprocess, 10.9ms inference, 2.6ms postprocess per image at shape (1, 3, 576, 1024)\n",
            "\n",
            "0: 576x1024 10.2ms\n",
            "Speed: 6.7ms preprocess, 10.2ms inference, 2.5ms postprocess per image at shape (1, 3, 576, 1024)\n",
            "\n",
            "0: 576x1024 12.3ms\n",
            "Speed: 10.6ms preprocess, 12.3ms inference, 3.3ms postprocess per image at shape (1, 3, 576, 1024)\n",
            "\n",
            "0: 576x1024 15.7ms\n",
            "Speed: 8.7ms preprocess, 15.7ms inference, 3.3ms postprocess per image at shape (1, 3, 576, 1024)\n",
            "\n",
            "0: 576x1024 13.9ms\n",
            "Speed: 12.2ms preprocess, 13.9ms inference, 3.2ms postprocess per image at shape (1, 3, 576, 1024)\n",
            "\n",
            "0: 576x1024 12.3ms\n",
            "Speed: 7.0ms preprocess, 12.3ms inference, 3.5ms postprocess per image at shape (1, 3, 576, 1024)\n",
            "\n",
            "0: 576x1024 14.4ms\n",
            "Speed: 10.7ms preprocess, 14.4ms inference, 4.1ms postprocess per image at shape (1, 3, 576, 1024)\n",
            "\n",
            "0: 576x1024 13.1ms\n",
            "Speed: 7.4ms preprocess, 13.1ms inference, 3.4ms postprocess per image at shape (1, 3, 576, 1024)\n",
            "\n",
            "0: 576x1024 11.5ms\n",
            "Speed: 6.3ms preprocess, 11.5ms inference, 3.1ms postprocess per image at shape (1, 3, 576, 1024)\n",
            "\n",
            "0: 576x1024 11.6ms\n",
            "Speed: 6.4ms preprocess, 11.6ms inference, 2.6ms postprocess per image at shape (1, 3, 576, 1024)\n",
            "\n",
            "0: 576x1024 10.8ms\n",
            "Speed: 6.3ms preprocess, 10.8ms inference, 2.7ms postprocess per image at shape (1, 3, 576, 1024)\n",
            "\n",
            "0: 576x1024 11.2ms\n",
            "Speed: 6.6ms preprocess, 11.2ms inference, 3.4ms postprocess per image at shape (1, 3, 576, 1024)\n",
            "\n",
            "0: 576x1024 10.1ms\n",
            "Speed: 12.6ms preprocess, 10.1ms inference, 2.5ms postprocess per image at shape (1, 3, 576, 1024)\n",
            "\n",
            "0: 576x1024 10.5ms\n",
            "Speed: 6.3ms preprocess, 10.5ms inference, 2.5ms postprocess per image at shape (1, 3, 576, 1024)\n",
            "\n",
            "0: 576x1024 10.4ms\n",
            "Speed: 8.6ms preprocess, 10.4ms inference, 2.6ms postprocess per image at shape (1, 3, 576, 1024)\n",
            "\n",
            "0: 576x1024 11.6ms\n",
            "Speed: 7.6ms preprocess, 11.6ms inference, 2.7ms postprocess per image at shape (1, 3, 576, 1024)\n",
            "\n",
            "0: 576x1024 9.6ms\n",
            "Speed: 7.1ms preprocess, 9.6ms inference, 2.6ms postprocess per image at shape (1, 3, 576, 1024)\n",
            "\n",
            "0: 576x1024 9.2ms\n",
            "Speed: 6.8ms preprocess, 9.2ms inference, 2.5ms postprocess per image at shape (1, 3, 576, 1024)\n",
            "\n",
            "0: 576x1024 16.1ms\n",
            "Speed: 8.0ms preprocess, 16.1ms inference, 3.1ms postprocess per image at shape (1, 3, 576, 1024)\n",
            "\n",
            "0: 576x1024 14.4ms\n",
            "Speed: 11.6ms preprocess, 14.4ms inference, 3.8ms postprocess per image at shape (1, 3, 576, 1024)\n",
            "\n",
            "0: 576x1024 16.0ms\n",
            "Speed: 6.7ms preprocess, 16.0ms inference, 4.2ms postprocess per image at shape (1, 3, 576, 1024)\n",
            "\n",
            "0: 576x1024 11.0ms\n",
            "Speed: 6.8ms preprocess, 11.0ms inference, 4.1ms postprocess per image at shape (1, 3, 576, 1024)\n",
            "\n",
            "0: 576x1024 12.8ms\n",
            "Speed: 9.7ms preprocess, 12.8ms inference, 3.9ms postprocess per image at shape (1, 3, 576, 1024)\n",
            "\n",
            "0: 576x1024 9.3ms\n",
            "Speed: 9.8ms preprocess, 9.3ms inference, 2.5ms postprocess per image at shape (1, 3, 576, 1024)\n",
            "\n",
            "0: 576x1024 11.0ms\n",
            "Speed: 7.4ms preprocess, 11.0ms inference, 2.7ms postprocess per image at shape (1, 3, 576, 1024)\n",
            "\n",
            "0: 576x1024 10.4ms\n",
            "Speed: 6.7ms preprocess, 10.4ms inference, 2.5ms postprocess per image at shape (1, 3, 576, 1024)\n",
            "\n",
            "0: 576x1024 10.0ms\n",
            "Speed: 11.5ms preprocess, 10.0ms inference, 2.5ms postprocess per image at shape (1, 3, 576, 1024)\n",
            "\n",
            "0: 576x1024 10.3ms\n",
            "Speed: 6.8ms preprocess, 10.3ms inference, 2.6ms postprocess per image at shape (1, 3, 576, 1024)\n",
            "\n",
            "0: 576x1024 10.2ms\n",
            "Speed: 7.6ms preprocess, 10.2ms inference, 2.5ms postprocess per image at shape (1, 3, 576, 1024)\n",
            "\n",
            "0: 576x1024 10.6ms\n",
            "Speed: 7.8ms preprocess, 10.6ms inference, 2.4ms postprocess per image at shape (1, 3, 576, 1024)\n",
            "\n",
            "0: 576x1024 10.2ms\n",
            "Speed: 6.8ms preprocess, 10.2ms inference, 3.4ms postprocess per image at shape (1, 3, 576, 1024)\n",
            "\n",
            "0: 576x1024 10.6ms\n",
            "Speed: 7.1ms preprocess, 10.6ms inference, 2.8ms postprocess per image at shape (1, 3, 576, 1024)\n",
            "\n",
            "0: 576x1024 10.1ms\n",
            "Speed: 7.0ms preprocess, 10.1ms inference, 3.1ms postprocess per image at shape (1, 3, 576, 1024)\n",
            "\n",
            "0: 576x1024 11.4ms\n",
            "Speed: 7.3ms preprocess, 11.4ms inference, 2.7ms postprocess per image at shape (1, 3, 576, 1024)\n",
            "\n",
            "0: 576x1024 14.0ms\n",
            "Speed: 11.7ms preprocess, 14.0ms inference, 3.4ms postprocess per image at shape (1, 3, 576, 1024)\n",
            "\n",
            "0: 576x1024 14.3ms\n",
            "Speed: 6.3ms preprocess, 14.3ms inference, 3.9ms postprocess per image at shape (1, 3, 576, 1024)\n",
            "\n",
            "0: 576x1024 13.5ms\n",
            "Speed: 6.6ms preprocess, 13.5ms inference, 4.1ms postprocess per image at shape (1, 3, 576, 1024)\n",
            "\n",
            "0: 576x1024 13.4ms\n",
            "Speed: 6.3ms preprocess, 13.4ms inference, 3.9ms postprocess per image at shape (1, 3, 576, 1024)\n",
            "\n",
            "0: 576x1024 10.9ms\n",
            "Speed: 6.4ms preprocess, 10.9ms inference, 4.0ms postprocess per image at shape (1, 3, 576, 1024)\n",
            "\n",
            "0: 576x1024 10.6ms\n",
            "Speed: 5.9ms preprocess, 10.6ms inference, 2.7ms postprocess per image at shape (1, 3, 576, 1024)\n",
            "\n",
            "0: 576x1024 13.6ms\n",
            "Speed: 7.7ms preprocess, 13.6ms inference, 3.9ms postprocess per image at shape (1, 3, 576, 1024)\n",
            "\n",
            "0: 576x1024 11.5ms\n",
            "Speed: 12.6ms preprocess, 11.5ms inference, 3.7ms postprocess per image at shape (1, 3, 576, 1024)\n",
            "\n",
            "0: 576x1024 14.7ms\n",
            "Speed: 6.9ms preprocess, 14.7ms inference, 4.1ms postprocess per image at shape (1, 3, 576, 1024)\n",
            "\n",
            "0: 576x1024 12.0ms\n",
            "Speed: 7.6ms preprocess, 12.0ms inference, 2.9ms postprocess per image at shape (1, 3, 576, 1024)\n",
            "\n",
            "0: 576x1024 9.3ms\n",
            "Speed: 7.0ms preprocess, 9.3ms inference, 2.8ms postprocess per image at shape (1, 3, 576, 1024)\n",
            "\n",
            "0: 576x1024 10.6ms\n",
            "Speed: 9.5ms preprocess, 10.6ms inference, 2.6ms postprocess per image at shape (1, 3, 576, 1024)\n",
            "\n",
            "0: 576x1024 9.9ms\n",
            "Speed: 8.2ms preprocess, 9.9ms inference, 2.7ms postprocess per image at shape (1, 3, 576, 1024)\n",
            "\n",
            "0: 576x1024 11.3ms\n",
            "Speed: 7.0ms preprocess, 11.3ms inference, 2.5ms postprocess per image at shape (1, 3, 576, 1024)\n",
            "\n",
            "0: 576x1024 14.1ms\n",
            "Speed: 8.2ms preprocess, 14.1ms inference, 6.3ms postprocess per image at shape (1, 3, 576, 1024)\n",
            "\n",
            "0: 576x1024 12.1ms\n",
            "Speed: 13.7ms preprocess, 12.1ms inference, 3.6ms postprocess per image at shape (1, 3, 576, 1024)\n",
            "\n",
            "0: 576x1024 11.7ms\n",
            "Speed: 9.4ms preprocess, 11.7ms inference, 3.3ms postprocess per image at shape (1, 3, 576, 1024)\n",
            "\n",
            "0: 576x1024 12.7ms\n",
            "Speed: 7.1ms preprocess, 12.7ms inference, 4.1ms postprocess per image at shape (1, 3, 576, 1024)\n",
            "\n",
            "0: 576x1024 9.6ms\n",
            "Speed: 6.9ms preprocess, 9.6ms inference, 2.5ms postprocess per image at shape (1, 3, 576, 1024)\n",
            "\n",
            "0: 576x1024 12.4ms\n",
            "Speed: 7.7ms preprocess, 12.4ms inference, 2.8ms postprocess per image at shape (1, 3, 576, 1024)\n",
            "\n",
            "0: 576x1024 11.3ms\n",
            "Speed: 7.6ms preprocess, 11.3ms inference, 2.6ms postprocess per image at shape (1, 3, 576, 1024)\n",
            "\n",
            "0: 576x1024 10.2ms\n",
            "Speed: 6.9ms preprocess, 10.2ms inference, 2.8ms postprocess per image at shape (1, 3, 576, 1024)\n",
            "\n",
            "0: 576x1024 10.3ms\n",
            "Speed: 6.9ms preprocess, 10.3ms inference, 2.5ms postprocess per image at shape (1, 3, 576, 1024)\n",
            "\n",
            "0: 576x1024 10.4ms\n",
            "Speed: 7.8ms preprocess, 10.4ms inference, 2.8ms postprocess per image at shape (1, 3, 576, 1024)\n",
            "\n",
            "0: 576x1024 12.1ms\n",
            "Speed: 7.7ms preprocess, 12.1ms inference, 2.8ms postprocess per image at shape (1, 3, 576, 1024)\n",
            "\n",
            "0: 576x1024 10.4ms\n",
            "Speed: 7.9ms preprocess, 10.4ms inference, 3.3ms postprocess per image at shape (1, 3, 576, 1024)\n",
            "\n",
            "0: 576x1024 11.2ms\n",
            "Speed: 8.7ms preprocess, 11.2ms inference, 2.8ms postprocess per image at shape (1, 3, 576, 1024)\n",
            "\n",
            "0: 576x1024 12.1ms\n",
            "Speed: 8.6ms preprocess, 12.1ms inference, 3.9ms postprocess per image at shape (1, 3, 576, 1024)\n",
            "\n",
            "0: 576x1024 18.6ms\n",
            "Speed: 8.2ms preprocess, 18.6ms inference, 2.8ms postprocess per image at shape (1, 3, 576, 1024)\n",
            "\n",
            "0: 576x1024 12.6ms\n",
            "Speed: 10.3ms preprocess, 12.6ms inference, 3.9ms postprocess per image at shape (1, 3, 576, 1024)\n",
            "\n",
            "0: 576x1024 13.2ms\n",
            "Speed: 6.9ms preprocess, 13.2ms inference, 3.8ms postprocess per image at shape (1, 3, 576, 1024)\n",
            "\n",
            "0: 576x1024 11.1ms\n",
            "Speed: 10.6ms preprocess, 11.1ms inference, 3.4ms postprocess per image at shape (1, 3, 576, 1024)\n",
            "\n",
            "0: 576x1024 14.6ms\n",
            "Speed: 7.1ms preprocess, 14.6ms inference, 4.1ms postprocess per image at shape (1, 3, 576, 1024)\n",
            "\n",
            "0: 576x1024 10.6ms\n",
            "Speed: 7.8ms preprocess, 10.6ms inference, 2.5ms postprocess per image at shape (1, 3, 576, 1024)\n",
            "\n",
            "0: 576x1024 17.1ms\n",
            "Speed: 10.4ms preprocess, 17.1ms inference, 4.1ms postprocess per image at shape (1, 3, 576, 1024)\n",
            "\n",
            "0: 576x1024 15.5ms\n",
            "Speed: 10.3ms preprocess, 15.5ms inference, 4.3ms postprocess per image at shape (1, 3, 576, 1024)\n",
            "\n",
            "0: 576x1024 12.5ms\n",
            "Speed: 7.3ms preprocess, 12.5ms inference, 3.9ms postprocess per image at shape (1, 3, 576, 1024)\n",
            "\n",
            "0: 576x1024 11.9ms\n",
            "Speed: 10.3ms preprocess, 11.9ms inference, 2.9ms postprocess per image at shape (1, 3, 576, 1024)\n",
            "\n",
            "0: 576x1024 10.5ms\n",
            "Speed: 10.6ms preprocess, 10.5ms inference, 4.0ms postprocess per image at shape (1, 3, 576, 1024)\n",
            "\n",
            "0: 576x1024 11.2ms\n",
            "Speed: 6.8ms preprocess, 11.2ms inference, 2.6ms postprocess per image at shape (1, 3, 576, 1024)\n",
            "\n",
            "0: 576x1024 11.5ms\n",
            "Speed: 8.5ms preprocess, 11.5ms inference, 3.4ms postprocess per image at shape (1, 3, 576, 1024)\n",
            "\n",
            "0: 576x1024 10.6ms\n",
            "Speed: 6.7ms preprocess, 10.6ms inference, 2.4ms postprocess per image at shape (1, 3, 576, 1024)\n",
            "\n",
            "0: 576x1024 9.9ms\n",
            "Speed: 7.4ms preprocess, 9.9ms inference, 2.6ms postprocess per image at shape (1, 3, 576, 1024)\n",
            "\n",
            "0: 576x1024 13.2ms\n",
            "Speed: 7.6ms preprocess, 13.2ms inference, 4.2ms postprocess per image at shape (1, 3, 576, 1024)\n",
            "\n",
            "0: 576x1024 11.6ms\n",
            "Speed: 11.5ms preprocess, 11.6ms inference, 3.5ms postprocess per image at shape (1, 3, 576, 1024)\n",
            "\n",
            "0: 576x1024 12.9ms\n",
            "Speed: 10.4ms preprocess, 12.9ms inference, 3.9ms postprocess per image at shape (1, 3, 576, 1024)\n",
            "\n",
            "0: 576x1024 10.3ms\n",
            "Speed: 7.5ms preprocess, 10.3ms inference, 2.5ms postprocess per image at shape (1, 3, 576, 1024)\n",
            "\n",
            "0: 576x1024 11.2ms\n",
            "Speed: 7.7ms preprocess, 11.2ms inference, 2.7ms postprocess per image at shape (1, 3, 576, 1024)\n",
            "\n",
            "0: 576x1024 11.3ms\n",
            "Speed: 6.9ms preprocess, 11.3ms inference, 2.5ms postprocess per image at shape (1, 3, 576, 1024)\n",
            "\n",
            "0: 576x1024 17.7ms\n",
            "Speed: 7.4ms preprocess, 17.7ms inference, 4.0ms postprocess per image at shape (1, 3, 576, 1024)\n",
            "\n",
            "0: 576x1024 10.9ms\n",
            "Speed: 7.5ms preprocess, 10.9ms inference, 3.0ms postprocess per image at shape (1, 3, 576, 1024)\n",
            "\n",
            "0: 576x1024 11.6ms\n",
            "Speed: 8.4ms preprocess, 11.6ms inference, 2.7ms postprocess per image at shape (1, 3, 576, 1024)\n",
            "\n",
            "0: 576x1024 11.4ms\n",
            "Speed: 7.7ms preprocess, 11.4ms inference, 2.7ms postprocess per image at shape (1, 3, 576, 1024)\n",
            "\n",
            "0: 576x1024 10.8ms\n",
            "Speed: 7.4ms preprocess, 10.8ms inference, 4.7ms postprocess per image at shape (1, 3, 576, 1024)\n",
            "\n",
            "0: 576x1024 11.0ms\n",
            "Speed: 7.2ms preprocess, 11.0ms inference, 2.5ms postprocess per image at shape (1, 3, 576, 1024)\n",
            "\n",
            "0: 576x1024 11.8ms\n",
            "Speed: 6.8ms preprocess, 11.8ms inference, 2.5ms postprocess per image at shape (1, 3, 576, 1024)\n",
            "\n",
            "0: 576x1024 10.1ms\n",
            "Speed: 7.5ms preprocess, 10.1ms inference, 2.6ms postprocess per image at shape (1, 3, 576, 1024)\n",
            "\n",
            "0: 576x1024 9.4ms\n",
            "Speed: 6.7ms preprocess, 9.4ms inference, 2.5ms postprocess per image at shape (1, 3, 576, 1024)\n",
            "\n",
            "0: 576x1024 13.8ms\n",
            "Speed: 7.1ms preprocess, 13.8ms inference, 4.1ms postprocess per image at shape (1, 3, 576, 1024)\n",
            "\n",
            "0: 576x1024 12.6ms\n",
            "Speed: 6.9ms preprocess, 12.6ms inference, 5.3ms postprocess per image at shape (1, 3, 576, 1024)\n",
            "\n",
            "0: 576x1024 12.8ms\n",
            "Speed: 6.9ms preprocess, 12.8ms inference, 3.6ms postprocess per image at shape (1, 3, 576, 1024)\n",
            "\n",
            "0: 576x1024 15.7ms\n",
            "Speed: 10.1ms preprocess, 15.7ms inference, 4.6ms postprocess per image at shape (1, 3, 576, 1024)\n",
            "\n",
            "0: 576x1024 11.6ms\n",
            "Speed: 11.6ms preprocess, 11.6ms inference, 2.8ms postprocess per image at shape (1, 3, 576, 1024)\n",
            "\n",
            "0: 576x1024 16.8ms\n",
            "Speed: 11.0ms preprocess, 16.8ms inference, 4.3ms postprocess per image at shape (1, 3, 576, 1024)\n",
            "\n",
            "0: 576x1024 17.7ms\n",
            "Speed: 13.2ms preprocess, 17.7ms inference, 4.2ms postprocess per image at shape (1, 3, 576, 1024)\n",
            "\n",
            "0: 576x1024 13.5ms\n",
            "Speed: 16.6ms preprocess, 13.5ms inference, 3.9ms postprocess per image at shape (1, 3, 576, 1024)\n",
            "\n",
            "0: 576x1024 15.9ms\n",
            "Speed: 13.2ms preprocess, 15.9ms inference, 6.1ms postprocess per image at shape (1, 3, 576, 1024)\n",
            "\n",
            "0: 576x1024 12.6ms\n",
            "Speed: 7.7ms preprocess, 12.6ms inference, 3.7ms postprocess per image at shape (1, 3, 576, 1024)\n",
            "\n",
            "0: 576x1024 10.0ms\n",
            "Speed: 15.7ms preprocess, 10.0ms inference, 3.2ms postprocess per image at shape (1, 3, 576, 1024)\n",
            "\n",
            "0: 576x1024 18.2ms\n",
            "Speed: 8.8ms preprocess, 18.2ms inference, 7.2ms postprocess per image at shape (1, 3, 576, 1024)\n",
            "\n",
            "0: 576x1024 15.3ms\n",
            "Speed: 8.7ms preprocess, 15.3ms inference, 3.8ms postprocess per image at shape (1, 3, 576, 1024)\n",
            "\n",
            "0: 576x1024 15.8ms\n",
            "Speed: 13.1ms preprocess, 15.8ms inference, 3.2ms postprocess per image at shape (1, 3, 576, 1024)\n",
            "\n",
            "0: 576x1024 11.0ms\n",
            "Speed: 9.0ms preprocess, 11.0ms inference, 3.2ms postprocess per image at shape (1, 3, 576, 1024)\n",
            "\n",
            "0: 576x1024 10.2ms\n",
            "Speed: 11.2ms preprocess, 10.2ms inference, 4.0ms postprocess per image at shape (1, 3, 576, 1024)\n",
            "\n",
            "0: 576x1024 21.5ms\n",
            "Speed: 9.0ms preprocess, 21.5ms inference, 3.4ms postprocess per image at shape (1, 3, 576, 1024)\n",
            "\n",
            "0: 576x1024 17.9ms\n",
            "Speed: 10.4ms preprocess, 17.9ms inference, 5.6ms postprocess per image at shape (1, 3, 576, 1024)\n",
            "\n",
            "0: 576x1024 11.4ms\n",
            "Speed: 15.6ms preprocess, 11.4ms inference, 3.1ms postprocess per image at shape (1, 3, 576, 1024)\n",
            "\n",
            "0: 576x1024 11.5ms\n",
            "Speed: 8.5ms preprocess, 11.5ms inference, 3.4ms postprocess per image at shape (1, 3, 576, 1024)\n",
            "\n",
            "0: 576x1024 20.5ms\n",
            "Speed: 6.7ms preprocess, 20.5ms inference, 3.1ms postprocess per image at shape (1, 3, 576, 1024)\n",
            "\n",
            "0: 576x1024 14.6ms\n",
            "Speed: 6.8ms preprocess, 14.6ms inference, 3.1ms postprocess per image at shape (1, 3, 576, 1024)\n",
            "\n",
            "0: 576x1024 12.7ms\n",
            "Speed: 8.6ms preprocess, 12.7ms inference, 3.2ms postprocess per image at shape (1, 3, 576, 1024)\n",
            "\n",
            "0: 576x1024 18.3ms\n",
            "Speed: 10.1ms preprocess, 18.3ms inference, 5.5ms postprocess per image at shape (1, 3, 576, 1024)\n",
            "\n",
            "0: 576x1024 17.8ms\n",
            "Speed: 18.1ms preprocess, 17.8ms inference, 4.0ms postprocess per image at shape (1, 3, 576, 1024)\n",
            "\n",
            "0: 576x1024 17.8ms\n",
            "Speed: 28.4ms preprocess, 17.8ms inference, 4.9ms postprocess per image at shape (1, 3, 576, 1024)\n",
            "\n",
            "0: 576x1024 19.9ms\n",
            "Speed: 9.0ms preprocess, 19.9ms inference, 4.3ms postprocess per image at shape (1, 3, 576, 1024)\n",
            "\n",
            "0: 576x1024 15.9ms\n",
            "Speed: 11.9ms preprocess, 15.9ms inference, 6.6ms postprocess per image at shape (1, 3, 576, 1024)\n",
            "\n",
            "0: 576x1024 19.1ms\n",
            "Speed: 12.4ms preprocess, 19.1ms inference, 4.4ms postprocess per image at shape (1, 3, 576, 1024)\n",
            "\n",
            "0: 576x1024 17.1ms\n",
            "Speed: 10.8ms preprocess, 17.1ms inference, 5.6ms postprocess per image at shape (1, 3, 576, 1024)\n",
            "\n",
            "0: 576x1024 14.4ms\n",
            "Speed: 19.7ms preprocess, 14.4ms inference, 3.5ms postprocess per image at shape (1, 3, 576, 1024)\n",
            "\n",
            "0: 576x1024 11.7ms\n",
            "Speed: 6.8ms preprocess, 11.7ms inference, 3.4ms postprocess per image at shape (1, 3, 576, 1024)\n",
            "\n",
            "0: 576x1024 13.5ms\n",
            "Speed: 18.4ms preprocess, 13.5ms inference, 3.2ms postprocess per image at shape (1, 3, 576, 1024)\n",
            "\n",
            "0: 576x1024 20.0ms\n",
            "Speed: 7.4ms preprocess, 20.0ms inference, 4.0ms postprocess per image at shape (1, 3, 576, 1024)\n",
            "\n",
            "0: 576x1024 15.2ms\n",
            "Speed: 10.8ms preprocess, 15.2ms inference, 4.2ms postprocess per image at shape (1, 3, 576, 1024)\n",
            "\n",
            "0: 576x1024 21.2ms\n",
            "Speed: 16.0ms preprocess, 21.2ms inference, 4.2ms postprocess per image at shape (1, 3, 576, 1024)\n",
            "\n",
            "0: 576x1024 11.5ms\n",
            "Speed: 7.7ms preprocess, 11.5ms inference, 3.5ms postprocess per image at shape (1, 3, 576, 1024)\n",
            "\n",
            "0: 576x1024 20.5ms\n",
            "Speed: 17.0ms preprocess, 20.5ms inference, 5.1ms postprocess per image at shape (1, 3, 576, 1024)\n",
            "\n",
            "0: 576x1024 12.9ms\n",
            "Speed: 13.3ms preprocess, 12.9ms inference, 4.1ms postprocess per image at shape (1, 3, 576, 1024)\n",
            "\n",
            "0: 576x1024 16.7ms\n",
            "Speed: 7.0ms preprocess, 16.7ms inference, 3.8ms postprocess per image at shape (1, 3, 576, 1024)\n",
            "\n",
            "0: 576x1024 12.9ms\n",
            "Speed: 10.9ms preprocess, 12.9ms inference, 3.6ms postprocess per image at shape (1, 3, 576, 1024)\n",
            "\n",
            "0: 576x1024 25.1ms\n",
            "Speed: 10.7ms preprocess, 25.1ms inference, 3.7ms postprocess per image at shape (1, 3, 576, 1024)\n",
            "\n",
            "0: 576x1024 10.9ms\n",
            "Speed: 7.2ms preprocess, 10.9ms inference, 3.7ms postprocess per image at shape (1, 3, 576, 1024)\n",
            "\n",
            "0: 576x1024 11.0ms\n",
            "Speed: 11.0ms preprocess, 11.0ms inference, 3.5ms postprocess per image at shape (1, 3, 576, 1024)\n",
            "\n",
            "0: 576x1024 12.0ms\n",
            "Speed: 14.6ms preprocess, 12.0ms inference, 3.6ms postprocess per image at shape (1, 3, 576, 1024)\n",
            "\n",
            "0: 576x1024 23.1ms\n",
            "Speed: 12.8ms preprocess, 23.1ms inference, 6.6ms postprocess per image at shape (1, 3, 576, 1024)\n",
            "\n",
            "0: 576x1024 20.9ms\n",
            "Speed: 11.5ms preprocess, 20.9ms inference, 7.1ms postprocess per image at shape (1, 3, 576, 1024)\n",
            "\n",
            "0: 576x1024 20.0ms\n",
            "Speed: 11.9ms preprocess, 20.0ms inference, 6.7ms postprocess per image at shape (1, 3, 576, 1024)\n",
            "\n",
            "0: 576x1024 11.6ms\n",
            "Speed: 6.9ms preprocess, 11.6ms inference, 3.5ms postprocess per image at shape (1, 3, 576, 1024)\n",
            "\n",
            "0: 576x1024 14.5ms\n",
            "Speed: 8.8ms preprocess, 14.5ms inference, 4.0ms postprocess per image at shape (1, 3, 576, 1024)\n",
            "\n",
            "0: 576x1024 12.1ms\n",
            "Speed: 6.6ms preprocess, 12.1ms inference, 3.6ms postprocess per image at shape (1, 3, 576, 1024)\n",
            "\n",
            "0: 576x1024 13.9ms\n",
            "Speed: 7.1ms preprocess, 13.9ms inference, 3.6ms postprocess per image at shape (1, 3, 576, 1024)\n",
            "\n",
            "0: 576x1024 11.7ms\n",
            "Speed: 13.3ms preprocess, 11.7ms inference, 3.5ms postprocess per image at shape (1, 3, 576, 1024)\n",
            "\n",
            "0: 576x1024 21.2ms\n",
            "Speed: 10.0ms preprocess, 21.2ms inference, 8.4ms postprocess per image at shape (1, 3, 576, 1024)\n",
            "\n",
            "0: 576x1024 12.2ms\n",
            "Speed: 13.9ms preprocess, 12.2ms inference, 3.7ms postprocess per image at shape (1, 3, 576, 1024)\n",
            "\n",
            "0: 576x1024 22.6ms\n",
            "Speed: 6.6ms preprocess, 22.6ms inference, 5.1ms postprocess per image at shape (1, 3, 576, 1024)\n",
            "\n",
            "0: 576x1024 14.2ms\n",
            "Speed: 17.7ms preprocess, 14.2ms inference, 4.3ms postprocess per image at shape (1, 3, 576, 1024)\n",
            "\n",
            "0: 576x1024 13.3ms\n",
            "Speed: 9.0ms preprocess, 13.3ms inference, 3.5ms postprocess per image at shape (1, 3, 576, 1024)\n",
            "\n",
            "0: 576x1024 19.6ms\n",
            "Speed: 11.1ms preprocess, 19.6ms inference, 3.8ms postprocess per image at shape (1, 3, 576, 1024)\n",
            "\n",
            "0: 576x1024 16.9ms\n",
            "Speed: 8.3ms preprocess, 16.9ms inference, 3.9ms postprocess per image at shape (1, 3, 576, 1024)\n",
            "\n",
            "0: 576x1024 18.0ms\n",
            "Speed: 9.0ms preprocess, 18.0ms inference, 3.7ms postprocess per image at shape (1, 3, 576, 1024)\n",
            "\n",
            "0: 576x1024 12.0ms\n",
            "Speed: 8.8ms preprocess, 12.0ms inference, 3.7ms postprocess per image at shape (1, 3, 576, 1024)\n",
            "\n",
            "0: 576x1024 13.3ms\n",
            "Speed: 10.7ms preprocess, 13.3ms inference, 3.7ms postprocess per image at shape (1, 3, 576, 1024)\n",
            "\n",
            "0: 576x1024 12.1ms\n",
            "Speed: 10.9ms preprocess, 12.1ms inference, 4.1ms postprocess per image at shape (1, 3, 576, 1024)\n",
            "\n",
            "0: 576x1024 13.3ms\n",
            "Speed: 10.3ms preprocess, 13.3ms inference, 4.6ms postprocess per image at shape (1, 3, 576, 1024)\n",
            "\n",
            "0: 576x1024 14.1ms\n",
            "Speed: 11.3ms preprocess, 14.1ms inference, 3.7ms postprocess per image at shape (1, 3, 576, 1024)\n",
            "\n",
            "0: 576x1024 12.9ms\n",
            "Speed: 16.5ms preprocess, 12.9ms inference, 3.9ms postprocess per image at shape (1, 3, 576, 1024)\n",
            "\n",
            "0: 576x1024 23.7ms\n",
            "Speed: 9.5ms preprocess, 23.7ms inference, 5.5ms postprocess per image at shape (1, 3, 576, 1024)\n",
            "\n",
            "0: 576x1024 11.4ms\n",
            "Speed: 14.8ms preprocess, 11.4ms inference, 3.6ms postprocess per image at shape (1, 3, 576, 1024)\n",
            "\n",
            "0: 576x1024 16.3ms\n",
            "Speed: 16.7ms preprocess, 16.3ms inference, 3.5ms postprocess per image at shape (1, 3, 576, 1024)\n",
            "\n",
            "0: 576x1024 16.3ms\n",
            "Speed: 9.8ms preprocess, 16.3ms inference, 4.5ms postprocess per image at shape (1, 3, 576, 1024)\n",
            "\n",
            "0: 576x1024 13.7ms\n",
            "Speed: 10.1ms preprocess, 13.7ms inference, 3.6ms postprocess per image at shape (1, 3, 576, 1024)\n",
            "\n",
            "0: 576x1024 13.7ms\n",
            "Speed: 10.9ms preprocess, 13.7ms inference, 3.5ms postprocess per image at shape (1, 3, 576, 1024)\n",
            "\n",
            "0: 576x1024 11.2ms\n",
            "Speed: 7.2ms preprocess, 11.2ms inference, 9.6ms postprocess per image at shape (1, 3, 576, 1024)\n",
            "\n",
            "0: 576x1024 11.0ms\n",
            "Speed: 14.7ms preprocess, 11.0ms inference, 5.5ms postprocess per image at shape (1, 3, 576, 1024)\n",
            "\n",
            "0: 576x1024 12.2ms\n",
            "Speed: 18.3ms preprocess, 12.2ms inference, 4.2ms postprocess per image at shape (1, 3, 576, 1024)\n",
            "\n",
            "0: 576x1024 18.3ms\n",
            "Speed: 8.3ms preprocess, 18.3ms inference, 4.1ms postprocess per image at shape (1, 3, 576, 1024)\n",
            "\n",
            "0: 576x1024 25.1ms\n",
            "Speed: 18.9ms preprocess, 25.1ms inference, 3.6ms postprocess per image at shape (1, 3, 576, 1024)\n",
            "\n",
            "0: 576x1024 15.9ms\n",
            "Speed: 9.7ms preprocess, 15.9ms inference, 3.5ms postprocess per image at shape (1, 3, 576, 1024)\n",
            "\n",
            "0: 576x1024 17.8ms\n",
            "Speed: 8.7ms preprocess, 17.8ms inference, 3.6ms postprocess per image at shape (1, 3, 576, 1024)\n",
            "\n",
            "0: 576x1024 11.8ms\n",
            "Speed: 11.9ms preprocess, 11.8ms inference, 3.7ms postprocess per image at shape (1, 3, 576, 1024)\n",
            "\n",
            "0: 576x1024 14.9ms\n",
            "Speed: 14.4ms preprocess, 14.9ms inference, 3.6ms postprocess per image at shape (1, 3, 576, 1024)\n",
            "\n",
            "0: 576x1024 17.1ms\n",
            "Speed: 7.0ms preprocess, 17.1ms inference, 3.9ms postprocess per image at shape (1, 3, 576, 1024)\n",
            "\n",
            "0: 576x1024 22.0ms\n",
            "Speed: 6.8ms preprocess, 22.0ms inference, 3.8ms postprocess per image at shape (1, 3, 576, 1024)\n",
            "\n",
            "0: 576x1024 30.1ms\n",
            "Speed: 13.5ms preprocess, 30.1ms inference, 3.8ms postprocess per image at shape (1, 3, 576, 1024)\n",
            "\n",
            "0: 576x1024 10.9ms\n",
            "Speed: 8.3ms preprocess, 10.9ms inference, 2.6ms postprocess per image at shape (1, 3, 576, 1024)\n",
            "\n",
            "0: 576x1024 10.8ms\n",
            "Speed: 9.4ms preprocess, 10.8ms inference, 2.8ms postprocess per image at shape (1, 3, 576, 1024)\n",
            "\n",
            "0: 576x1024 13.9ms\n",
            "Speed: 7.4ms preprocess, 13.9ms inference, 4.2ms postprocess per image at shape (1, 3, 576, 1024)\n",
            "\n",
            "0: 576x1024 13.0ms\n",
            "Speed: 7.6ms preprocess, 13.0ms inference, 3.4ms postprocess per image at shape (1, 3, 576, 1024)\n",
            "\n",
            "0: 576x1024 12.0ms\n",
            "Speed: 8.8ms preprocess, 12.0ms inference, 3.5ms postprocess per image at shape (1, 3, 576, 1024)\n"
          ]
        }
      ],
      "source": [
        "import cv2\n",
        "from ultralytics import YOLO\n",
        "\n",
        "# Load the best YOLO model\n",
        "model = YOLO(\"/content/runs/obb/train/weights/best.pt\")\n",
        "\n",
        "video_path = \"/content/20241218_123441.mp4\"\n",
        "cap = cv2.VideoCapture(video_path)\n",
        "\n",
        "fps = int(cap.get(cv2.CAP_PROP_FPS))\n",
        "width = int(cap.get(cv2.CAP_PROP_FRAME_WIDTH))\n",
        "height = int(cap.get(cv2.CAP_PROP_FRAME_HEIGHT))\n",
        "output_path = \"/content/output_video.mp4\"\n",
        "\n",
        "fourcc = cv2.VideoWriter_fourcc(*\"XVID\")\n",
        "out = cv2.VideoWriter(output_path, fourcc, fps, (width, height))\n",
        "\n",
        "while cap.isOpened():\n",
        "    ret, frame = cap.read()\n",
        "    if not ret:\n",
        "        break\n",
        "\n",
        "    results = model(frame)\n",
        "\n",
        "    threshold = 0.7\n",
        "    for result in results:\n",
        "        if result.boxes is not None:\n",
        "            result.boxes = [box for box in result.boxes if box.conf >= threshold]\n",
        "\n",
        "    annotated_frame = results[0].plot()  # Annotated frame with detections\n",
        "\n",
        "    # Write frame to output video\n",
        "    out.write(annotated_frame)\n",
        "\n",
        "    # cv2.imshow(\"YOLO Detection\", annotated_frame)\n",
        "    # if cv2.waitKey(1) & 0xFF == ord('q'):\n",
        "    #     break\n",
        "\n",
        "cap.release()\n",
        "out.release()\n",
        "cv2.destroyAllWindows()\n"
      ]
    }
  ],
  "metadata": {
    "accelerator": "GPU",
    "colab": {
      "gpuType": "T4",
      "provenance": []
    },
    "kernelspec": {
      "display_name": "Python 3",
      "name": "python3"
    },
    "language_info": {
      "name": "python"
    }
  },
  "nbformat": 4,
  "nbformat_minor": 0
}
